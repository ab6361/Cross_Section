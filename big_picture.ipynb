{
 "cells": [
  {
   "cell_type": "code",
   "execution_count": 2,
   "metadata": {},
   "outputs": [],
   "source": [
    "import matplotlib.pyplot as plt\n",
    "import numpy as np\n",
    "import time, sys\n",
    "sys.path.append('/Users/AbSir/Library/CloudStorage/GoogleDrive-asharda@vols.utk.edu/My Drive/xem2')\n",
    "from common_functions import target_info"
   ]
  },
  {
   "cell_type": "code",
   "execution_count": 3,
   "metadata": {},
   "outputs": [],
   "source": [
    "# EMC slope and Error\n",
    "emc_ratios = {\n",
    "    \"Ni64\": [0.3425, 0.0112],\n",
    "    \"Ni58\": [0.3404, 0.0112],\n",
    "    \"Ti48\": [0.3316, 0.0116],\n",
    "    \"Al27\": [0.2796, 0.0118],\n",
    "    \"Ag108\": [0.3750, 0.0107],\n",
    "    \"Au197\": [0.3770, 0.0104],\n",
    "    \"C12\": [0.2369, 0.0095],\n",
    "    \"Cu63\": [0.3369, 0.0102],\n",
    "    \"Fe54\": [0.3355, 0.0111],\n",
    "    \"Be9\": [], # The calculated slope is too high. Need to check my work\n",
    "    \"Ca40\": [],\n",
    "    \"Ca48\": [0.2908, 0.0098],\n",
    "    \"B10\": [0.2050, 0.0110],\n",
    "    \"B11\": [],\n",
    "    \"Th232\": [0.3500, 0.0115]\n",
    "}\n",
    "\n",
    "target_info ={\n",
    " 'Be9': [4, 9, 0.986],\n",
    " 'B10': [5, 10, 0.21], #Bullshit length\n",
    " 'B11': [5, 11, 0.34], #Bullshit length\n",
    " 'C12': [6, 12, 0.574],\n",
    " 'Ca40': [20, 40, 0.785],\n",
    " 'Ca48': [20, 48, 1.051],\n",
    " 'Ti48': [22, 48, 0.294],\n",
    " 'Fe54': [26, 54, 0.367],\n",
    " 'Ni58': [28, 58, 0.2408],\n",
    " 'Ni64': [28, 64, 0.2607],\n",
    " 'Ag108': [47, 108, 0.528],\n",
    " 'Sn119': [50, 119, 0.4562],\n",
    " 'Th232': [90, 232, 0.409],\n",
    " 'Li6': [3, 6, 0.225],\n",
    " 'Li7': [3, 7, 0.254],\n",
    " 'Al27': [13, 27, 0.46],\n",
    " 'Cu63': [29, 63, 0.942],\n",
    " 'Au197': [79, 197, 0.4047],\n",
    " 'LH2': [1, 1, 0.7247],\n",
    " 'LD2': [1, 2, 1.6698],\n",
    " 'He3': [2, 3, 0.4099],\n",
    " 'He4': [2, 4, 1.2927]\n",
    "}"
   ]
  },
  {
   "cell_type": "markdown",
   "metadata": {},
   "source": [
    "# Plot your EMC ratios with world data"
   ]
  },
  {
   "cell_type": "code",
   "execution_count": 12,
   "metadata": {},
   "outputs": [
    {
     "data": {
      "text/plain": [
       "([<matplotlib.axis.XTick at 0x10ff3b520>,\n",
       "  <matplotlib.axis.XTick at 0x10ff54ac0>,\n",
       "  <matplotlib.axis.XTick at 0x10fe9cf10>,\n",
       "  <matplotlib.axis.XTick at 0x10ff85930>,\n",
       "  <matplotlib.axis.XTick at 0x10ff863e0>,\n",
       "  <matplotlib.axis.XTick at 0x10ff86e90>,\n",
       "  <matplotlib.axis.XTick at 0x10ff87940>,\n",
       "  <matplotlib.axis.XTick at 0x10ff85fc0>,\n",
       "  <matplotlib.axis.XTick at 0x10ffac3a0>,\n",
       "  <matplotlib.axis.XTick at 0x10fface50>],\n",
       " [Text(2.154434690031884, 0, '10'),\n",
       "  Text(2.5615694875280033, 0, '16'),\n",
       "  Text(2.968704285024123, 0, '26'),\n",
       "  Text(3.375839082520243, 0, '38'),\n",
       "  Text(3.7829738800163626, 0, '54'),\n",
       "  Text(4.190108677512482, 0, '73'),\n",
       "  Text(4.597243475008602, 0, '97'),\n",
       "  Text(5.004378272504722, 0, '125'),\n",
       "  Text(5.411513070000842, 0, '158'),\n",
       "  Text(5.818647867496961, 0, '196')])"
      ]
     },
     "execution_count": 12,
     "metadata": {},
     "output_type": "execute_result"
    },
    {
     "data": {
      "image/png": "[encoded data removed]",
      "text/plain": [
       "<Figure size 800x600 with 1 Axes>"
      ]
     },
     "metadata": {},
     "output_type": "display_data"
    }
   ],
   "source": [
    "# Prepare the data for plotting\n",
    "x_values = []\n",
    "y_values = []\n",
    "y_errors = []\n",
    "\n",
    "for key in emc_ratios:\n",
    "    if key in target_info and emc_ratios[key]:\n",
    "        x_values.append(target_info[key][1])  # 3rd value from target_info\n",
    "        y_values.append(emc_ratios[key][0])  # 1st value from emc_ratios\n",
    "        y_errors.append(emc_ratios[key][1])  # 2nd value from emc_ratios\n",
    "\n",
    "# Plotting\n",
    "plt.figure(figsize=(8, 6))\n",
    "xcu_values = np.cbrt(x_values)\n",
    "plt.errorbar(xcu_values, y_values, yerr=y_errors, fmt = 'o', alpha = 0.7, color = 'limegreen', capsize = 3, label = 'XEM2')\n",
    "plt.xlabel(r'A')\n",
    "plt.ylabel('EMC Slope')\n",
    "plt.grid(True, alpha = 0.2)\n",
    "x_ticks = np.linspace(np.min(xcu_values), np.max(xcu_values), len(xcu_values))  # Adjust number of ticks if necessary\n",
    "new_labels = [f'{int(tick**3)}' for tick in x_ticks]  # Inverse transform (cube to get back to original scale)\n",
    "plt.xticks(x_ticks, new_labels)  # Set new labels\n",
    "# plt.savefig(f'Plots/emc_comparison_{time.time():.0f}.pdf')"
   ]
  },
  {
   "cell_type": "code",
   "execution_count": 5,
   "metadata": {},
   "outputs": [
    {
     "ename": "NameError",
     "evalue": "name 'ax9' is not defined",
     "output_type": "error",
     "traceback": [
      "\u001b[0;31m---------------------------------------------------------------------------\u001b[0m",
      "\u001b[0;31mNameError\u001b[0m                                 Traceback (most recent call last)",
      "Cell \u001b[0;32mIn[5], line 7\u001b[0m\n\u001b[1;32m      5\u001b[0m y2err \u001b[38;5;241m=\u001b[39m [\u001b[38;5;241m0.025\u001b[39m, \u001b[38;5;241m0.025\u001b[39m]\n\u001b[1;32m      6\u001b[0m y3err \u001b[38;5;241m=\u001b[39m [\u001b[38;5;241m0.04\u001b[39m]\n\u001b[0;32m----> 7\u001b[0m \u001b[43max9\u001b[49m\u001b[38;5;241m.\u001b[39merrorbar(x2, y2, yerr \u001b[38;5;241m=\u001b[39m y2err, fmt \u001b[38;5;241m=\u001b[39m \u001b[38;5;124m'\u001b[39m\u001b[38;5;124ms\u001b[39m\u001b[38;5;124m'\u001b[39m, alpha \u001b[38;5;241m=\u001b[39m \u001b[38;5;241m0.7\u001b[39m, color \u001b[38;5;241m=\u001b[39m \u001b[38;5;124m'\u001b[39m\u001b[38;5;124mblue\u001b[39m\u001b[38;5;124m'\u001b[39m, capsize \u001b[38;5;241m=\u001b[39m \u001b[38;5;241m3\u001b[39m, label \u001b[38;5;241m=\u001b[39m \u001b[38;5;124m'\u001b[39m\u001b[38;5;124mJLab 12 GeV Boron Paper\u001b[39m\u001b[38;5;124m'\u001b[39m)\n\u001b[1;32m      8\u001b[0m ax9\u001b[38;5;241m.\u001b[39merrorbar(x3, y3, yerr \u001b[38;5;241m=\u001b[39m y3err, fmt \u001b[38;5;241m=\u001b[39m \u001b[38;5;124m'\u001b[39m\u001b[38;5;124m^\u001b[39m\u001b[38;5;124m'\u001b[39m, alpha \u001b[38;5;241m=\u001b[39m \u001b[38;5;241m0.3\u001b[39m, color \u001b[38;5;241m=\u001b[39m \u001b[38;5;124m'\u001b[39m\u001b[38;5;124mred\u001b[39m\u001b[38;5;124m'\u001b[39m, capsize \u001b[38;5;241m=\u001b[39m \u001b[38;5;241m3\u001b[39m, label \u001b[38;5;241m=\u001b[39m \u001b[38;5;124m'\u001b[39m\u001b[38;5;124mSLAC\u001b[39m\u001b[38;5;124m'\u001b[39m)\n",
      "\u001b[0;31mNameError\u001b[0m: name 'ax9' is not defined"
     ]
    }
   ],
   "source": [
    "y2 = [0.195, 0.233]\n",
    "x2 = [10, 12]\n",
    "y3 = [0.337]\n",
    "x3 = [40]\n",
    "y2err = [0.025, 0.025]\n",
    "y3err = [0.04]\n",
    "ax9.errorbar(x2, y2, yerr = y2err, fmt = 's', alpha = 0.7, color = 'blue', capsize = 3, label = 'JLab 12 GeV Boron Paper')\n",
    "ax9.errorbar(x3, y3, yerr = y3err, fmt = '^', alpha = 0.3, color = 'red', capsize = 3, label = 'SLAC')"
   ]
  },
  {
   "cell_type": "code",
   "execution_count": 14,
   "metadata": {},
   "outputs": [
    {
     "name": "stdout",
     "output_type": "stream",
     "text": [
      "Collecting sympy\n",
      "  Downloading sympy-1.12-py3-none-any.whl.metadata (12 kB)\n",
      "Collecting mpmath>=0.19 (from sympy)\n",
      "  Downloading mpmath-1.3.0-py3-none-any.whl.metadata (8.6 kB)\n",
      "Using cached sympy-1.12-py3-none-any.whl (5.7 MB)\n",
      "Using cached mpmath-1.3.0-py3-none-any.whl (536 kB)\n",
      "Installing collected packages: mpmath, sympy\n",
      "Successfully installed mpmath-1.3.0 sympy-1.12\n"
     ]
    }
   ],
   "source": [
    "!pip install sympy"
   ]
  },
  {
   "cell_type": "code",
   "execution_count": 16,
   "metadata": {},
   "outputs": [
    {
     "name": "stdout",
     "output_type": "stream",
     "text": [
      "Jacobian Matrix:\n",
      "Matrix([[-xptar*(-yptar*sin(theta_spec) + cos(theta_spec))/(xptar**2 + yptar**2 + 1)**(3/2), -yptar*(-yptar*sin(theta_spec) + cos(theta_spec))/(xptar**2 + yptar**2 + 1)**(3/2) - sin(theta_spec)/sqrt(xptar**2 + yptar**2 + 1)], [-(yptar*cos(theta_spec) + sin(theta_spec))/xptar**2, cos(theta_spec)/xptar]])\n",
      "Determinant of the Jacobian Matrix:\n",
      "(-xptar**2*sin(theta_spec)**2 - xptar**2*cos(theta_spec)**2 - yptar**2*cos(theta_spec)**2 - 2*yptar*sin(theta_spec)*cos(theta_spec) - sin(theta_spec)**2)/(xptar**4*sqrt(xptar**2 + yptar**2 + 1) + xptar**2*yptar**2*sqrt(xptar**2 + yptar**2 + 1) + xptar**2*sqrt(xptar**2 + yptar**2 + 1))\n"
     ]
    }
   ],
   "source": [
    "from sympy import symbols, cos, sin, sqrt, diff, Matrix\n",
    "from sympy import det\n",
    "\n",
    "# Define variables\n",
    "xptar, yptar, theta_spec = symbols('xptar yptar theta_spec')\n",
    "p = symbols('p', real=True, positive=True)\n",
    "\n",
    "# Expressions\n",
    "pz_spec = p/sqrt(1 + xptar**2 + yptar**2)\n",
    "pz_lab = pz_spec * (cos(theta_spec) - yptar*sin(theta_spec))\n",
    "cos_theta = pz_lab/p\n",
    "\n",
    "# Phi\n",
    "tan_phi = (yptar*cos(theta_spec) + sin(theta_spec))/xptar\n",
    "\n",
    "# Jacobian matrix\n",
    "J = Matrix([[cos_theta, tan_phi]]).jacobian(Matrix([xptar, yptar]))\n",
    "\n",
    "# Print the Jacobian\n",
    "print(\"Jacobian Matrix:\")\n",
    "print(J)\n",
    "determinant = det(J)\n",
    "print(\"Determinant of the Jacobian Matrix:\")\n",
    "print(determinant)\n"
   ]
  },
  {
   "cell_type": "code",
   "execution_count": null,
   "metadata": {},
   "outputs": [],
   "source": []
  }
 ],
 "metadata": {
  "kernelspec": {
   "display_name": "root_env",
   "language": "python",
   "name": "python3"
  },
  "language_info": {
   "codemirror_mode": {
    "name": "ipython",
    "version": 3
   },
   "file_extension": ".py",
   "mimetype": "text/x-python",
   "name": "python",
   "nbconvert_exporter": "python",
   "pygments_lexer": "ipython3",
   "version": "3.10.13"
  }
 },
 "nbformat": 4,
 "nbformat_minor": 2
}
