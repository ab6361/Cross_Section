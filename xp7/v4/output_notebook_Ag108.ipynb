{
 "cells": [
  {
   "cell_type": "markdown",
   "id": "2ed61803",
   "metadata": {
    "tags": [
     "papermill-error-cell-tag"
    ]
   },
   "source": [
    "<span style=\"color:red; font-family:Helvetica Neue, Helvetica, Arial, sans-serif; font-size:2em;\">An Exception was encountered at '<a href=\"#papermill-error-cell\">In [9]</a>'.</span>"
   ]
  },
  {
   "cell_type": "markdown",
   "id": "behind-studio",
   "metadata": {
    "papermill": {
     "duration": 0.004841,
     "end_time": "2024-11-20T19:18:18.029122",
     "exception": false,
     "start_time": "2024-11-20T19:18:18.024281",
     "status": "completed"
    },
    "tags": []
   },
   "source": [
    "# Plotting cross section ratios as a function of Bjorken-x"
   ]
  },
  {
   "cell_type": "markdown",
   "id": "7c5a3e1d",
   "metadata": {
    "papermill": {
     "duration": 0.004498,
     "end_time": "2024-11-20T19:18:18.037872",
     "exception": false,
     "start_time": "2024-11-20T19:18:18.033374",
     "status": "completed"
    },
    "tags": []
   },
   "source": [
    "<h2 style=\"text-align: center; color: orange\">for DNP plots. Also to test out the 'DNP xsec model'. EMC ratios fitted till x = 0.6</h2>"
   ]
  },
  {
   "cell_type": "code",
   "execution_count": 1,
   "id": "respected-tradition",
   "metadata": {
    "execution": {
     "iopub.execute_input": "2024-11-20T19:18:18.048319Z",
     "iopub.status.busy": "2024-11-20T19:18:18.047998Z",
     "iopub.status.idle": "2024-11-20T19:18:18.685888Z",
     "shell.execute_reply": "2024-11-20T19:18:18.685488Z"
    },
    "papermill": {
     "duration": 0.644376,
     "end_time": "2024-11-20T19:18:18.687223",
     "exception": false,
     "start_time": "2024-11-20T19:18:18.042847",
     "status": "completed"
    },
    "tags": []
   },
   "outputs": [],
   "source": [
    "folder = 'xp7'\n",
    "import uproot, time, sys\n",
    "start_time = time.time()\n",
    "sys.path.append('/Users/AbSir/Library/CloudStorage/GoogleDrive-asharda@vols.utk.edu/My Drive/xem2')\n",
    "import numpy as np\n",
    "import matplotlib.pyplot as plt\n",
    "from scipy.interpolate import griddata\n",
    "from scipy import stats\n",
    "from common_functions import read_report, ImportRadcor, target_info, root_hist_to_numpy, csb, jra_nprat, datahist_from_array, mchist_from_array, cereff, baja, E, leaky_cauldron\n",
    "from common_functions import LD2_dict, C12_dict, Dummy_dict, Fe54_dict, Ca40_dict, Be9_dict, Ca48_dict, B10_dict, B11_dict, He4_dict, He3_dict, C12_dict_l2, delta_correction\n",
    "from common_functions import Sn119_dict, Ti48_dict, Ag108_dict, Th232_dict, Ni58_dict, Ni64_dict, Li7_dict, Li6_dict, Al27_dict, Cu63_dict, Au197_dict, cafe_report_path, tinfo_path"
   ]
  },
  {
   "cell_type": "markdown",
   "id": "2c3ac0cd",
   "metadata": {
    "papermill": {
     "duration": 0.004212,
     "end_time": "2024-11-20T19:18:18.696008",
     "exception": false,
     "start_time": "2024-11-20T19:18:18.691796",
     "status": "completed"
    },
    "tags": []
   },
   "source": [
    "\\begin{equation}\n",
    "    \\sigma^{Born}_{data} = \\frac{Y_{data}}{Y_{MC}} \\cdot \\sigma^{Born}_{Model}\n",
    "\\end{equation}"
   ]
  },
  {
   "cell_type": "code",
   "execution_count": 2,
   "id": "321b4baf",
   "metadata": {
    "execution": {
     "iopub.execute_input": "2024-11-20T19:18:18.705413Z",
     "iopub.status.busy": "2024-11-20T19:18:18.705158Z",
     "iopub.status.idle": "2024-11-20T19:18:18.707248Z",
     "shell.execute_reply": "2024-11-20T19:18:18.706906Z"
    },
    "papermill": {
     "duration": 0.008248,
     "end_time": "2024-11-20T19:18:18.708419",
     "exception": false,
     "start_time": "2024-11-20T19:18:18.700171",
     "status": "completed"
    },
    "tags": [
     "parameters"
    ]
   },
   "outputs": [],
   "source": [
    "ntg = 'C12' # What is the nuclei in numerator?"
   ]
  },
  {
   "cell_type": "code",
   "execution_count": 3,
   "id": "1acc68ae",
   "metadata": {
    "execution": {
     "iopub.execute_input": "2024-11-20T19:18:18.718176Z",
     "iopub.status.busy": "2024-11-20T19:18:18.718006Z",
     "iopub.status.idle": "2024-11-20T19:18:18.719787Z",
     "shell.execute_reply": "2024-11-20T19:18:18.719461Z"
    },
    "papermill": {
     "duration": 0.007957,
     "end_time": "2024-11-20T19:18:18.720918",
     "exception": false,
     "start_time": "2024-11-20T19:18:18.712961",
     "status": "completed"
    },
    "tags": [
     "injected-parameters"
    ]
   },
   "outputs": [],
   "source": [
    "# Parameters\n",
    "ntg = \"Ag108\"\n"
   ]
  },
  {
   "cell_type": "code",
   "execution_count": 4,
   "id": "e9267528",
   "metadata": {
    "execution": {
     "iopub.execute_input": "2024-11-20T19:18:18.730737Z",
     "iopub.status.busy": "2024-11-20T19:18:18.730571Z",
     "iopub.status.idle": "2024-11-20T19:18:18.735258Z",
     "shell.execute_reply": "2024-11-20T19:18:18.734963Z"
    },
    "papermill": {
     "duration": 0.010887,
     "end_time": "2024-11-20T19:18:18.736227",
     "exception": false,
     "start_time": "2024-11-20T19:18:18.725340",
     "status": "completed"
    },
    "tags": []
   },
   "outputs": [
    {
     "name": "stdout",
     "output_type": "stream",
     "text": [
      "nsimstring ag108\n",
      "dsimstring ld2\n"
     ]
    }
   ],
   "source": [
    "leaky = 0 # 1 for leaky cauldron, 0 for regular\n",
    "nsimstring = ntg.lower()\n",
    "print(\"nsimstring\", nsimstring)\n",
    "dtg = 'LD2' # What is the nuclei in denominator?\n",
    "dsimstring = dtg.lower()\n",
    "print(\"dsimstring\", dsimstring)\n",
    "ald = 'Dummy' # Aluminium dummy target\n",
    "dang = 20.0 # What is your desired angle?\n",
    "dmom = [2.42, 2.71, 3.04, 3.40, 3.81, 4.27, 4.78, 5.36, 5.878, 6.6] # What are your desired central momenta (just the magnitude)\n",
    "bin_per_mom = 32 # How many bins per momentum?\n",
    "C = 0\n",
    "bin_num = bin_per_mom * len(dmom) # Total number of bins in the combined histogram\n",
    "\n",
    "# Kinematic variables\n",
    "ts, idang = dang, int(dang) # Spectrometer angle\n",
    "Z, A = target_info[ntg][0], target_info[ntg][1]  # Target\n",
    "thick = target_info[ntg][2] # g/cm2. From Cameron's target sheet column 'R'\n",
    "ep_min = {}\n",
    "ep_max = {}\n",
    "\n",
    "# Constants\n",
    "Ei, Mp = 10.54, 0.93825 # Beam energcountsy and proton mass in GeV\n",
    "N_A, Q_E = 6.02e+23, 1.60e-19 # Avogadro's number and charge in 1 electron\n",
    "dpp_up, dpp_down = 10.0, -10.0 # Momentum acceptance upper and lower limit\n",
    "cos_ts = np.cos(np.deg2rad(ts))\n",
    "sin_ts = np.sin(np.deg2rad(ts))\n",
    "\n",
    "for momentum in dmom:\n",
    "    ep_min[momentum] = momentum * (1 + 0.01 * dpp_down)\n",
    "    ep_max[momentum] = momentum * (1 + 0.01 * dpp_up)\n",
    "    phi_up, phi_down, theta_up, theta_down = 100.0, -100.0, 65.0, -65.0 # mrad\n",
    "    domega = (phi_up - phi_down) * (theta_up - theta_down) / 1e6  # diff solid angle in sr\n",
    "    sim_charge = 1.\n",
    "    lumin = thick * sim_charge / A * N_A / Q_E * 1e-39"
   ]
  },
  {
   "cell_type": "markdown",
   "id": "5a01244d",
   "metadata": {
    "papermill": {
     "duration": 0.004296,
     "end_time": "2024-11-20T19:18:18.744899",
     "exception": false,
     "start_time": "2024-11-20T19:18:18.740603",
     "status": "completed"
    },
    "tags": []
   },
   "source": [
    "<h1 align=\"center\">DATA WORK FOR NTG</h1>"
   ]
  },
  {
   "cell_type": "code",
   "execution_count": 5,
   "id": "a11134b7",
   "metadata": {
    "execution": {
     "iopub.execute_input": "2024-11-20T19:18:18.754521Z",
     "iopub.status.busy": "2024-11-20T19:18:18.754336Z",
     "iopub.status.idle": "2024-11-20T19:19:20.858614Z",
     "shell.execute_reply": "2024-11-20T19:19:20.858295Z"
    },
    "papermill": {
     "duration": 62.110788,
     "end_time": "2024-11-20T19:19:20.860039",
     "exception": false,
     "start_time": "2024-11-20T19:18:18.749251",
     "status": "completed"
    },
    "tags": []
   },
   "outputs": [],
   "source": [
    "target_dict_name = f'{ntg}_dict'\n",
    "# target_dict_name = f'{ntg}_dict_l2' # To read ladder 2 carbon runs\n",
    "target_dict = globals()[target_dict_name]\n",
    "delta_hist = {}\n",
    "theta_dict = {}\n",
    "track_hist = {}\n",
    "eff_weight = {}\n",
    "data_delta = np.linspace(-8.0, 8.0, bin_per_mom + 1)\n",
    "\n",
    "for momentum in dmom:\n",
    "    files = [f'/Volumes/smriti/xem2/ROOTfiles/HMS_{run}_skim.root' for run in target_dict[momentum]]\n",
    "    branches = ['H_gtr_dp', 'H_cal_etottracknorm', 'H_gtr_ph', 'H_gtr_th', 'H_cer_npeSum', 'H_bcm_CurrentFlag', 'H_dc_ntrack']\n",
    "    electrons = uproot.concatenate(files, branches)\n",
    "\n",
    "    data_cut = (np.abs(electrons['H_gtr_dp']) < 8) & (electrons['H_cal_etottracknorm'] > 0.7) & (np.abs(electrons['H_gtr_ph']) < 0.032) & (np.abs(electrons['H_gtr_th']) < 0.085) & (electrons['H_cer_npeSum'] > 2) & (electrons['H_bcm_CurrentFlag'] == 1 )\n",
    "    dp_cut = electrons['H_gtr_dp'][data_cut]\n",
    "    theta_cut = electrons['H_gtr_th'][data_cut]\n",
    "    phi_cut = electrons['H_gtr_ph'][data_cut]\n",
    "\n",
    "    # Cherenkov efficiency correction\n",
    "    eff_weight[momentum] = 1 / cereff(dp_cut)\n",
    "\n",
    "    theta_dict[momentum] = np.rad2deg(np.arccos((cos_ts + phi_cut * sin_ts) / np.sqrt(1 + theta_cut * theta_cut + phi_cut * phi_cut)))\n",
    "    delta_hist[momentum] = np.array(dp_cut)"
   ]
  },
  {
   "cell_type": "code",
   "execution_count": 6,
   "id": "096e0b2d",
   "metadata": {
    "execution": {
     "iopub.execute_input": "2024-11-20T19:19:20.870159Z",
     "iopub.status.busy": "2024-11-20T19:19:20.869994Z",
     "iopub.status.idle": "2024-11-20T19:19:21.530175Z",
     "shell.execute_reply": "2024-11-20T19:19:21.529776Z"
    },
    "papermill": {
     "duration": 0.666497,
     "end_time": "2024-11-20T19:19:21.531210",
     "exception": false,
     "start_time": "2024-11-20T19:19:20.864713",
     "status": "completed"
    },
    "tags": []
   },
   "outputs": [
    {
     "name": "stdout",
     "output_type": "stream",
     "text": [
      "Mean scaling factor for Ag108 at 2.42 GeV/c is 0.00037578605259948913\n",
      "Total scaling factor for Ag108 at 2.42 GeV/c is 5322.17730318903\n",
      "Scaling factor for Ag108 at 2.42 GeV/c is 0.00018789302629974457\n",
      "Counts for Ag108 at 2.42 GeV is 5818.491094656849\n",
      "Mean scaling factor for Ag108 at 2.71 GeV/c is 0.00014824817382482535\n",
      "Total scaling factor for Ag108 at 2.71 GeV/c is 6745.445655078564\n",
      "Scaling factor for Ag108 at 2.71 GeV/c is 0.00014824817382482535\n",
      "Counts for Ag108 at 2.71 GeV is 6449.869921953233\n",
      "Mean scaling factor for Ag108 at 3.04 GeV/c is 9.811704310676003e-05\n",
      "Total scaling factor for Ag108 at 3.04 GeV/c is 10191.909257924859\n",
      "Scaling factor for Ag108 at 3.04 GeV/c is 9.811704310676003e-05\n",
      "Counts for Ag108 at 3.04 GeV is 8757.25435261165\n",
      "Mean scaling factor for Ag108 at 3.4 GeV/c is 3.8744962395589945e-05\n",
      "Total scaling factor for Ag108 at 3.4 GeV/c is 25809.806957350993\n",
      "Scaling factor for Ag108 at 3.4 GeV/c is 3.8744962395589945e-05\n",
      "Counts for Ag108 at 3.4 GeV is 19521.713027816873\n",
      "Mean scaling factor for Ag108 at 3.81 GeV/c is 3.97615531306011e-05\n",
      "Total scaling factor for Ag108 at 3.81 GeV/c is 25149.92301018505\n",
      "Scaling factor for Ag108 at 3.81 GeV/c is 3.97615531306011e-05\n",
      "Counts for Ag108 at 3.81 GeV is 16226.736041625127\n",
      "Mean scaling factor for Ag108 at 4.27 GeV/c is 0.00011627148601356256\n",
      "Total scaling factor for Ag108 at 4.27 GeV/c is 34402.24372408397\n",
      "Scaling factor for Ag108 at 4.27 GeV/c is 2.906787150339064e-05\n",
      "Counts for Ag108 at 4.27 GeV is 17642.585551330965\n",
      "Mean scaling factor for Ag108 at 4.78 GeV/c is 1.3187241893191407e-05\n",
      "Total scaling factor for Ag108 at 4.78 GeV/c is 75830.86805409261\n",
      "Scaling factor for Ag108 at 4.78 GeV/c is 1.3187241893191407e-05\n",
      "Counts for Ag108 at 4.78 GeV is 27552.531518911615\n"
     ]
    },
    {
     "name": "stdout",
     "output_type": "stream",
     "text": [
      "Mean scaling factor for Ag108 at 5.36 GeV/c is 5.085734497592732e-06\n",
      "Total scaling factor for Ag108 at 5.36 GeV/c is 196628.43203343338\n",
      "Scaling factor for Ag108 at 5.36 GeV/c is 5.085734497592732e-06\n",
      "Counts for Ag108 at 5.36 GeV is 40897.53852311427\n",
      "Mean scaling factor for Ag108 at 5.878 GeV/c is 1.0613215011664899e-05\n",
      "Total scaling factor for Ag108 at 5.878 GeV/c is 188444.31190754322\n",
      "Scaling factor for Ag108 at 5.878 GeV/c is 5.306607505832449e-06\n",
      "Counts for Ag108 at 5.878 GeV is 18084.85091054552\n",
      "Mean scaling factor for Ag108 at 6.6 GeV/c is 7.5997950403357e-06\n",
      "Total scaling factor for Ag108 at 6.6 GeV/c is 263164.9918695249\n",
      "Scaling factor for Ag108 at 6.6 GeV/c is 3.79989752016785e-06\n",
      "Counts for Ag108 at 6.6 GeV is 4946.968180908208\n"
     ]
    },
    {
     "data": {
      "image/png": "[encoded data removed]",
      "text/plain": [
       "<Figure size 640x480 with 1 Axes>"
      ]
     },
     "metadata": {},
     "output_type": "display_data"
    }
   ],
   "source": [
    "# Calculate the charge normalized yield and the uncertainty per bin\n",
    "if ntg == 'He3' and leaky == 1:\n",
    "    print(\"Analyzing leaky runs\")\n",
    "    delta_bin_contents_2p42_ntg, delta_bin_errors_2p42_ntg = datahist_from_array(delta_hist[2.42], 2.42, data_delta, ntg, eff_weight[2.42] / 1.0015)\n",
    "    delta_bin_contents_2p71_ntg, delta_bin_errors_2p71_ntg = datahist_from_array(delta_hist[2.71], 2.71, data_delta, ntg, eff_weight[2.71] / 1.0537)\n",
    "    delta_bin_contents_3p04_ntg, delta_bin_errors_3p04_ntg = datahist_from_array(delta_hist[3.04], 3.04, data_delta, ntg, eff_weight[3.04] / 1.0539)\n",
    "    delta_bin_contents_3p4_ntg, delta_bin_errors_3p4_ntg = datahist_from_array(delta_hist[3.4], 3.4, data_delta, ntg, eff_weight[3.4] / 1.0818)\n",
    "    delta_bin_contents_3p81_ntg, delta_bin_errors_3p81_ntg = datahist_from_array(delta_hist[3.81], 3.81, data_delta, ntg, eff_weight[3.81] / 1.0838)\n",
    "    delta_bin_contents_4p27_ntg, delta_bin_errors_4p27_ntg = datahist_from_array(delta_hist[4.27], 4.27, data_delta, ntg, eff_weight[4.27] / 1.1104)\n",
    "    delta_bin_contents_4p78_ntg, delta_bin_errors_4p78_ntg = datahist_from_array(delta_hist[4.78], 4.78, data_delta, ntg, eff_weight[4.78] / 1.1141)\n",
    "    delta_bin_contents_5p36_ntg, delta_bin_errors_5p36_ntg = datahist_from_array(delta_hist[5.36], 5.36, data_delta, ntg, eff_weight[5.36] / 1.1810)\n",
    "    delta_bin_contents_5p878_ntg, delta_bin_errors_5p878_ntg = datahist_from_array(delta_hist[5.878], 5.878, data_delta, ntg, eff_weight[5.878] / 1.18045)\n",
    "    delta_bin_contents_6p6_ntg, delta_bin_errors_6p6_ntg = datahist_from_array(delta_hist[6.6], 6.6, data_delta, ntg, eff_weight[6.6] / 1.5401)\n",
    "else:\n",
    "    delta_bin_contents_2p42_ntg, delta_bin_errors_2p42_ntg = datahist_from_array(delta_hist[2.42], 2.42, data_delta, ntg, eff_weight[2.42])\n",
    "    delta_bin_contents_2p71_ntg, delta_bin_errors_2p71_ntg = datahist_from_array(delta_hist[2.71], 2.71, data_delta, ntg, eff_weight[2.71])\n",
    "    delta_bin_contents_3p04_ntg, delta_bin_errors_3p04_ntg = datahist_from_array(delta_hist[3.04], 3.04, data_delta, ntg, eff_weight[3.04])\n",
    "    delta_bin_contents_3p4_ntg, delta_bin_errors_3p4_ntg = datahist_from_array(delta_hist[3.4], 3.4, data_delta, ntg, eff_weight[3.4])\n",
    "    delta_bin_contents_3p81_ntg, delta_bin_errors_3p81_ntg = datahist_from_array(delta_hist[3.81], 3.81, data_delta, ntg, eff_weight[3.81])\n",
    "    delta_bin_contents_4p27_ntg, delta_bin_errors_4p27_ntg = datahist_from_array(delta_hist[4.27], 4.27, data_delta, ntg, eff_weight[4.27])\n",
    "    delta_bin_contents_4p78_ntg, delta_bin_errors_4p78_ntg = datahist_from_array(delta_hist[4.78], 4.78, data_delta, ntg, eff_weight[4.78])\n",
    "    delta_bin_contents_5p36_ntg, delta_bin_errors_5p36_ntg = datahist_from_array(delta_hist[5.36], 5.36, data_delta, ntg, eff_weight[5.36])\n",
    "    delta_bin_contents_5p878_ntg, delta_bin_errors_5p878_ntg = datahist_from_array(delta_hist[5.878], 5.878, data_delta, ntg, eff_weight[5.878])\n",
    "    delta_bin_contents_6p6_ntg, delta_bin_errors_6p6_ntg = datahist_from_array(delta_hist[6.6], 6.6, data_delta, ntg, eff_weight[6.6])\n",
    "\n",
    "_, delta_bin_edges_2p42 = np.histogram(delta_hist[2.42], bins = data_delta)\n",
    "_, delta_bin_edges_2p71 = np.histogram(delta_hist[2.71], bins = data_delta)\n",
    "_, delta_bin_edges_3p04 = np.histogram(delta_hist[3.04], bins = data_delta)\n",
    "_, delta_bin_edges_3p4 = np.histogram(delta_hist[3.4], bins = data_delta)\n",
    "_, delta_bin_edges_3p81 = np.histogram(delta_hist[3.81], bins = data_delta)\n",
    "_, delta_bin_edges_4p27 = np.histogram(delta_hist[4.27], bins = data_delta)\n",
    "_, delta_bin_edges_4p78 = np.histogram(delta_hist[4.78], bins = data_delta)\n",
    "_, delta_bin_edges_5p36 = np.histogram(delta_hist[5.36], bins = data_delta)\n",
    "_, delta_bin_edges_5p878 = np.histogram(delta_hist[5.878], bins = data_delta)\n",
    "_, delta_bin_edges_6p6 = np.histogram(delta_hist[6.6], bins = data_delta)\n",
    "\n",
    "delta_bin_centers_2p42 = (delta_bin_edges_2p42[:-1] + delta_bin_edges_2p42[1:]) / 2\n",
    "delta_bin_centers_2p71 = (delta_bin_edges_2p71[:-1] + delta_bin_edges_2p71[1:]) / 2\n",
    "delta_bin_centers_3p04 = (delta_bin_edges_3p04[:-1] + delta_bin_edges_3p04[1:]) / 2\n",
    "delta_bin_centers_3p4 = (delta_bin_edges_3p4[:-1] + delta_bin_edges_3p4[1:]) / 2\n",
    "delta_bin_centers_3p81 = (delta_bin_edges_3p81[:-1] + delta_bin_edges_3p81[1:]) / 2\n",
    "delta_bin_centers_4p27 = (delta_bin_edges_4p27[:-1] + delta_bin_edges_4p27[1:]) / 2\n",
    "delta_bin_centers_4p78 = (delta_bin_edges_4p78[:-1] + delta_bin_edges_4p78[1:]) / 2\n",
    "delta_bin_centers_5p36 = (delta_bin_edges_5p36[:-1] + delta_bin_edges_5p36[1:]) / 2\n",
    "delta_bin_centers_5p878 = (delta_bin_edges_5p878[:-1] + delta_bin_edges_5p878[1:]) / 2\n",
    "delta_bin_centers_6p6 = (delta_bin_edges_6p6[:-1] + delta_bin_edges_6p6[1:]) / 2\n",
    "\n",
    "binned_eprime_bin_centers_2p42 = 2.42 * (1 + 0.01 * delta_bin_centers_2p42)\n",
    "binned_eprime_bin_centers_2p71 = 2.71 * (1 + 0.01 * delta_bin_centers_2p71)\n",
    "binned_eprime_bin_centers_3p04 = 3.04 * (1 + 0.01 * delta_bin_centers_3p04)\n",
    "binned_eprime_bin_centers_3p4 = 3.4 * (1 + 0.01 * delta_bin_centers_3p4)\n",
    "binned_eprime_bin_centers_3p81 = 3.81 * (1 + 0.01 * delta_bin_centers_3p81)\n",
    "binned_eprime_bin_centers_4p27 = 4.27 * (1 + 0.01 * delta_bin_centers_4p27)\n",
    "binned_eprime_bin_centers_4p78 = 4.78 * (1 + 0.01 * delta_bin_centers_4p78)\n",
    "binned_eprime_bin_centers_5p36 = 5.36 * (1 + 0.01 * delta_bin_centers_5p36)\n",
    "binned_eprime_bin_centers_5p878 = 5.878 * (1 + 0.01 * delta_bin_centers_5p878)\n",
    "binned_eprime_bin_centers_6p6 = 6.6 * (1 + 0.01 * delta_bin_centers_6p6)\n",
    "\n",
    "# Calculate the charge symmetric background fraction per bin\n",
    "csb_frac_2p42_ntg = csb(binned_eprime_bin_centers_2p42, ntg, dang)\n",
    "csb_frac_2p71_ntg = csb(binned_eprime_bin_centers_2p71, ntg, dang)\n",
    "csb_frac_3p04_ntg = csb(binned_eprime_bin_centers_3p04, ntg, dang)\n",
    "csb_frac_3p4_ntg = csb(binned_eprime_bin_centers_3p4, ntg, dang)\n",
    "csb_frac_3p81_ntg = csb(binned_eprime_bin_centers_3p81, ntg, dang)\n",
    "csb_frac_4p27_ntg = csb(binned_eprime_bin_centers_4p27, ntg, dang)\n",
    "csb_frac_4p78_ntg = csb(binned_eprime_bin_centers_4p78, ntg, dang)\n",
    "csb_frac_5p36_ntg = csb(binned_eprime_bin_centers_5p36, ntg, dang)\n",
    "csb_frac_5p878_ntg = csb(binned_eprime_bin_centers_5p878, ntg, dang)\n",
    "csb_frac_6p6_ntg = csb(binned_eprime_bin_centers_6p6, ntg, dang)\n",
    "\n",
    "# Subtract the charge symmetric background fraction from the total yield\n",
    "subtracted_csb_contents_2p42_ntg = delta_bin_contents_2p42_ntg * (1 - csb_frac_2p42_ntg)\n",
    "subtracted_csb_contents_2p71_ntg = delta_bin_contents_2p71_ntg * (1 - csb_frac_2p71_ntg)\n",
    "subtracted_csb_contents_3p04_ntg = delta_bin_contents_3p04_ntg * (1 - csb_frac_3p04_ntg)\n",
    "subtracted_csb_contents_3p4_ntg = delta_bin_contents_3p4_ntg * (1 - csb_frac_3p4_ntg)\n",
    "subtracted_csb_contents_3p81_ntg = delta_bin_contents_3p81_ntg * (1 - csb_frac_3p81_ntg)\n",
    "subtracted_csb_contents_4p27_ntg = delta_bin_contents_4p27_ntg * (1 - csb_frac_4p27_ntg)\n",
    "subtracted_csb_contents_4p78_ntg = delta_bin_contents_4p78_ntg * (1 - csb_frac_4p78_ntg)\n",
    "subtracted_csb_contents_5p36_ntg = delta_bin_contents_5p36_ntg * (1 - csb_frac_5p36_ntg)\n",
    "subtracted_csb_contents_5p878_ntg = delta_bin_contents_5p878_ntg * (1 - csb_frac_5p878_ntg)\n",
    "subtracted_csb_contents_6p6_ntg = delta_bin_contents_6p6_ntg * (1 - csb_frac_6p6_ntg)\n",
    "\n",
    "# Add the errors in quadrature\n",
    "subtracted_csb_errors_2p42_ntg = delta_bin_errors_2p42_ntg * (1 - csb_frac_2p42_ntg)\n",
    "subtracted_csb_errors_2p71_ntg = delta_bin_errors_2p71_ntg * (1 - csb_frac_2p71_ntg)\n",
    "subtracted_csb_errors_3p04_ntg = delta_bin_errors_3p04_ntg * (1 - csb_frac_3p04_ntg)\n",
    "subtracted_csb_errors_3p4_ntg = delta_bin_errors_3p4_ntg * (1 - csb_frac_3p4_ntg)\n",
    "subtracted_csb_errors_3p81_ntg = delta_bin_errors_3p81_ntg * (1 - csb_frac_3p81_ntg)\n",
    "subtracted_csb_errors_4p27_ntg = delta_bin_errors_4p27_ntg * (1 - csb_frac_4p27_ntg)\n",
    "subtracted_csb_errors_4p78_ntg = delta_bin_errors_4p78_ntg * (1 - csb_frac_4p78_ntg)\n",
    "subtracted_csb_errors_5p36_ntg = delta_bin_errors_5p36_ntg * (1 - csb_frac_5p36_ntg)\n",
    "subtracted_csb_errors_5p878_ntg = delta_bin_errors_5p878_ntg * (1 - csb_frac_5p878_ntg)\n",
    "subtracted_csb_errors_6p6_ntg = delta_bin_errors_6p6_ntg * (1 - csb_frac_6p6_ntg)\n",
    "\n",
    "# fig refers to the entire canvas on which plots are drawn. ax refers to a single plot/subplot\n",
    "fig, ax = plt.subplots()\n",
    "ax.errorbar(binned_eprime_bin_centers_2p42, delta_bin_contents_2p42_ntg, yerr = delta_bin_errors_2p42_ntg, fmt = '_', color = 'red', label = '2.42 GeV')\n",
    "ax.errorbar(binned_eprime_bin_centers_2p71, delta_bin_contents_2p71_ntg, yerr = delta_bin_errors_2p71_ntg, fmt = '_', color = 'blue', label = '2.71 GeV')\n",
    "ax.errorbar(binned_eprime_bin_centers_3p04, delta_bin_contents_3p04_ntg, yerr = delta_bin_errors_3p04_ntg, fmt = '_', color = 'green', label = '3.04 GeV')\n",
    "ax.errorbar(binned_eprime_bin_centers_3p4, delta_bin_contents_3p4_ntg, yerr = delta_bin_errors_3p4_ntg, fmt = '_', color = 'purple', label = '3.4 GeV')\n",
    "ax.errorbar(binned_eprime_bin_centers_3p81, delta_bin_contents_3p81_ntg, yerr = delta_bin_errors_3p81_ntg, fmt = '_', color = 'orange', label = '3.81 GeV')\n",
    "ax.errorbar(binned_eprime_bin_centers_4p27, delta_bin_contents_4p27_ntg, yerr = delta_bin_errors_4p27_ntg, fmt = '_', color = 'black', label = '4.27 GeV')\n",
    "ax.errorbar(binned_eprime_bin_centers_4p78, delta_bin_contents_4p78_ntg, yerr = delta_bin_errors_4p78_ntg, fmt = '_', color = 'yellow', label = '4.78 GeV')\n",
    "ax.errorbar(binned_eprime_bin_centers_5p36, delta_bin_contents_5p36_ntg, yerr = delta_bin_errors_5p36_ntg, fmt = '_', color = 'pink', label = '5.36 GeV')\n",
    "ax.errorbar(binned_eprime_bin_centers_5p878, delta_bin_contents_5p878_ntg, yerr = delta_bin_errors_5p878_ntg, fmt = '_', color = 'cyan', label = '5.878 GeV')\n",
    "ax.errorbar(binned_eprime_bin_centers_6p6, delta_bin_contents_6p6_ntg, yerr = delta_bin_errors_6p6_ntg, fmt = '_', color = 'magenta', label = '6.6 GeV')\n",
    "ax.set_ylabel('Charge Normalized Yield')\n",
    "ax.set_xlabel('E\\' (GeV)')\n",
    "ax.set_title('Data')\n",
    "ax.legend()\n",
    "# ax.set_yscale('log')\n",
    "ax.grid(alpha = 0.2)\n",
    "# fig.savefig(f'{folder}/{nsimstring}_{dsimstring}_newyield.pdf')"
   ]
  },
  {
   "cell_type": "code",
   "execution_count": 7,
   "id": "96c8d31a",
   "metadata": {
    "execution": {
     "iopub.execute_input": "2024-11-20T19:19:21.541404Z",
     "iopub.status.busy": "2024-11-20T19:19:21.541266Z",
     "iopub.status.idle": "2024-11-20T19:19:21.543677Z",
     "shell.execute_reply": "2024-11-20T19:19:21.543381Z"
    },
    "papermill": {
     "duration": 0.008409,
     "end_time": "2024-11-20T19:19:21.544648",
     "exception": false,
     "start_time": "2024-11-20T19:19:21.536239",
     "status": "completed"
    },
    "tags": []
   },
   "outputs": [
    {
     "name": "stdout",
     "output_type": "stream",
     "text": [
      "[1.0932539  1.04456039 1.03760417 1.00244708 1.01993163 1.00037902\n",
      " 0.99793494 0.98402251 0.98853465 0.96446991 0.98421052 0.96221384\n",
      " 0.97274216 0.94247322 0.92529439 0.96074512 0.9645917  0.91984972\n",
      " 0.91287116 0.92381052 0.90098874 0.89985709 0.87175423 0.87326311\n",
      " 0.86817065 0.87024536 0.85647684 0.83535255 0.82328153 0.82479041\n",
      " 0.80385473 0.77311134]\n",
      "[0.99905544 0.95665735 0.9523237  0.9219784  0.93996955 0.92377966\n",
      " 0.92330547 0.91215034 0.91801743 0.89727451 0.91723957 0.89826722\n",
      " 0.90960409 0.88272704 0.86800573 0.90264935 0.90762418 0.86679204\n",
      " 0.86144448 0.87298177 0.85257224 0.85262956 0.82706908 0.82954495\n",
      " 0.82572145 0.82868745 0.81653068 0.79730061 0.78665439 0.78895224\n",
      " 0.76974114 0.74106788]\n"
     ]
    }
   ],
   "source": [
    "print(delta_bin_contents_2p42_ntg)\n",
    "print(subtracted_csb_contents_2p42_ntg)"
   ]
  },
  {
   "cell_type": "markdown",
   "id": "ce422212",
   "metadata": {
    "papermill": {
     "duration": 0.004307,
     "end_time": "2024-11-20T19:19:21.553534",
     "exception": false,
     "start_time": "2024-11-20T19:19:21.549227",
     "status": "completed"
    },
    "tags": []
   },
   "source": [
    "<h1 align = 'center'> TARGET SPECIFIC DATA YIELD CORRECTION</h1>"
   ]
  },
  {
   "cell_type": "code",
   "execution_count": 8,
   "id": "aedfd8f8",
   "metadata": {
    "execution": {
     "iopub.execute_input": "2024-11-20T19:19:21.562865Z",
     "iopub.status.busy": "2024-11-20T19:19:21.562711Z",
     "iopub.status.idle": "2024-11-20T19:19:21.576990Z",
     "shell.execute_reply": "2024-11-20T19:19:21.576632Z"
    },
    "papermill": {
     "duration": 0.020282,
     "end_time": "2024-11-20T19:19:21.578087",
     "exception": false,
     "start_time": "2024-11-20T19:19:21.557805",
     "status": "completed"
    },
    "tags": []
   },
   "outputs": [
    {
     "name": "stdout",
     "output_type": "stream",
     "text": [
      "No contamination correction needed\n"
     ]
    }
   ],
   "source": [
    "if ntg == 'Ca48':\n",
    "    print(\"Correcting for Ca40 contamination in Ca48 target\")\n",
    "    C = 0.113 # Ratio of Ca40 contamination in Ca48 target to Ca40 target\n",
    "    cont_tg = 'Ca40'\n",
    "\n",
    "elif ntg == 'B10':\n",
    "    print(\"Correcting for C12 contamination in B10 target\")\n",
    "    C = 0.231 # Ratio of C12 contamination in B10 target to C12 target\n",
    "    cont_tg = 'C12'\n",
    "\n",
    "elif ntg == 'B11':\n",
    "    print(\"Correcting for C12 contamination in B11 target\")\n",
    "    C = 0.236 # Ratio of C12 contamination in B11 target to C12 target\n",
    "    cont_tg = 'C12'\n",
    "\n",
    "elif ntg == 'He3' or ntg == 'LD2' or ntg == 'He4':\n",
    "    print(\"Performing Aluminum cell wall subtraction\")\n",
    "    C = 0.2165 # Mean of Ratio of upstream & downstream dummy to target cell thickness\n",
    "    cont_tg = ald\n",
    "    \n",
    "else:\n",
    "    print(\"No contamination correction needed\")\n",
    "    C = 0\n",
    "\n",
    "if C != 0:\n",
    "    cont_dict_name = f'{cont_tg}_dict' # Dictionary containing the runs for the contaminant\n",
    "    cont_dict = globals()[cont_dict_name]    \n",
    "    for momentum in dmom:\n",
    "        files = [f'/Volumes/smriti/xem2/ROOTfiles/HMS_{run}_skim.root' for run in cont_dict[momentum]]\n",
    "        branches = ['H_gtr_dp', 'H_cal_etottracknorm', 'H_gtr_ph', 'H_gtr_th', 'H_cer_npeSum', 'H_bcm_CurrentFlag']\n",
    "        electrons = uproot.concatenate(files, branches)\n",
    "\n",
    "        data_cut = (np.abs(electrons['H_gtr_dp']) < 8) & (electrons['H_cal_etottracknorm'] > 0.7) & (np.abs(electrons['H_gtr_ph']) < 0.032) & (np.abs(electrons['H_gtr_th']) < 0.085) & (electrons['H_cer_npeSum'] > 2) & (electrons['H_bcm_CurrentFlag'] == 1)\n",
    "        dp_cut = electrons['H_gtr_dp'][data_cut]\n",
    "        theta_cut = electrons['H_gtr_th'][data_cut]\n",
    "        phi_cut = electrons['H_gtr_ph'][data_cut]\n",
    "\n",
    "        eff_weight[momentum] = 1 / cereff(dp_cut) # Cherenkov efficiency correction\n",
    "\n",
    "        theta_dict[momentum] = np.rad2deg(np.arccos((cos_ts + phi_cut * sin_ts) / np.sqrt(1 + theta_cut * theta_cut + phi_cut * phi_cut)))\n",
    "        delta_hist[momentum] = np.array(dp_cut)\n",
    "\n",
    "    # Get yield and yield error from array\n",
    "    contaminant_eprime_bin_contents_2p42, contaminant_eprime_bin_errors_2p42 = datahist_from_array(delta_hist[2.42], 2.42, data_delta, cont_tg, eff_weight[2.42])\n",
    "    contaminant_eprime_bin_contents_2p71, contaminant_eprime_bin_errors_2p71 = datahist_from_array(delta_hist[2.71], 2.71, data_delta, cont_tg, eff_weight[2.71])\n",
    "    contaminant_eprime_bin_contents_3p04, contaminant_eprime_bin_errors_3p04 = datahist_from_array(delta_hist[3.04], 3.04, data_delta, cont_tg, eff_weight[3.04])\n",
    "    contaminant_eprime_bin_contents_3p4, contaminant_eprime_bin_errors_3p4 = datahist_from_array(delta_hist[3.4], 3.4, data_delta, cont_tg, eff_weight[3.4])\n",
    "    contaminant_eprime_bin_contents_3p81, contaminant_eprime_bin_errors_3p81 = datahist_from_array(delta_hist[3.81], 3.81, data_delta, cont_tg, eff_weight[3.81])\n",
    "    contaminant_eprime_bin_contents_4p27, contaminant_eprime_bin_errors_4p27 = datahist_from_array(delta_hist[4.27], 4.27, data_delta, cont_tg, eff_weight[4.27])\n",
    "    contaminant_eprime_bin_contents_4p78, contaminant_eprime_bin_errors_4p78 = datahist_from_array(delta_hist[4.78], 4.78, data_delta, cont_tg, eff_weight[4.78])\n",
    "    contaminant_eprime_bin_contents_5p36, contaminant_eprime_bin_errors_5p36 = datahist_from_array(delta_hist[5.36], 5.36, data_delta, cont_tg, eff_weight[5.36])\n",
    "    contaminant_eprime_bin_contents_5p878, contaminant_eprime_bin_errors_5p878 = datahist_from_array(delta_hist[5.878], 5.878, data_delta, cont_tg, eff_weight[5.878])\n",
    "    contaminant_eprime_bin_contents_6p6, contaminant_eprime_bin_errors_6p6 = datahist_from_array(delta_hist[6.6], 6.6, data_delta, cont_tg, eff_weight[6.6])\n",
    "\n",
    "    # Calculate the charge symmetric background fraction per bin for contaminant\n",
    "    csb_frac_2p42_cont = csb(binned_eprime_bin_centers_2p42, cont_tg, dang)\n",
    "    csb_frac_2p71_cont = csb(binned_eprime_bin_centers_2p71, cont_tg, dang)\n",
    "    csb_frac_3p04_cont = csb(binned_eprime_bin_centers_3p04, cont_tg, dang)\n",
    "    csb_frac_3p4_cont = csb(binned_eprime_bin_centers_3p4, cont_tg, dang)\n",
    "    csb_frac_3p81_cont = csb(binned_eprime_bin_centers_3p81, cont_tg, dang)\n",
    "    csb_frac_4p27_cont = csb(binned_eprime_bin_centers_4p27, cont_tg, dang)\n",
    "    csb_frac_4p78_cont = csb(binned_eprime_bin_centers_4p78, cont_tg, dang)\n",
    "    csb_frac_5p36_cont = csb(binned_eprime_bin_centers_5p36, cont_tg, dang)\n",
    "    csb_frac_5p878_cont = csb(binned_eprime_bin_centers_5p878, cont_tg, dang)\n",
    "    csb_frac_6p6_cont = csb(binned_eprime_bin_centers_6p6, cont_tg, dang)\n",
    "\n",
    "    # Error propagation\n",
    "    contaminant_eprime_bin_errors_2p42 = contaminant_eprime_bin_errors_2p42 * (1 - csb_frac_2p42_cont)\n",
    "    contaminant_eprime_bin_errors_2p71 = contaminant_eprime_bin_errors_2p71 * (1 - csb_frac_2p71_cont)\n",
    "    contaminant_eprime_bin_errors_3p04 = contaminant_eprime_bin_errors_3p04 * (1 - csb_frac_3p04_cont)\n",
    "    contaminant_eprime_bin_errors_3p4 = contaminant_eprime_bin_errors_3p4 * (1 - csb_frac_3p4_cont)\n",
    "    contaminant_eprime_bin_errors_3p81 = contaminant_eprime_bin_errors_3p81 * (1 - csb_frac_3p81_cont)\n",
    "    contaminant_eprime_bin_errors_4p27 = contaminant_eprime_bin_errors_4p27 * (1 - csb_frac_4p27_cont)\n",
    "    contaminant_eprime_bin_errors_4p78 = contaminant_eprime_bin_errors_4p78 * (1 - csb_frac_4p78_cont)\n",
    "    contaminant_eprime_bin_errors_5p36 = contaminant_eprime_bin_errors_5p36 * (1 - csb_frac_5p36_cont)\n",
    "    contaminant_eprime_bin_errors_5p878 = contaminant_eprime_bin_errors_5p878 * (1 - csb_frac_5p878_cont)\n",
    "    contaminant_eprime_bin_errors_6p6 = contaminant_eprime_bin_errors_6p6 * (1 - csb_frac_6p6_cont)\n",
    "\n",
    "    # Subtract CSB from the total yield of the contaminant\n",
    "    subtracted_bin_contents_2p42_cont = contaminant_eprime_bin_contents_2p42 * (1 - csb_frac_2p42_cont)\n",
    "    subtracted_bin_contents_2p71_cont = contaminant_eprime_bin_contents_2p71 * (1 - csb_frac_2p71_cont)\n",
    "    subtracted_bin_contents_3p04_cont = contaminant_eprime_bin_contents_3p04 * (1 - csb_frac_3p04_cont)\n",
    "    subtracted_bin_contents_3p4_cont = contaminant_eprime_bin_contents_3p4 * (1 - csb_frac_3p4_cont)\n",
    "    subtracted_bin_contents_3p81_cont = contaminant_eprime_bin_contents_3p81 * (1 - csb_frac_3p81_cont)\n",
    "    subtracted_bin_contents_4p27_cont = contaminant_eprime_bin_contents_4p27 * (1 - csb_frac_4p27_cont)\n",
    "    subtracted_bin_contents_4p78_cont = contaminant_eprime_bin_contents_4p78 * (1 - csb_frac_4p78_cont)\n",
    "    subtracted_bin_contents_5p36_cont = contaminant_eprime_bin_contents_5p36 * (1 - csb_frac_5p36_cont)\n",
    "    subtracted_bin_contents_5p878_cont = contaminant_eprime_bin_contents_5p878 * (1 - csb_frac_5p878_cont)\n",
    "    subtracted_bin_contents_6p6_cont = contaminant_eprime_bin_contents_6p6 * (1 - csb_frac_6p6_cont)\n",
    "\n",
    "    # Perform Contamination Subtraction\n",
    "    subtracted_bin_contents_2p42_ntg = subtracted_csb_contents_2p42_ntg - (C * subtracted_bin_contents_2p42_cont)\n",
    "    subtracted_bin_contents_2p71_ntg = subtracted_csb_contents_2p71_ntg - (C * subtracted_bin_contents_2p71_cont)\n",
    "    subtracted_bin_contents_3p04_ntg = subtracted_csb_contents_3p04_ntg - (C * subtracted_bin_contents_3p04_cont)\n",
    "    subtracted_bin_contents_3p4_ntg = subtracted_csb_contents_3p4_ntg - (C * subtracted_bin_contents_3p4_cont)\n",
    "    subtracted_bin_contents_3p81_ntg = subtracted_csb_contents_3p81_ntg - (C * subtracted_bin_contents_3p81_cont)\n",
    "    subtracted_bin_contents_4p27_ntg = subtracted_csb_contents_4p27_ntg - (C * subtracted_bin_contents_4p27_cont)\n",
    "    subtracted_bin_contents_4p78_ntg = subtracted_csb_contents_4p78_ntg - (C * subtracted_bin_contents_4p78_cont)\n",
    "    subtracted_bin_contents_5p36_ntg = subtracted_csb_contents_5p36_ntg - (C * subtracted_bin_contents_5p36_cont)\n",
    "    subtracted_bin_contents_5p878_ntg = subtracted_csb_contents_5p878_ntg - (C * subtracted_bin_contents_5p878_cont)\n",
    "    subtracted_bin_contents_6p6_ntg = subtracted_csb_contents_6p6_ntg - (C * subtracted_bin_contents_6p6_cont)\n",
    "\n",
    "    # Add the errors in quadrature\n",
    "    subtracted_bin_errors_2p42_ntg = np.sqrt((subtracted_csb_errors_2p42_ntg)**2 + (C * contaminant_eprime_bin_errors_2p42)**2)\n",
    "    subtracted_bin_errors_2p71_ntg = np.sqrt((subtracted_csb_errors_2p71_ntg)**2 + (C * contaminant_eprime_bin_errors_2p71)**2)\n",
    "    subtracted_bin_errors_3p04_ntg = np.sqrt((subtracted_csb_errors_3p04_ntg)**2 + (C * contaminant_eprime_bin_errors_3p04)**2)\n",
    "    subtracted_bin_errors_3p4_ntg = np.sqrt((subtracted_csb_errors_3p4_ntg)**2 + (C * contaminant_eprime_bin_errors_3p4)**2)\n",
    "    subtracted_bin_errors_3p81_ntg = np.sqrt((subtracted_csb_errors_3p81_ntg)**2 + (C * contaminant_eprime_bin_errors_3p81)**2)\n",
    "    subtracted_bin_errors_4p27_ntg = np.sqrt((subtracted_csb_errors_4p27_ntg)**2 + (C * contaminant_eprime_bin_errors_4p27)**2)\n",
    "    subtracted_bin_errors_4p78_ntg = np.sqrt((subtracted_csb_errors_4p78_ntg)**2 + (C * contaminant_eprime_bin_errors_4p78)**2)\n",
    "    subtracted_bin_errors_5p36_ntg = np.sqrt((subtracted_csb_errors_5p36_ntg)**2 + (C * contaminant_eprime_bin_errors_5p36)**2)\n",
    "    subtracted_bin_errors_5p878_ntg = np.sqrt((subtracted_csb_errors_5p878_ntg)**2 + (C * contaminant_eprime_bin_errors_5p878)**2)\n",
    "    subtracted_bin_errors_6p6_ntg = np.sqrt((subtracted_csb_errors_6p6_ntg)**2 + (C * contaminant_eprime_bin_errors_6p6)**2)\n",
    "\n",
    "    # def cryo_boiling(ntg):\n",
    "    #     if ntg == 'He3':\n",
    "    #         return 1 - \n",
    "    #     elif ntg == 'He4':\n",
    "    #         return 0.90\n",
    "    #     else:\n",
    "    #         return\n",
    "    # if ntg == 'He3' or ntg == 'He4':\n",
    "    #     subtracted_bin_contents_2p42_ntg = subtracted_bin_contents_2p42_ntg * cryo_boiling(ntg)\n",
    "    #     subtracted_bin_contents_2p71_ntg = subtracted_bin_contents_2p71_ntg * cryo_boiling(ntg)\n",
    "    #     subtracted_bin_contents_3p04_ntg = subtracted_bin_contents_3p04_ntg * cryo_boiling(ntg)\n",
    "    #     subtracted_bin_contents_3p4_ntg = subtracted_bin_contents_3p4_ntg * cryo_boiling(ntg)\n",
    "    #     subtracted_bin_contents_3p81_ntg = subtracted_bin_contents_3p81_ntg * cryo_boiling(ntg)\n",
    "    #     subtracted_bin_contents_4p27_ntg = subtracted_bin_contents_4p27_ntg * cryo_boiling(ntg)\n",
    "    #     subtracted_bin_contents_4p78_ntg = subtracted_bin_contents_4p78_ntg * cryo_boiling(ntg)\n",
    "    #     subtracted_bin_contents_5p36_ntg = subtracted_bin_contents_5p36_ntg * cryo_boiling(ntg)\n",
    "    #     subtracted_bin_contents_5p878_ntg = subtracted_bin_contents_5p878_ntg * cryo_boiling(ntg)\n",
    "    #     subtracted_bin_contents_6p6_ntg = subtracted_bin_contents_6p6_ntg * cryo_boiling(ntg)\n",
    "\n",
    "    #     subtracted_bin_errors_2p42_ntg = subtracted_bin_errors_2p42_ntg * cryo_boiling(ntg)\n",
    "    #     subtracted_bin_errors_2p71_ntg = subtracted_bin_errors_2p71_ntg * cryo_boiling(ntg)\n",
    "    #     subtracted_bin_errors_3p04_ntg = subtracted_bin_errors_3p04_ntg * cryo_boiling(ntg)\n",
    "    #     subtracted_bin_errors_3p4_ntg = subtracted_bin_errors_3p4_ntg * cryo_boiling(ntg)\n",
    "    #     subtracted_bin_errors_3p81_ntg = subtracted_bin_errors_3p81_ntg * cryo_boiling(ntg)\n",
    "    #     subtracted_bin_errors_4p27_ntg = subtracted_bin_errors_4p27_ntg * cryo_boiling(ntg)\n",
    "    #     subtracted_bin_errors_4p78_ntg = subtracted_bin_errors_4p78_ntg * cryo_boiling(ntg)\n",
    "    #     subtracted_bin_errors_5p36_ntg = subtracted_bin_errors_5p36_ntg * cryo_boiling(ntg)\n",
    "    #     subtracted_bin_errors_5p878_ntg = subtracted_bin_errors_5p878_ntg * cryo_boiling(ntg)\n",
    "    #     subtracted_bin_errors_6p6_ntg = subtracted_bin_errors_6p6_ntg * cryo_boiling(ntg)\n",
    "\n",
    "    fig, ax = plt.subplots()\n",
    "    ax.errorbar(binned_eprime_bin_centers_2p42, subtracted_bin_contents_2p42_ntg, yerr = subtracted_bin_errors_2p42_ntg, fmt = '_', color = 'red', label = '2.42 GeV') \n",
    "    ax.errorbar(binned_eprime_bin_centers_2p71, subtracted_bin_contents_2p71_ntg, yerr = subtracted_bin_errors_2p71_ntg, fmt = '_', color = 'blue', label = '2.71 GeV')\n",
    "    ax.errorbar(binned_eprime_bin_centers_3p04, subtracted_bin_contents_3p04_ntg, yerr = subtracted_bin_errors_3p04_ntg, fmt = '_', color = 'green', label = '3.04 GeV')\n",
    "    ax.errorbar(binned_eprime_bin_centers_3p4, subtracted_bin_contents_3p4_ntg, yerr = subtracted_bin_errors_3p4_ntg, fmt = '_', color = 'orange', label = '3.4 GeV')\n",
    "    ax.errorbar(binned_eprime_bin_centers_3p81, subtracted_bin_contents_3p81_ntg, yerr = subtracted_bin_errors_3p81_ntg, fmt = '_', color = 'purple', label = '3.81 GeV')\n",
    "    ax.errorbar(binned_eprime_bin_centers_4p27, subtracted_bin_contents_4p27_ntg, yerr = subtracted_bin_errors_4p27_ntg, fmt = '_', color = 'yellow', label = '4.27 GeV')\n",
    "    ax.errorbar(binned_eprime_bin_centers_4p78, subtracted_bin_contents_4p78_ntg, yerr = subtracted_bin_errors_4p78_ntg, fmt = '_', color = 'pink', label = '4.78 GeV')\n",
    "    ax.errorbar(binned_eprime_bin_centers_5p36, subtracted_bin_contents_5p36_ntg, yerr = subtracted_bin_errors_5p36_ntg, fmt = '_', color = 'brown', label = '5.36 GeV')\n",
    "    ax.errorbar(binned_eprime_bin_centers_5p878, subtracted_bin_contents_5p878_ntg, yerr = subtracted_bin_errors_5p878_ntg, fmt = '_', color = 'cyan', label = '5.878 GeV')\n",
    "    ax.errorbar(binned_eprime_bin_centers_6p6, subtracted_bin_contents_6p6_ntg, yerr = subtracted_bin_errors_6p6_ntg, fmt = '_', color = 'limegreen', label = '6.6 GeV')\n",
    "    ax.set_xlabel('E\\' (GeV)')\n",
    "    ax.set_ylabel('Charge Normalized Yield')\n",
    "    ax.set_title('Data-Contamination Subtracted')\n",
    "    ax.grid(alpha = 0.2)\n",
    "    # ax.set_yscale('log')\n",
    "    # fig.savefig(f'{folder}/plots/contamination_subtraction_yield_{ntg}_{time.time():.0f}.pdf')"
   ]
  },
  {
   "cell_type": "markdown",
   "id": "4ca934ee",
   "metadata": {
    "papermill": {
     "duration": 0.00435,
     "end_time": "2024-11-20T19:19:21.587194",
     "exception": false,
     "start_time": "2024-11-20T19:19:21.582844",
     "status": "completed"
    },
    "tags": []
   },
   "source": [
    "<h1 align=\"center\">SIMULATION WORK FOR NTG</h1>\n"
   ]
  },
  {
   "cell_type": "markdown",
   "id": "bca9c5a8",
   "metadata": {
    "tags": [
     "papermill-error-cell-tag"
    ]
   },
   "source": [
    "<span id=\"papermill-error-cell\" style=\"color:red; font-family:Helvetica Neue, Helvetica, Arial, sans-serif; font-size:2em;\">Execution using papermill encountered an exception here and stopped:</span>"
   ]
  },
  {
   "cell_type": "code",
   "execution_count": 9,
   "id": "81800472",
   "metadata": {
    "execution": {
     "iopub.execute_input": "2024-11-20T19:19:21.596591Z",
     "iopub.status.busy": "2024-11-20T19:19:21.596441Z",
     "iopub.status.idle": "2024-11-20T19:19:21.788762Z",
     "shell.execute_reply": "2024-11-20T19:19:21.788149Z"
    },
    "papermill": {
     "duration": 0.198112,
     "end_time": "2024-11-20T19:19:21.789628",
     "exception": true,
     "start_time": "2024-11-20T19:19:21.591516",
     "status": "failed"
    },
    "tags": []
   },
   "outputs": [
    {
     "ename": "FileNotFoundError",
     "evalue": "[Errno 2] No such file or directory: '/Users/AbSir/Library/CloudStorage/GoogleDrive-asharda@vols.utk.edu/My Drive/xem2/xsec_tables/xem2_emc_rc_ag10822_hms.out'",
     "output_type": "error",
     "traceback": [
      "\u001b[0;31m---------------------------------------------------------------------------\u001b[0m",
      "\u001b[0;31mFileNotFoundError\u001b[0m                         Traceback (most recent call last)",
      "Cell \u001b[0;32mIn[9], line 2\u001b[0m\n\u001b[1;32m      1\u001b[0m \u001b[38;5;66;03m# Read the Cross-section table\u001b[39;00m\n\u001b[0;32m----> 2\u001b[0m V1, V2, V3, V4, V5, V6, V7, V8, V9, V10, V11, V12, V13 \u001b[38;5;241m=\u001b[39m \u001b[43mImportRadcor\u001b[49m\u001b[43m(\u001b[49m\u001b[38;5;124;43mf\u001b[39;49m\u001b[38;5;124;43m\"\u001b[39;49m\u001b[38;5;124;43m/Users/AbSir/Library/CloudStorage/GoogleDrive-asharda@vols.utk.edu/My Drive/xem2/xsec_tables/xem2_emc_rc_\u001b[39;49m\u001b[38;5;132;43;01m{\u001b[39;49;00m\u001b[43mnsimstring\u001b[49m\u001b[38;5;132;43;01m}\u001b[39;49;00m\u001b[38;5;124;43m22_hms.out\u001b[39;49m\u001b[38;5;124;43m\"\u001b[39;49m\u001b[43m)\u001b[49m\n\u001b[1;32m      3\u001b[0m \u001b[38;5;28;01mif\u001b[39;00m ntg \u001b[38;5;241m==\u001b[39m \u001b[38;5;124m'\u001b[39m\u001b[38;5;124mLD2\u001b[39m\u001b[38;5;124m'\u001b[39m:\n\u001b[1;32m      4\u001b[0m     V1, V2, V3, V4, V5, V6, V7, V8, V9, V10, V11, V12, V13 \u001b[38;5;241m=\u001b[39m ImportRadcor(\u001b[38;5;124m\"\u001b[39m\u001b[38;5;124m/Users/AbSir/Library/CloudStorage/GoogleDrive-asharda@vols.utk.edu/My Drive/xem2/xsec_tables/xem2_emc_rc_d2cryo22_hms.out\u001b[39m\u001b[38;5;124m\"\u001b[39m)\n",
      "File \u001b[0;32m~/Library/CloudStorage/GoogleDrive-asharda@vols.utk.edu/My Drive/xem2/common_functions.py:56\u001b[0m, in \u001b[0;36mImportRadcor\u001b[0;34m(filename)\u001b[0m\n\u001b[1;32m     54\u001b[0m \u001b[38;5;28;01mdef\u001b[39;00m \u001b[38;5;21mImportRadcor\u001b[39m(filename):\n\u001b[1;32m     55\u001b[0m     vectors \u001b[38;5;241m=\u001b[39m [[] \u001b[38;5;28;01mfor\u001b[39;00m _ \u001b[38;5;129;01min\u001b[39;00m \u001b[38;5;28mrange\u001b[39m(\u001b[38;5;241m13\u001b[39m)]\n\u001b[0;32m---> 56\u001b[0m     \u001b[38;5;28;01mwith\u001b[39;00m \u001b[38;5;28;43mopen\u001b[39;49m\u001b[43m(\u001b[49m\u001b[43mfilename\u001b[49m\u001b[43m,\u001b[49m\u001b[43m \u001b[49m\u001b[38;5;124;43m'\u001b[39;49m\u001b[38;5;124;43mr\u001b[39;49m\u001b[38;5;124;43m'\u001b[39;49m\u001b[43m)\u001b[49m \u001b[38;5;28;01mas\u001b[39;00m infile:\n\u001b[1;32m     57\u001b[0m         \u001b[38;5;28;01mfor\u001b[39;00m line \u001b[38;5;129;01min\u001b[39;00m infile:\n\u001b[1;32m     58\u001b[0m             \u001b[38;5;28;01mif\u001b[39;00m line\u001b[38;5;241m.\u001b[39mstartswith(\u001b[38;5;124m'\u001b[39m\u001b[38;5;124m*\u001b[39m\u001b[38;5;124m'\u001b[39m) \u001b[38;5;129;01mor\u001b[39;00m line\u001b[38;5;241m.\u001b[39mstartswith(\u001b[38;5;124m'\u001b[39m\u001b[38;5;124m *\u001b[39m\u001b[38;5;124m'\u001b[39m):\n",
      "\u001b[0;31mFileNotFoundError\u001b[0m: [Errno 2] No such file or directory: '/Users/AbSir/Library/CloudStorage/GoogleDrive-asharda@vols.utk.edu/My Drive/xem2/xsec_tables/xem2_emc_rc_ag10822_hms.out'"
     ]
    }
   ],
   "source": [
    "# Read the Cross-section table\n",
    "V1, V2, V3, V4, V5, V6, V7, V8, V9, V10, V11, V12, V13 = ImportRadcor(f\"/Users/AbSir/Library/CloudStorage/GoogleDrive-asharda@vols.utk.edu/My Drive/xem2/xsec_tables/xem2_emc_rc_{nsimstring}22_hms.out\")\n",
    "if ntg == 'LD2':\n",
    "    V1, V2, V3, V4, V5, V6, V7, V8, V9, V10, V11, V12, V13 = ImportRadcor(\"/Users/AbSir/Library/CloudStorage/GoogleDrive-asharda@vols.utk.edu/My Drive/xem2/xsec_tables/xem2_emc_rc_d2cryo22_hms.out\")\n",
    "\n",
    "Eprime_dict = {}\n",
    "delta_dict = {}\n",
    "xsec_array = {}\n",
    "mc_scale = {}\n",
    "thetadict = {}\n",
    "ytar_weight = {}\n",
    "ytarcut = {}\n",
    "jacobian_weight = {}\n",
    "delta_weight = {}\n",
    "idang = int(dang)\n",
    "\n",
    "for momentum in dmom:\n",
    "    mom_str = str(momentum).replace('-', '').replace('.', 'p').rstrip('0')\n",
    "    # mom_str = str(momentum).replace('-', '').replace('.', 'p')\n",
    "    # filepath = f\"/Volumes/smriti/xem2/worksim/hms_mc_{nsimstring}_{idang}degm{mom_str}.root\"\n",
    "    # New MC files\n",
    "    filepath = f\"/Volumes/smriti/xem2/worksim/hms_{idang}deg_{mom_str}gev_{nsimstring}.root\"\n",
    "\n",
    "    # Open the file and tree\n",
    "    file = uproot.open(filepath)\n",
    "    tree = file[\"h10\"]\n",
    "\n",
    "    # Load the branches\n",
    "    electrons = tree.arrays([\"hsdeltai\", \"hsytar\", \"hsyptari\", \"hsxptari\", \"stop_id\"], library = 'np')    \n",
    "    nentries = len(electrons[\"hsdeltai\"])\n",
    "\n",
    "    # Apply the cuts\n",
    "    mc_cut = (np.abs(electrons[\"hsdeltai\"]) <= 8) & \\\n",
    "            (np.abs(electrons[\"hsyptari\"]) < 0.032) & \\\n",
    "            (np.abs(electrons[\"hsxptari\"]) < 0.085) & \\\n",
    "            (electrons[\"stop_id\"] == 0)\n",
    "    \n",
    "    # Filter 'hsdelta' with the cuts\n",
    "    hsdelta_cut = electrons[\"hsdeltai\"][mc_cut]\n",
    "    hsyptar_cut = electrons[\"hsyptari\"][mc_cut]\n",
    "    hsxptar_cut = electrons[\"hsxptari\"][mc_cut]\n",
    "    hsytar_cut = electrons[\"hsytar\"][mc_cut]\n",
    "\n",
    "    delta_dict[momentum] = hsdelta_cut\n",
    "\n",
    "    # Dave's delta correction\n",
    "    delta_weight[momentum] = delta_correction(hsdelta_cut)\n",
    "\n",
    "    # Calculate E' and theta (in degrees)\n",
    "    Eprime_dict[momentum] = momentum * (1 + 0.01 * hsdelta_cut)\n",
    "    thetarad = np.arccos((cos_ts + hsyptar_cut * sin_ts) / np.sqrt(1 + hsxptar_cut * hsxptar_cut + hsyptar_cut * hsyptar_cut))\n",
    "    thetadeg = np.rad2deg(thetarad)\n",
    "\n",
    "    # Calculate the ytar acceptance correction factor\n",
    "    ytar_weight[momentum] = -0.00812174 * hsytar_cut**2 - 0.0000415678 * hsytar_cut + 1.00021\n",
    "    ytarcut[momentum] = hsytar_cut\n",
    "\n",
    "    # MC Jacobian\n",
    "    jacobian_weight[momentum] = np.power((1 + np.power(hsxptar_cut, 2) + np.power(hsyptar_cut, 2)), -1.5)\n",
    "        \n",
    "    # Perform the interpolation\n",
    "    points_ntg = np.array([V2, V3]).T # Make a 2D array and transpose it so each array is of the form [E',theta]\n",
    "    points_to_interpolate = np.column_stack((Eprime_dict[momentum], thetadeg))\n",
    "    xsec_array[momentum] = griddata(points_ntg, V9, points_to_interpolate, method = 'linear') # Specify the 2D array of [E's, thetas] as first argument; Radiative cross-section (V9) as the z-axis and (Ep, theta) as the point for which we need the cross-section\n",
    "    mc_scale[momentum] = (lumin * domega * (ep_max[momentum] - ep_min[momentum])) / nentries         # Calculate the scale for simulation\n",
    "    # print(f\"Scale for {momentum} GeV: {mc_scale[momentum]}\")\n",
    "    thetadict[momentum] = thetadeg"
   ]
  },
  {
   "cell_type": "code",
   "execution_count": null,
   "id": "3b727673",
   "metadata": {
    "papermill": {
     "duration": null,
     "end_time": null,
     "exception": null,
     "start_time": null,
     "status": "pending"
    },
    "tags": []
   },
   "outputs": [],
   "source": [
    "hsdelta_min, hsdelta_max = np.min(delta_dict[2.42]), np.max(delta_dict[2.42])\n",
    "print(\"Should be -8 and +8\", hsdelta_min, hsdelta_max)\n",
    "hsdelta_binedges = np.linspace(hsdelta_min, hsdelta_max, bin_per_mom + 1)\n",
    "\n",
    "# This function returns 2 arrays: bin counts (the counts in each bin taking weights into account) and bin edges (the edges of the bins)\n",
    "bin_edges_delta_2p42 = np.histogram(delta_dict[2.42], weights = xsec_array[2.42] * mc_scale[2.42], bins = hsdelta_binedges)[1]\n",
    "bin_edges_delta_2p71 = np.histogram(delta_dict[2.71], weights = xsec_array[2.71] * mc_scale[2.71], bins = hsdelta_binedges)[1]\n",
    "bin_edges_delta_3p04 = np.histogram(delta_dict[3.04], weights = xsec_array[3.04] * mc_scale[3.04], bins = hsdelta_binedges)[1]\n",
    "bin_edges_delta_3p4 = np.histogram(delta_dict[3.4], weights = xsec_array[3.4] * mc_scale[3.4], bins = hsdelta_binedges)[1]\n",
    "bin_edges_delta_3p81 = np.histogram(delta_dict[3.81], weights = xsec_array[3.81] * mc_scale[3.81], bins = hsdelta_binedges)[1]\n",
    "bin_edges_delta_4p27 = np.histogram(delta_dict[4.27], weights = xsec_array[4.27] * mc_scale[4.27], bins = hsdelta_binedges)[1]\n",
    "bin_edges_delta_4p78 = np.histogram(delta_dict[4.78], weights = xsec_array[4.78] * mc_scale[4.78], bins = hsdelta_binedges)[1]\n",
    "bin_edges_delta_5p36 = np.histogram(delta_dict[5.36], weights = xsec_array[5.36] * mc_scale[5.36], bins = hsdelta_binedges)[1]\n",
    "bin_edges_delta_5p878 = np.histogram(delta_dict[5.878], weights = xsec_array[5.878] * mc_scale[5.878], bins = hsdelta_binedges)[1]\n",
    "bin_edges_delta_6p6 = np.histogram(delta_dict[6.6], weights = xsec_array[6.6] * mc_scale[6.6], bins = hsdelta_binedges)[1]\n",
    "\n",
    "# Gets the yield and yield error\n",
    "bin_counts_eprime_2p42_mc_ntg, bin_errors_eprime_2p42_mc_ntg = mchist_from_array(delta_dict[2.42], xsec_array[2.42] * mc_scale[2.42] * ytar_weight[2.42] * jacobian_weight[2.42] * delta_weight[2.42], hsdelta_binedges)\n",
    "bin_counts_eprime_2p71_mc_ntg, bin_errors_eprime_2p71_mc_ntg = mchist_from_array(delta_dict[2.71], xsec_array[2.71] * mc_scale[2.71] * ytar_weight[2.71] * jacobian_weight[2.71] * delta_weight[2.71], hsdelta_binedges)\n",
    "bin_counts_eprime_3p04_mc_ntg, bin_errors_eprime_3p04_mc_ntg = mchist_from_array(delta_dict[3.04], xsec_array[3.04] * mc_scale[3.04] * ytar_weight[3.04] * jacobian_weight[3.04] * delta_weight[3.04], hsdelta_binedges)\n",
    "bin_counts_eprime_3p4_mc_ntg, bin_errors_eprime_3p4_mc_ntg = mchist_from_array(delta_dict[3.4], xsec_array[3.4] * mc_scale[3.4] * ytar_weight[3.4] * jacobian_weight[3.4] * delta_weight[3.4], hsdelta_binedges)\n",
    "bin_counts_eprime_3p81_mc_ntg, bin_errors_eprime_3p81_mc_ntg = mchist_from_array(delta_dict[3.81], xsec_array[3.81] * mc_scale[3.81] * ytar_weight[3.81] * jacobian_weight[3.81] * delta_weight[3.81], hsdelta_binedges)\n",
    "bin_counts_eprime_4p27_mc_ntg, bin_errors_eprime_4p27_mc_ntg = mchist_from_array(delta_dict[4.27], xsec_array[4.27] * mc_scale[4.27] * ytar_weight[4.27] * jacobian_weight[4.27] * delta_weight[4.27], hsdelta_binedges)\n",
    "bin_counts_eprime_4p78_mc_ntg, bin_errors_eprime_4p78_mc_ntg = mchist_from_array(delta_dict[4.78], xsec_array[4.78] * mc_scale[4.78] * ytar_weight[4.78] * jacobian_weight[4.78] * delta_weight[4.78], hsdelta_binedges)\n",
    "bin_counts_eprime_5p36_mc_ntg, bin_errors_eprime_5p36_mc_ntg = mchist_from_array(delta_dict[5.36], xsec_array[5.36] * mc_scale[5.36] * ytar_weight[5.36] * jacobian_weight[5.36] * delta_weight[5.36], hsdelta_binedges)\n",
    "bin_counts_eprime_5p878_mc_ntg, bin_errors_eprime_5p878_mc_ntg = mchist_from_array(delta_dict[5.878], xsec_array[5.878] * mc_scale[5.878] * ytar_weight[5.878] * jacobian_weight[5.878] * delta_weight[5.878], hsdelta_binedges)\n",
    "bin_counts_eprime_6p6_mc_ntg, bin_errors_eprime_6p6_mc_ntg = mchist_from_array(delta_dict[6.6], xsec_array[6.6] * mc_scale[6.6] * ytar_weight[6.6] * jacobian_weight[6.6] * delta_weight[6.6], hsdelta_binedges)\n",
    "\n",
    "bin_centers_delta_2p42 = (bin_edges_delta_2p42[:-1] + bin_edges_delta_2p42[1:]) / 2\n",
    "bin_centers_delta_2p71 = (bin_edges_delta_2p71[:-1] + bin_edges_delta_2p71[1:]) / 2\n",
    "bin_centers_delta_3p04 = (bin_edges_delta_3p04[:-1] + bin_edges_delta_3p04[1:]) / 2\n",
    "bin_centers_delta_3p4 = (bin_edges_delta_3p4[:-1] + bin_edges_delta_3p4[1:]) / 2\n",
    "bin_centers_delta_3p81 = (bin_edges_delta_3p81[:-1] + bin_edges_delta_3p81[1:]) / 2\n",
    "bin_centers_delta_4p27 = (bin_edges_delta_4p27[:-1] + bin_edges_delta_4p27[1:]) / 2\n",
    "bin_centers_delta_4p78 = (bin_edges_delta_4p78[:-1] + bin_edges_delta_4p78[1:]) / 2\n",
    "bin_centers_delta_5p36 = (bin_edges_delta_5p36[:-1] + bin_edges_delta_5p36[1:]) / 2\n",
    "bin_centers_delta_5p878 = (bin_edges_delta_5p878[:-1] + bin_edges_delta_5p878[1:]) / 2\n",
    "bin_centers_delta_6p6 = (bin_edges_delta_6p6[:-1] + bin_edges_delta_6p6[1:]) / 2\n",
    "\n",
    "binned_eprime_bin_centers_2p42_mc_ntg = 2.42 * (1 + 0.01 * bin_centers_delta_2p42)\n",
    "binned_eprime_bin_centers_2p71_mc_ntg = 2.71 * (1 + 0.01 * bin_centers_delta_2p71)\n",
    "binned_eprime_bin_centers_3p04_mc_ntg = 3.04 * (1 + 0.01 * bin_centers_delta_3p04)\n",
    "binned_eprime_bin_centers_3p4_mc_ntg = 3.4 * (1 + 0.01 * bin_centers_delta_3p4)\n",
    "binned_eprime_bin_centers_3p81_mc_ntg = 3.81 * (1 + 0.01 * bin_centers_delta_3p81)\n",
    "binned_eprime_bin_centers_4p27_mc_ntg = 4.27 * (1 + 0.01 * bin_centers_delta_4p27)\n",
    "binned_eprime_bin_centers_4p78_mc_ntg = 4.78 * (1 + 0.01 * bin_centers_delta_4p78)\n",
    "binned_eprime_bin_centers_5p36_mc_ntg = 5.36 * (1 + 0.01 * bin_centers_delta_5p36)\n",
    "binned_eprime_bin_centers_5p878_mc_ntg = 5.878 * (1 + 0.01 * bin_centers_delta_5p878)\n",
    "binned_eprime_bin_centers_6p6_mc_ntg = 6.6 * (1 + 0.01 * bin_centers_delta_6p6)\n",
    "\n",
    "#Plotting the histogram with error bars\n",
    "fig2, ax2 = plt.subplots()\n",
    "ax2.errorbar(binned_eprime_bin_centers_2p42_mc_ntg, bin_counts_eprime_2p42_mc_ntg, yerr = bin_errors_eprime_2p42_mc_ntg, fmt = '_', color = 'black', label = 'Sim 2.42 GeV')\n",
    "ax2.errorbar(binned_eprime_bin_centers_2p71_mc_ntg, bin_counts_eprime_2p71_mc_ntg, yerr = bin_errors_eprime_2p71_mc_ntg, fmt = '_', color = 'black', label = 'Sim 2.71 GeV')\n",
    "ax2.errorbar(binned_eprime_bin_centers_3p04_mc_ntg, bin_counts_eprime_3p04_mc_ntg, yerr = bin_errors_eprime_3p04_mc_ntg, fmt = '_', color = 'black', label = 'Sim 3.04 GeV')\n",
    "ax2.errorbar(binned_eprime_bin_centers_3p4_mc_ntg, bin_counts_eprime_3p4_mc_ntg, yerr = bin_errors_eprime_3p4_mc_ntg, fmt = '_', color = 'black', label = 'Sim 3.4 GeV')\n",
    "ax2.errorbar(binned_eprime_bin_centers_3p81_mc_ntg, bin_counts_eprime_3p81_mc_ntg, yerr = bin_errors_eprime_3p81_mc_ntg, fmt = '_', color = 'black', label = 'Sim 3.81 GeV')\n",
    "ax2.errorbar(binned_eprime_bin_centers_4p27_mc_ntg, bin_counts_eprime_4p27_mc_ntg, yerr = bin_errors_eprime_4p27_mc_ntg, fmt = '_', color = 'black', label = 'Sim 4.27 GeV')\n",
    "ax2.errorbar(binned_eprime_bin_centers_4p78_mc_ntg, bin_counts_eprime_4p78_mc_ntg, yerr = bin_errors_eprime_4p78_mc_ntg, fmt = '_', color = 'black', label = 'Sim 4.78 GeV')\n",
    "ax2.errorbar(binned_eprime_bin_centers_5p36_mc_ntg, bin_counts_eprime_5p36_mc_ntg, yerr = bin_errors_eprime_5p36_mc_ntg, fmt = '_', color = 'black', label = 'Sim 5.36 GeV')\n",
    "ax2.errorbar(binned_eprime_bin_centers_5p878_mc_ntg, bin_counts_eprime_5p878_mc_ntg, yerr = bin_errors_eprime_5p878_mc_ntg, fmt = '_', color = 'black', label = 'Sim 5.878 GeV')\n",
    "ax2.errorbar(binned_eprime_bin_centers_6p6_mc_ntg, bin_counts_eprime_6p6_mc_ntg, yerr = bin_errors_eprime_6p6_mc_ntg, fmt = '_', color = 'black', label = 'Sim 6.6 GeV')\n",
    "ax2.grid(alpha = 0.2)\n",
    "ax2.set_xlabel('E\\'')\n",
    "ax2.set_ylabel('Simulation Yield')\n",
    "# ax2.set_yscale('log')\n",
    "# ax.legend() \n",
    "ax2.set_title(f'{ntg}@{dang}˚ Simulation')\n",
    "# fig2.savefig(f'{folder}/eprime_{ntg}_{dang}_{start_time:.0f}.pdf')"
   ]
  },
  {
   "cell_type": "code",
   "execution_count": null,
   "id": "6f3bf673",
   "metadata": {
    "papermill": {
     "duration": null,
     "end_time": null,
     "exception": null,
     "start_time": null,
     "status": "pending"
    },
    "tags": []
   },
   "outputs": [],
   "source": [
    "print(bin_counts_eprime_3p81_mc_ntg)"
   ]
  },
  {
   "cell_type": "code",
   "execution_count": null,
   "id": "2a2aadcb",
   "metadata": {
    "papermill": {
     "duration": null,
     "end_time": null,
     "exception": null,
     "start_time": null,
     "status": "pending"
    },
    "tags": []
   },
   "outputs": [],
   "source": [
    "if C == 0:\n",
    "    subtracted_bin_contents_2p42_ntg = subtracted_csb_contents_2p42_ntg\n",
    "    subtracted_bin_contents_2p71_ntg = subtracted_csb_contents_2p71_ntg\n",
    "    subtracted_bin_contents_3p04_ntg = subtracted_csb_contents_3p04_ntg\n",
    "    subtracted_bin_contents_3p4_ntg = subtracted_csb_contents_3p4_ntg\n",
    "    subtracted_bin_contents_3p81_ntg = subtracted_csb_contents_3p81_ntg\n",
    "    subtracted_bin_contents_4p27_ntg = subtracted_csb_contents_4p27_ntg\n",
    "    subtracted_bin_contents_4p78_ntg = subtracted_csb_contents_4p78_ntg\n",
    "    subtracted_bin_contents_5p36_ntg = subtracted_csb_contents_5p36_ntg\n",
    "    subtracted_bin_contents_5p878_ntg = subtracted_csb_contents_5p878_ntg\n",
    "    subtracted_bin_contents_6p6_ntg = subtracted_csb_contents_6p6_ntg\n",
    "\n",
    "    subtracted_bin_errors_2p42_ntg = subtracted_csb_errors_2p42_ntg\n",
    "    subtracted_bin_errors_2p71_ntg = subtracted_csb_errors_2p71_ntg\n",
    "    subtracted_bin_errors_3p04_ntg = subtracted_csb_errors_3p04_ntg\n",
    "    subtracted_bin_errors_3p4_ntg = subtracted_csb_errors_3p4_ntg\n",
    "    subtracted_bin_errors_3p81_ntg = subtracted_csb_errors_3p81_ntg\n",
    "    subtracted_bin_errors_4p27_ntg = subtracted_csb_errors_4p27_ntg\n",
    "    subtracted_bin_errors_4p78_ntg = subtracted_csb_errors_4p78_ntg\n",
    "    subtracted_bin_errors_5p36_ntg = subtracted_csb_errors_5p36_ntg\n",
    "    subtracted_bin_errors_5p878_ntg = subtracted_csb_errors_5p878_ntg\n",
    "    subtracted_bin_errors_6p6_ntg = subtracted_csb_errors_6p6_ntg"
   ]
  },
  {
   "cell_type": "markdown",
   "id": "0a3b7c97",
   "metadata": {
    "papermill": {
     "duration": null,
     "end_time": null,
     "exception": null,
     "start_time": null,
     "status": "pending"
    },
    "tags": []
   },
   "source": [
    "<h1 align=\"center\">DATA/SIMULATION YIELD RATIO FOR NTG</h1>\n"
   ]
  },
  {
   "cell_type": "code",
   "execution_count": null,
   "id": "ffc1b755",
   "metadata": {
    "papermill": {
     "duration": null,
     "end_time": null,
     "exception": null,
     "start_time": null,
     "status": "pending"
    },
    "tags": []
   },
   "outputs": [],
   "source": [
    "ratio_eprime_2p42_ntg = subtracted_bin_contents_2p42_ntg / bin_counts_eprime_2p42_mc_ntg\n",
    "ratio_eprime_2p71_ntg = subtracted_bin_contents_2p71_ntg / bin_counts_eprime_2p71_mc_ntg\n",
    "ratio_eprime_3p04_ntg = subtracted_bin_contents_3p04_ntg / bin_counts_eprime_3p04_mc_ntg\n",
    "ratio_eprime_3p4_ntg = subtracted_bin_contents_3p4_ntg / bin_counts_eprime_3p4_mc_ntg\n",
    "ratio_eprime_3p81_ntg = subtracted_bin_contents_3p81_ntg / bin_counts_eprime_3p81_mc_ntg\n",
    "ratio_eprime_4p27_ntg = subtracted_bin_contents_4p27_ntg / bin_counts_eprime_4p27_mc_ntg\n",
    "ratio_eprime_4p78_ntg = subtracted_bin_contents_4p78_ntg / bin_counts_eprime_4p78_mc_ntg\n",
    "ratio_eprime_5p36_ntg = subtracted_bin_contents_5p36_ntg / bin_counts_eprime_5p36_mc_ntg\n",
    "ratio_eprime_5p878_ntg = subtracted_bin_contents_5p878_ntg / bin_counts_eprime_5p878_mc_ntg\n",
    "ratio_eprime_6p6_ntg = subtracted_bin_contents_6p6_ntg / bin_counts_eprime_6p6_mc_ntg\n",
    "\n",
    "# Add errors in quadrature. First is data and second is MC\n",
    "ratio_errors_2p42_ntg = ratio_eprime_2p42_ntg * np.sqrt((subtracted_bin_errors_2p42_ntg / subtracted_bin_contents_2p42_ntg)**2 + (bin_errors_eprime_2p42_mc_ntg / bin_counts_eprime_2p42_mc_ntg)**2)\n",
    "ratio_errors_2p71_ntg = ratio_eprime_2p71_ntg * np.sqrt((subtracted_bin_errors_2p71_ntg / subtracted_bin_contents_2p71_ntg)**2 + (bin_errors_eprime_2p71_mc_ntg / bin_counts_eprime_2p71_mc_ntg)**2)\n",
    "ratio_errors_3p04_ntg = ratio_eprime_3p04_ntg * np.sqrt((subtracted_bin_errors_3p04_ntg / subtracted_bin_contents_3p04_ntg)**2 + (bin_errors_eprime_3p04_mc_ntg / bin_counts_eprime_3p04_mc_ntg)**2)\n",
    "ratio_errors_3p4_ntg = ratio_eprime_3p4_ntg * np.sqrt((subtracted_bin_errors_3p4_ntg / subtracted_bin_contents_3p4_ntg)**2 + (bin_errors_eprime_3p4_mc_ntg / bin_counts_eprime_3p4_mc_ntg)**2)\n",
    "ratio_errors_3p81_ntg = ratio_eprime_3p81_ntg * np.sqrt((subtracted_bin_errors_3p81_ntg / subtracted_bin_contents_3p81_ntg)**2 + (bin_errors_eprime_3p81_mc_ntg / bin_counts_eprime_3p81_mc_ntg)**2)\n",
    "ratio_errors_4p27_ntg = ratio_eprime_4p27_ntg * np.sqrt((subtracted_bin_errors_4p27_ntg / subtracted_bin_contents_4p27_ntg)**2 + (bin_errors_eprime_4p27_mc_ntg / bin_counts_eprime_4p27_mc_ntg)**2)\n",
    "ratio_errors_4p78_ntg = ratio_eprime_4p78_ntg * np.sqrt((subtracted_bin_errors_4p78_ntg / subtracted_bin_contents_4p78_ntg)**2 + (bin_errors_eprime_4p78_mc_ntg / bin_counts_eprime_4p78_mc_ntg)**2)\n",
    "ratio_errors_5p36_ntg = ratio_eprime_5p36_ntg * np.sqrt((subtracted_bin_errors_5p36_ntg / subtracted_bin_contents_5p36_ntg)**2 + (bin_errors_eprime_5p36_mc_ntg / bin_counts_eprime_5p36_mc_ntg)**2)\n",
    "ratio_errors_5p878_ntg = ratio_eprime_5p878_ntg * np.sqrt((subtracted_bin_errors_5p878_ntg / subtracted_bin_contents_5p878_ntg)**2 + (bin_errors_eprime_5p878_mc_ntg / bin_counts_eprime_5p878_mc_ntg)**2)\n",
    "ratio_errors_6p6_ntg = ratio_eprime_6p6_ntg * np.sqrt((subtracted_bin_errors_6p6_ntg / subtracted_bin_contents_6p6_ntg)**2 + (bin_errors_eprime_6p6_mc_ntg / bin_counts_eprime_6p6_mc_ntg)**2)\n",
    "\n",
    "fig2, ax2 = plt.subplots()\n",
    "ax2.errorbar(binned_eprime_bin_centers_2p42, ratio_eprime_2p42_ntg, yerr = ratio_errors_2p42_ntg, fmt = '_', color = 'limegreen', label = '2.42 GeV')\n",
    "ax2.errorbar(binned_eprime_bin_centers_2p71, ratio_eprime_2p71_ntg, yerr = ratio_errors_2p71_ntg, fmt = '_', color = 'blue', label = '2.71 GeV')\n",
    "ax2.errorbar(binned_eprime_bin_centers_3p04, ratio_eprime_3p04_ntg, yerr = ratio_errors_3p04_ntg, fmt = '_', color = 'green', label = '3.04 GeV')\n",
    "ax2.errorbar(binned_eprime_bin_centers_3p4, ratio_eprime_3p4_ntg, yerr = ratio_errors_3p4_ntg, fmt = '_', color = 'orange', label = '3.4 GeV')\n",
    "ax2.errorbar(binned_eprime_bin_centers_3p81, ratio_eprime_3p81_ntg, yerr = ratio_errors_3p81_ntg, fmt = '_', color = 'purple', label = '3.81 GeV')\n",
    "ax2.errorbar(binned_eprime_bin_centers_4p27, ratio_eprime_4p27_ntg, yerr = ratio_errors_4p27_ntg, fmt = '_', color = 'yellow', label = '4.27 GeV')\n",
    "ax2.errorbar(binned_eprime_bin_centers_4p78, ratio_eprime_4p78_ntg, yerr = ratio_errors_4p78_ntg, fmt = '_', color = 'red', label = '4.78 GeV')\n",
    "ax2.errorbar(binned_eprime_bin_centers_5p36, ratio_eprime_5p36_ntg, yerr = ratio_errors_5p36_ntg, fmt = '_', color = 'brown', label = '5.36 GeV')\n",
    "# ax2.errorbar(binned_eprime_bin_centers_5p878, ratio_eprime_5p878_ntg, yerr = ratio_errors_5p878_ntg, fmt = '_', color = 'cyan', label = '5.878 GeV')\n",
    "# ax2.errorbar(binned_eprime_bin_centers_6p6, ratio_eprime_6p6_ntg, yerr = ratio_errors_6p6_ntg, fmt = '_', color = 'lightgreen', label = '6.6 GeV')\n",
    "ax2.set_xlabel('E\\'')\n",
    "ax2.set_ylabel('DATA/SIM')\n",
    "ax2.set_title(f'{ntg}@{idang}˚')\n",
    "ax2.grid(alpha = 0.2)\n",
    "# ax2.set_ylim(0.5, 1.1)\n",
    "# fig2.savefig(f'{folder}/yieldratio_{ntg}_{dang}_{folder}withsubt{thick}_{start_time:.0f}.pdf')"
   ]
  },
  {
   "cell_type": "code",
   "execution_count": null,
   "id": "dee4164f",
   "metadata": {
    "papermill": {
     "duration": null,
     "end_time": null,
     "exception": null,
     "start_time": null,
     "status": "pending"
    },
    "tags": []
   },
   "outputs": [],
   "source": [
    "plt.errorbar(binned_eprime_bin_centers_3p81, ratio_eprime_3p81_ntg, yerr = ratio_errors_3p81_ntg, fmt = '_', color = 'purple', label = '3.81 GeV')\n",
    "# baja()"
   ]
  },
  {
   "cell_type": "markdown",
   "id": "e57f4515",
   "metadata": {
    "papermill": {
     "duration": null,
     "end_time": null,
     "exception": null,
     "start_time": null,
     "status": "pending"
    },
    "tags": []
   },
   "source": [
    "<h1 align=\"center\">BORN CROSS SECTION CALCULATION FOR NTG</h1>\n"
   ]
  },
  {
   "cell_type": "code",
   "execution_count": null,
   "id": "bda89164",
   "metadata": {
    "papermill": {
     "duration": null,
     "end_time": null,
     "exception": null,
     "start_time": null,
     "status": "pending"
    },
    "tags": []
   },
   "outputs": [],
   "source": [
    "# Get points to interpolate based on angle and E'. Common for ntg and dtg\n",
    "points_to_interpolate_2p42 = np.column_stack((binned_eprime_bin_centers_2p42, np.full(len(binned_eprime_bin_centers_2p42), dang)))\n",
    "points_to_interpolate_2p71 = np.column_stack((binned_eprime_bin_centers_2p71, np.full(len(binned_eprime_bin_centers_2p71), dang)))\n",
    "points_to_interpolate_3p04 = np.column_stack((binned_eprime_bin_centers_3p04, np.full(len(binned_eprime_bin_centers_3p04), dang)))\n",
    "points_to_interpolate_3p4 = np.column_stack((binned_eprime_bin_centers_3p4, np.full(len(binned_eprime_bin_centers_3p4), dang)))\n",
    "points_to_interpolate_3p81 = np.column_stack((binned_eprime_bin_centers_3p81, np.full(len(binned_eprime_bin_centers_3p81), dang)))\n",
    "points_to_interpolate_4p27 = np.column_stack((binned_eprime_bin_centers_4p27, np.full(len(binned_eprime_bin_centers_4p27), dang)))\n",
    "points_to_interpolate_4p78 = np.column_stack((binned_eprime_bin_centers_4p78, np.full(len(binned_eprime_bin_centers_4p78), dang)))\n",
    "points_to_interpolate_5p36 = np.column_stack((binned_eprime_bin_centers_5p36, np.full(len(binned_eprime_bin_centers_5p36), dang)))\n",
    "points_to_interpolate_5p878 = np.column_stack((binned_eprime_bin_centers_5p878, np.full(len(binned_eprime_bin_centers_5p878), dang)))\n",
    "points_to_interpolate_6p6 = np.column_stack((binned_eprime_bin_centers_6p6, np.full(len(binned_eprime_bin_centers_6p6), dang)))\n",
    "\n",
    "# Interpolate again to get model Born cross-section\n",
    "born_xsec_array_2p42_ntg = griddata(points_ntg, V6, points_to_interpolate_2p42, method = 'linear') # points is just the whole stack of 2D array of [E', theta] from the table\n",
    "born_xsec_array_2p71_ntg = griddata(points_ntg, V6, points_to_interpolate_2p71, method = 'linear')\n",
    "born_xsec_array_3p04_ntg = griddata(points_ntg, V6, points_to_interpolate_3p04, method = 'linear')\n",
    "born_xsec_array_3p4_ntg = griddata(points_ntg, V6, points_to_interpolate_3p4, method = 'linear')\n",
    "born_xsec_array_3p81_ntg = griddata(points_ntg, V6, points_to_interpolate_3p81, method = 'linear')\n",
    "born_xsec_array_4p27_ntg = griddata(points_ntg, V6, points_to_interpolate_4p27, method = 'linear')\n",
    "born_xsec_array_4p78_ntg = griddata(points_ntg, V6, points_to_interpolate_4p78, method = 'linear')\n",
    "born_xsec_array_5p36_ntg = griddata(points_ntg, V6, points_to_interpolate_5p36, method = 'linear')\n",
    "born_xsec_array_5p878_ntg = griddata(points_ntg, V6, points_to_interpolate_5p878, method = 'linear')\n",
    "born_xsec_array_6p6_ntg = griddata(points_ntg, V6, points_to_interpolate_6p6, method = 'linear')\n",
    "# print(\"Length of born_xsec_array\", len(born_xsec_array))\n",
    "\n",
    "# Get the QE piece\n",
    "qe_array_2p42_ntg = griddata(points_ntg, V8, points_to_interpolate_2p42, method = 'linear')\n",
    "qe_array_2p71_ntg = griddata(points_ntg, V8, points_to_interpolate_2p71, method = 'linear')\n",
    "qe_array_3p04_ntg = griddata(points_ntg, V8, points_to_interpolate_3p04, method = 'linear')\n",
    "qe_array_3p4_ntg = griddata(points_ntg, V8, points_to_interpolate_3p4, method = 'linear')\n",
    "qe_array_3p81_ntg = griddata(points_ntg, V8, points_to_interpolate_3p81, method = 'linear')\n",
    "qe_array_4p27_ntg = griddata(points_ntg, V8, points_to_interpolate_4p27, method = 'linear')\n",
    "qe_array_4p78_ntg = griddata(points_ntg, V8, points_to_interpolate_4p78, method = 'linear')\n",
    "qe_array_5p36_ntg = griddata(points_ntg, V8, points_to_interpolate_5p36, method = 'linear')\n",
    "qe_array_5p878_ntg = griddata(points_ntg, V8, points_to_interpolate_5p878, method = 'linear')\n",
    "qe_array_6p6_ntg = griddata(points_ntg, V8, points_to_interpolate_6p6, method = 'linear')\n",
    "\n",
    "# Interpolate 3rd time to get Coulomb correction factor\n",
    "ccf_2p42_ntg = griddata(points_ntg, V13, points_to_interpolate_2p42, method = 'linear')\n",
    "ccf_2p71_ntg = griddata(points_ntg, V13, points_to_interpolate_2p71, method = 'linear')\n",
    "ccf_3p04_ntg = griddata(points_ntg, V13, points_to_interpolate_3p04, method = 'linear')\n",
    "ccf_3p4_ntg = griddata(points_ntg, V13, points_to_interpolate_3p4, method = 'linear')\n",
    "ccf_3p81_ntg = griddata(points_ntg, V13, points_to_interpolate_3p81, method = 'linear')\n",
    "ccf_4p27_ntg = griddata(points_ntg, V13, points_to_interpolate_4p27, method = 'linear')\n",
    "ccf_4p78_ntg = griddata(points_ntg, V13, points_to_interpolate_4p78, method = 'linear')\n",
    "ccf_5p36_ntg = griddata(points_ntg, V13, points_to_interpolate_5p36, method = 'linear')\n",
    "ccf_5p878_ntg = griddata(points_ntg, V13, points_to_interpolate_5p878, method = 'linear')\n",
    "ccf_6p6_ntg = griddata(points_ntg, V13, points_to_interpolate_6p6, method = 'linear')\n",
    "\n",
    "fig3, ax3 = plt.subplots()\n",
    "# Calculate the data Born cross-section and apply Coloumb corrections\n",
    "born_cross_2p42_ntg = ratio_eprime_2p42_ntg * born_xsec_array_2p42_ntg * ccf_2p42_ntg\n",
    "born_cross_2p71_ntg = ratio_eprime_2p71_ntg * born_xsec_array_2p71_ntg * ccf_2p71_ntg\n",
    "born_cross_3p04_ntg = ratio_eprime_3p04_ntg * born_xsec_array_3p04_ntg * ccf_3p04_ntg\n",
    "born_cross_3p4_ntg= ratio_eprime_3p4_ntg * born_xsec_array_3p4_ntg * ccf_3p4_ntg\n",
    "born_cross_3p81_ntg = ratio_eprime_3p81_ntg * born_xsec_array_3p81_ntg * ccf_3p81_ntg\n",
    "born_cross_4p27_ntg = ratio_eprime_4p27_ntg * born_xsec_array_4p27_ntg * ccf_4p27_ntg\n",
    "born_cross_4p78_ntg = ratio_eprime_4p78_ntg * born_xsec_array_4p78_ntg * ccf_4p78_ntg\n",
    "born_cross_5p36_ntg = ratio_eprime_5p36_ntg * born_xsec_array_5p36_ntg * ccf_5p36_ntg\n",
    "born_cross_5p878_ntg = ratio_eprime_5p878_ntg * born_xsec_array_5p878_ntg * ccf_5p878_ntg\n",
    "born_cross_6p6_ntg= ratio_eprime_6p6_ntg * born_xsec_array_6p6_ntg * ccf_6p6_ntg\n",
    "\n",
    "# print(\"Length of born_cross\", len(born_cross))\n",
    "# print(\"Born cross section\", born_cross)\n",
    "born_errors_2p42_ntg = born_cross_2p42_ntg * ratio_errors_2p42_ntg\n",
    "born_errors_2p71_ntg = born_cross_2p71_ntg * ratio_errors_2p71_ntg\n",
    "born_errors_3p04_ntg = born_cross_3p04_ntg * ratio_errors_3p04_ntg\n",
    "born_errors_3p4_ntg = born_cross_3p4_ntg * ratio_errors_3p4_ntg\n",
    "born_errors_3p81_ntg = born_cross_3p81_ntg * ratio_errors_3p81_ntg\n",
    "born_errors_4p27_ntg = born_cross_4p27_ntg * ratio_errors_4p27_ntg\n",
    "born_errors_4p78_ntg = born_cross_4p78_ntg * ratio_errors_4p78_ntg\n",
    "born_errors_5p36_ntg = born_cross_5p36_ntg * ratio_errors_5p36_ntg\n",
    "born_errors_5p878_ntg = born_cross_5p878_ntg * ratio_errors_5p878_ntg\n",
    "born_errors_6p6_ntg = born_cross_6p6_ntg * ratio_errors_6p6_ntg\n",
    "\n",
    "ax3.errorbar(binned_eprime_bin_centers_2p42, born_cross_2p42_ntg, yerr = born_errors_2p42_ntg, fmt = '_', color = 'limegreen', label = '2.42 GeV')\n",
    "ax3.errorbar(binned_eprime_bin_centers_2p71, born_cross_2p71_ntg, yerr = born_errors_2p71_ntg, fmt = '_', color = 'blue', label = '2.71 GeV')\n",
    "ax3.errorbar(binned_eprime_bin_centers_3p04, born_cross_3p04_ntg, yerr = born_errors_3p04_ntg, fmt = '_', color = 'green', label = '3.04 GeV')\n",
    "ax3.errorbar(binned_eprime_bin_centers_3p4, born_cross_3p4_ntg, yerr = born_errors_3p4_ntg, fmt = '_', color = 'orange', label = '3.4 GeV')\n",
    "ax3.errorbar(binned_eprime_bin_centers_3p81, born_cross_3p81_ntg, yerr = born_errors_3p81_ntg, fmt = '_', color = 'purple', label = '3.81 GeV')\n",
    "ax3.errorbar(binned_eprime_bin_centers_4p27, born_cross_4p27_ntg, yerr = born_errors_4p27_ntg, fmt = '_', color = 'yellow', label = '4.27 GeV')\n",
    "ax3.errorbar(binned_eprime_bin_centers_4p78, born_cross_4p78_ntg, yerr = born_errors_4p78_ntg, fmt = '_', color = 'pink', label = '4.78 GeV')\n",
    "ax3.errorbar(binned_eprime_bin_centers_5p36, born_cross_5p36_ntg, yerr = born_errors_5p36_ntg, fmt = '_', color = 'brown', label = '5.36 GeV')\n",
    "ax3.errorbar(binned_eprime_bin_centers_5p878, born_cross_5p878_ntg, yerr = born_errors_5p878_ntg, fmt = '_', color = 'cyan', label = '5.878 GeV')\n",
    "ax3.errorbar(binned_eprime_bin_centers_6p6, born_cross_6p6_ntg, yerr = born_errors_6p6_ntg, fmt = '_', color = 'red', label = '6.6 GeV')\n",
    "ax3.set_xlabel('E\\'')\n",
    "ax3.set_ylabel('Born Cross Section')\n",
    "ax3.set_title(f'{ntg}@{idang}˚')\n",
    "ax3.set_yscale('log')\n",
    "#ax3.legend()\n",
    "ax3.grid(alpha = 0.2)\n",
    "# fig3.savefig(f'{folder}/xsec_{ntg}_{dang}_{start_time:.0f}.pdf')"
   ]
  },
  {
   "cell_type": "markdown",
   "id": "66792659",
   "metadata": {
    "papermill": {
     "duration": null,
     "end_time": null,
     "exception": null,
     "start_time": null,
     "status": "pending"
    },
    "tags": []
   },
   "source": [
    "<h1 align=\"center\">DATA WORK FOR DUMMY TARGET</h1>\n"
   ]
  },
  {
   "cell_type": "code",
   "execution_count": null,
   "id": "869bf7de",
   "metadata": {
    "papermill": {
     "duration": null,
     "end_time": null,
     "exception": null,
     "start_time": null,
     "status": "pending"
    },
    "tags": []
   },
   "outputs": [],
   "source": [
    "Z, A = 13, 27 # Target\n",
    "Eu = 0.19535 # Ratio of upstream dummy to target cell thickness\n",
    "Ed = 0.23924 # Ratio of downstream dummy to target cell thickness\n",
    "ytar_hist = {}\n",
    "\n",
    "for momentum in dmom:\n",
    "    # Get the runs where data for Dummy target was taken\n",
    "    files = [f'/Volumes/smriti/xem2/ROOTfiles/HMS_{run}_skim.root' for run in Dummy_dict[momentum]]\n",
    "    # Grab relevant bracnhes. ytar needed for upstream/downstream differentiation\n",
    "    branches = ['H_gtr_dp', 'H_cal_etottracknorm', 'H_gtr_ph', 'H_gtr_th', 'H_cer_npeSum', 'H_bcm_CurrentFlag', 'H_gtr_y']\n",
    "    electrons = uproot.concatenate(files, branches)\n",
    "\n",
    "    data_cut = (np.abs(electrons['H_gtr_dp']) < 8) & (electrons['H_cal_etottracknorm'] > 0.7) & (np.abs(electrons['H_gtr_ph']) < 0.032) & (np.abs(electrons['H_gtr_th']) < 0.085) & (electrons['H_cer_npeSum'] > 2) & (electrons['H_bcm_CurrentFlag'] == 1)\n",
    "    dp_cut = electrons['H_gtr_dp'][data_cut]\n",
    "    theta_cut = electrons['H_gtr_th'][data_cut]\n",
    "    phi_cut = electrons['H_gtr_ph'][data_cut]\n",
    "    y_cut = electrons['H_gtr_y'][data_cut]\n",
    "\n",
    "    theta_dict[momentum] = np.rad2deg(np.arccos((cos_ts + phi_cut * sin_ts)/np.sqrt(1 + theta_cut * theta_cut + phi_cut * phi_cut)))\n",
    "    delta_hist[momentum] = np.array(dp_cut)\n",
    "    ytar_hist[momentum] = np.array(y_cut)\n",
    "\n",
    "dummy_eprime_bin_contents_2p42, dummy_eprime_bin_errors_2p42 = datahist_from_array(delta_hist[2.42], 2.42, hsdelta_binedges, ald)\n",
    "dummy_eprime_bin_contents_2p71, dummy_eprime_bin_errors_2p71 = datahist_from_array(delta_hist[2.71], 2.71, hsdelta_binedges, ald)\n",
    "dummy_eprime_bin_contents_3p04, dummy_eprime_bin_errors_3p04 = datahist_from_array(delta_hist[3.04], 3.04, hsdelta_binedges, ald)\n",
    "dummy_eprime_bin_contents_3p4, dummy_eprime_bin_errors_3p4 = datahist_from_array(delta_hist[3.4], 3.4, hsdelta_binedges, ald)\n",
    "dummy_eprime_bin_contents_3p81, dummy_eprime_bin_errors_3p81 = datahist_from_array(delta_hist[3.81], 3.81, hsdelta_binedges, ald)\n",
    "dummy_eprime_bin_contents_4p27, dummy_eprime_bin_errors_4p27 = datahist_from_array(delta_hist[4.27], 4.27, hsdelta_binedges, ald)\n",
    "dummy_eprime_bin_contents_4p78, dummy_eprime_bin_errors_4p78 = datahist_from_array(delta_hist[4.78], 4.78, hsdelta_binedges, ald)\n",
    "dummy_eprime_bin_contents_5p36, dummy_eprime_bin_errors_5p36 = datahist_from_array(delta_hist[5.36], 5.36, hsdelta_binedges, ald)\n",
    "dummy_eprime_bin_contents_5p878, dummy_eprime_bin_errors_5p878 = datahist_from_array(delta_hist[5.878], 5.878, hsdelta_binedges, ald)\n",
    "dummy_eprime_bin_contents_6p6, dummy_eprime_bin_errors_6p6 = datahist_from_array(delta_hist[6.6], 6.6, hsdelta_binedges, ald)\n",
    "\n",
    "plt.errorbar(binned_eprime_bin_centers_2p42, dummy_eprime_bin_contents_2p42, yerr = dummy_eprime_bin_errors_2p42, fmt = '_', label = '2.42 GeV', color = 'limegreen')\n",
    "plt.errorbar(binned_eprime_bin_centers_2p71, dummy_eprime_bin_contents_2p71, yerr = dummy_eprime_bin_errors_2p71, fmt = '_', label = '2.71 GeV', color = 'blue')\n",
    "plt.errorbar(binned_eprime_bin_centers_3p04, dummy_eprime_bin_contents_3p04, yerr = dummy_eprime_bin_errors_3p04, fmt = '_', label = '3.04 GeV', color = 'green')\n",
    "plt.errorbar(binned_eprime_bin_centers_3p4, dummy_eprime_bin_contents_3p4, yerr = dummy_eprime_bin_errors_3p4, fmt = '_', label = '3.4 GeV', color = 'orange')\n",
    "plt.errorbar(binned_eprime_bin_centers_3p81, dummy_eprime_bin_contents_3p81, yerr = dummy_eprime_bin_errors_3p81, fmt = '_', label = '3.81 GeV', color = 'purple')\n",
    "plt.errorbar(binned_eprime_bin_centers_4p27, dummy_eprime_bin_contents_4p27, yerr = dummy_eprime_bin_errors_4p27, fmt = '_', label = '4.27 GeV', color = 'yellow')\n",
    "plt.errorbar(binned_eprime_bin_centers_4p78, dummy_eprime_bin_contents_4p78, yerr = dummy_eprime_bin_errors_4p78, fmt = '_', label = '4.78 GeV', color = 'pink')\n",
    "plt.errorbar(binned_eprime_bin_centers_5p36, dummy_eprime_bin_contents_5p36, yerr = dummy_eprime_bin_errors_5p36, fmt = '_', label = '5.36 GeV', color = 'brown')\n",
    "plt.errorbar(binned_eprime_bin_centers_5p878, dummy_eprime_bin_contents_5p878, yerr = dummy_eprime_bin_errors_5p878, fmt = '_', label = '5.878 GeV', color = 'cyan')\n",
    "plt.errorbar(binned_eprime_bin_centers_6p6, dummy_eprime_bin_contents_6p6, yerr = dummy_eprime_bin_errors_6p6, fmt = '_', label = '6.6 GeV', color = 'red')\n",
    "plt.grid(alpha = 0.2)\n",
    "plt.xlabel('Eprime')\n",
    "plt.ylabel('Data Yield for Dummy Target')\n",
    "plt.title(f'Full {ald} Yield {dang}˚')\n",
    "plt.yscale('log')"
   ]
  },
  {
   "cell_type": "code",
   "execution_count": null,
   "id": "27b4cfef",
   "metadata": {
    "papermill": {
     "duration": null,
     "end_time": null,
     "exception": null,
     "start_time": null,
     "status": "pending"
    },
    "tags": []
   },
   "outputs": [],
   "source": [
    "print(f\"{dummy_eprime_bin_contents_4p27}\")\n",
    "print(dummy_eprime_bin_contents_2p42)"
   ]
  },
  {
   "cell_type": "markdown",
   "id": "82f39062",
   "metadata": {
    "papermill": {
     "duration": null,
     "end_time": null,
     "exception": null,
     "start_time": null,
     "status": "pending"
    },
    "tags": []
   },
   "source": [
    "<h1 align=\"center\">DATA WORK FOR DTG</h1>"
   ]
  },
  {
   "cell_type": "code",
   "execution_count": null,
   "id": "b5e6ac53",
   "metadata": {
    "papermill": {
     "duration": null,
     "end_time": null,
     "exception": null,
     "start_time": null,
     "status": "pending"
    },
    "tags": []
   },
   "outputs": [],
   "source": [
    "# Kinematic variables\n",
    "Z, A = target_info[dtg][0], target_info[dtg][1]  # Target\n",
    "thick = target_info[dtg][2] # g/cm2. From Cameron's target sheet column 'R'\n",
    "thick = thick * 0.996 # Cryo target contraction correction factor\n",
    "lumin = thick * sim_charge / A * N_A / Q_E * 1e-39\n",
    "ytar = {}\n",
    "dtrack_hist = {}\n",
    "ytar_hist = {}\n",
    "for momentum in dmom:\n",
    "    files = [f'/Volumes/smriti/xem2/ROOTfiles/HMS_{run}_skim.root' for run in LD2_dict[momentum]]\n",
    "    branches = ['H_gtr_dp', 'H_cal_etottracknorm', 'H_gtr_ph', 'H_gtr_th', 'H_cer_npeSum', 'H_bcm_CurrentFlag', 'H_dc_ntrack']\n",
    "    electrons = uproot.concatenate(files, branches)\n",
    "\n",
    "    data_cut = (np.abs(electrons['H_gtr_dp']) < 8) & (electrons['H_cal_etottracknorm'] > 0.7) & (np.abs(electrons['H_gtr_ph']) < 0.032) & (np.abs(electrons['H_gtr_th']) < 0.085) & (electrons['H_cer_npeSum'] > 2) & (electrons['H_bcm_CurrentFlag'] == 1)\n",
    "    dp_cut = electrons['H_gtr_dp'][data_cut]\n",
    "    dtrack_hist[momentum] = electrons['H_dc_ntrack'][data_cut]\n",
    "    delta_hist[momentum] = np.array(dp_cut)\n",
    "\n",
    "eprime_bin_contents_2p42_dtg, eprime_bin_errors_2p42_dtg = datahist_from_array(delta_hist[2.42], 2.42, data_delta, dtg)\n",
    "eprime_bin_contents_2p71_dtg, eprime_bin_errors_2p71_dtg = datahist_from_array(delta_hist[2.71], 2.71, data_delta, dtg)\n",
    "eprime_bin_contents_3p04_dtg, eprime_bin_errors_3p04_dtg = datahist_from_array(delta_hist[3.04], 3.04, data_delta, dtg)\n",
    "eprime_bin_contents_3p4_dtg, eprime_bin_errors_3p4_dtg = datahist_from_array(delta_hist[3.4], 3.4, data_delta, dtg)\n",
    "eprime_bin_contents_3p81_dtg, eprime_bin_errors_3p81_dtg = datahist_from_array(delta_hist[3.81], 3.81, data_delta, dtg)\n",
    "eprime_bin_contents_4p27_dtg, eprime_bin_errors_4p27_dtg = datahist_from_array(delta_hist[4.27], 4.27, data_delta, dtg)\n",
    "eprime_bin_contents_4p78_dtg, eprime_bin_errors_4p78_dtg = datahist_from_array(delta_hist[4.78], 4.78, data_delta, dtg)\n",
    "eprime_bin_contents_5p36_dtg, eprime_bin_errors_5p36_dtg = datahist_from_array(delta_hist[5.36], 5.36, data_delta, dtg)\n",
    "eprime_bin_contents_5p878_dtg, eprime_bin_errors_5p878_dtg = datahist_from_array(delta_hist[5.878], 5.878, data_delta, dtg)\n",
    "eprime_bin_contents_6p6_dtg, eprime_bin_errors_6p6_dtg = datahist_from_array(delta_hist[6.6], 6.6, data_delta, dtg)"
   ]
  },
  {
   "cell_type": "code",
   "execution_count": null,
   "id": "41f7b088",
   "metadata": {
    "papermill": {
     "duration": null,
     "end_time": null,
     "exception": null,
     "start_time": null,
     "status": "pending"
    },
    "tags": []
   },
   "outputs": [],
   "source": [
    "plt.hist(dtrack_hist[2.42], bins = range(1, 5), histtype = 'step', label = '2.42 GeV', color = 'blue')\n",
    "plt.hist(dtrack_hist[2.71], bins = range(1, 5), histtype = 'step', label = '2.71 GeV', color = 'red')\n",
    "plt.hist(dtrack_hist[3.04], bins = range(1, 5), histtype = 'step', label = '3.04 GeV', color = 'green')\n",
    "plt.hist(dtrack_hist[3.40], bins = range(1, 5), histtype = 'step', label = '3.40 GeV', color = 'purple')\n",
    "plt.hist(dtrack_hist[3.81], bins = range(1, 5), histtype = 'step', label = '3.81 GeV', color = 'orange')\n",
    "plt.hist(dtrack_hist[4.27], bins = range(1, 5), histtype = 'step', label = '4.27 GeV', color = 'black')\n",
    "plt.hist(dtrack_hist[4.78], bins = range(1, 5), histtype = 'step', label = '4.78 GeV', color = 'brown')\n",
    "plt.hist(dtrack_hist[5.36], bins = range(1, 5), histtype = 'step', label = '5.36 GeV', color = 'pink')\n",
    "plt.hist(dtrack_hist[5.878], bins = range(1, 5), histtype = 'step', label = '5.878 GeV', color = 'cyan')\n",
    "plt.hist(dtrack_hist[6.6], bins = range(1, 5), histtype = 'step', label = '6.6 GeV', color = 'magenta')\n",
    "plt.yscale('log')\n",
    "plt.legend()\n",
    "plt.ylabel('Counts')\n",
    "plt.xlabel('Number of tracks')\n",
    "plt.title(f'Number of tracks in HMS for {dtg}@{dang} degrees')\n",
    "# plt.savefig(f'{folder}/track_hist_{time.time():.0f}.pdf')\n",
    "kam = np.min(dtrack_hist[2.42])\n",
    "bada = np.max(dtrack_hist[2.42])\n",
    "print(kam, bada)"
   ]
  },
  {
   "cell_type": "code",
   "execution_count": null,
   "id": "8eb738ab",
   "metadata": {
    "papermill": {
     "duration": null,
     "end_time": null,
     "exception": null,
     "start_time": null,
     "status": "pending"
    },
    "tags": []
   },
   "outputs": [],
   "source": [
    "fig3, ax3 = plt.subplots()\n",
    "ax3.errorbar(binned_eprime_bin_centers_2p42, eprime_bin_contents_2p42_dtg, yerr = eprime_bin_errors_2p42_dtg, fmt = '_', color = 'red', alpha = 0.7, label = '2.42 GeV')\n",
    "ax3.errorbar(binned_eprime_bin_centers_2p71, eprime_bin_contents_2p71_dtg, yerr = eprime_bin_errors_2p71_dtg, fmt = '_', color = 'blue', alpha = 0.7, label = '2.71 GeV')\n",
    "ax3.errorbar(binned_eprime_bin_centers_3p04, eprime_bin_contents_3p04_dtg, yerr = eprime_bin_errors_3p04_dtg, fmt = '_', color = 'green', alpha = 0.7, label = '3.04 GeV')\n",
    "ax3.errorbar(binned_eprime_bin_centers_3p4, eprime_bin_contents_3p4_dtg, yerr = eprime_bin_errors_3p4_dtg, fmt = '_', color = 'orange', alpha = 0.7, label = '3.4 GeV')\n",
    "ax3.errorbar(binned_eprime_bin_centers_3p81, eprime_bin_contents_3p81_dtg, yerr = eprime_bin_errors_3p81_dtg, fmt = '_', color = 'purple', alpha = 0.7, label = '3.81 GeV')\n",
    "ax3.errorbar(binned_eprime_bin_centers_4p27, eprime_bin_contents_4p27_dtg, yerr = eprime_bin_errors_4p27_dtg, fmt = '_', color = 'yellow', alpha = 0.7, label = '4.27 GeV')\n",
    "ax3.errorbar(binned_eprime_bin_centers_4p78, eprime_bin_contents_4p78_dtg, yerr = eprime_bin_errors_4p78_dtg, fmt = '_', color = 'pink', alpha = 0.7, label = '4.78 GeV')\n",
    "ax3.errorbar(binned_eprime_bin_centers_5p36, eprime_bin_contents_5p36_dtg, yerr = eprime_bin_errors_5p36_dtg, fmt = '_', color = 'brown', alpha = 0.7, label = '5.36 GeV')\n",
    "ax3.errorbar(binned_eprime_bin_centers_5p878, eprime_bin_contents_5p878_dtg, yerr = eprime_bin_errors_5p878_dtg, fmt = '_', color = 'cyan', alpha = 0.7, label = '5.878 GeV')\n",
    "ax3.errorbar(binned_eprime_bin_centers_6p6, eprime_bin_contents_6p6_dtg, yerr = eprime_bin_errors_6p6_dtg, fmt = '_', color = 'limegreen', alpha = 0.7, label = '6.6 GeV')\n",
    "ax3.set_xlabel('Eprime')\n",
    "ax3.set_title('LD2 Data Yield')\n",
    "print(eprime_bin_contents_2p42_dtg)\n",
    "print(eprime_bin_contents_6p6_dtg)"
   ]
  },
  {
   "cell_type": "markdown",
   "id": "fc3597a3",
   "metadata": {
    "papermill": {
     "duration": null,
     "end_time": null,
     "exception": null,
     "start_time": null,
     "status": "pending"
    },
    "tags": []
   },
   "source": [
    "<h2 style=\"text-align: center; color: silver\">Subtracting CSB from full cryo target yield and dummy</h2>"
   ]
  },
  {
   "cell_type": "code",
   "execution_count": null,
   "id": "2d22cf5b",
   "metadata": {
    "papermill": {
     "duration": null,
     "end_time": null,
     "exception": null,
     "start_time": null,
     "status": "pending"
    },
    "tags": []
   },
   "outputs": [],
   "source": [
    "# Calculate the charge symmetric background fraction per bin for full cryo target\n",
    "csb_frac_2p42_dtg = csb(binned_eprime_bin_centers_2p42, dtg, dang)\n",
    "csb_frac_2p71_dtg = csb(binned_eprime_bin_centers_2p71, dtg, dang)\n",
    "csb_frac_3p04_dtg = csb(binned_eprime_bin_centers_3p04, dtg, dang)\n",
    "csb_frac_3p4_dtg = csb(binned_eprime_bin_centers_3p4, dtg, dang)\n",
    "csb_frac_3p81_dtg = csb(binned_eprime_bin_centers_3p81, dtg, dang)\n",
    "csb_frac_4p27_dtg = csb(binned_eprime_bin_centers_4p27, dtg, dang)\n",
    "csb_frac_4p78_dtg = csb(binned_eprime_bin_centers_4p78, dtg, dang)\n",
    "csb_frac_5p36_dtg = csb(binned_eprime_bin_centers_5p36, dtg, dang)\n",
    "csb_frac_5p878_dtg = csb(binned_eprime_bin_centers_5p878, dtg, dang)\n",
    "csb_frac_6p6_dtg = csb(binned_eprime_bin_centers_6p6, dtg, dang)\n",
    "\n",
    "# Calculate the charge symmetric background fraction per bin for dummy target\n",
    "csb_frac_2p42_ald = csb(binned_eprime_bin_centers_2p42, ald, dang)\n",
    "csb_frac_2p71_ald = csb(binned_eprime_bin_centers_2p71, ald, dang)\n",
    "csb_frac_3p04_ald = csb(binned_eprime_bin_centers_3p04, ald, dang)\n",
    "csb_frac_3p4_ald = csb(binned_eprime_bin_centers_3p4, ald, dang)\n",
    "csb_frac_3p81_ald = csb(binned_eprime_bin_centers_3p81, ald, dang)\n",
    "csb_frac_4p27_ald = csb(binned_eprime_bin_centers_4p27, ald, dang)\n",
    "csb_frac_4p78_ald = csb(binned_eprime_bin_centers_4p78, ald, dang)\n",
    "csb_frac_5p36_ald = csb(binned_eprime_bin_centers_5p36, ald, dang)\n",
    "csb_frac_5p878_ald = csb(binned_eprime_bin_centers_5p878, ald, dang)\n",
    "csb_frac_6p6_ald = csb(binned_eprime_bin_centers_6p6, ald, dang)\n",
    "\n",
    "fig4, ax4 = plt.subplots()\n",
    "# Perform CSB subtraction on dummy target\n",
    "subtracted_bin_contents_2p42_ald = dummy_eprime_bin_contents_2p42 * (1 - csb_frac_2p42_ald)\n",
    "subtracted_bin_contents_2p71_ald = dummy_eprime_bin_contents_2p71 * (1 - csb_frac_2p71_ald)\n",
    "subtracted_bin_contents_3p04_ald = dummy_eprime_bin_contents_3p04 * (1 - csb_frac_3p04_ald)\n",
    "subtracted_bin_contents_3p4_ald = dummy_eprime_bin_contents_3p4 * (1 - csb_frac_3p4_ald)\n",
    "subtracted_bin_contents_3p81_ald = dummy_eprime_bin_contents_3p81 * (1 - csb_frac_3p81_ald)\n",
    "subtracted_bin_contents_4p27_ald = dummy_eprime_bin_contents_4p27 * (1 - csb_frac_4p27_ald)\n",
    "subtracted_bin_contents_4p78_ald = dummy_eprime_bin_contents_4p78 * (1 - csb_frac_4p78_ald)\n",
    "subtracted_bin_contents_5p36_ald = dummy_eprime_bin_contents_5p36 * (1 - csb_frac_5p36_ald)\n",
    "subtracted_bin_contents_5p878_ald = dummy_eprime_bin_contents_5p878 * (1 - csb_frac_5p878_ald)\n",
    "subtracted_bin_contents_6p6_ald = dummy_eprime_bin_contents_6p6 * (1 - csb_frac_6p6_ald)\n",
    "\n",
    "subtracted_bin_errors_2p42_ald = dummy_eprime_bin_errors_2p42 * (1 - csb_frac_2p42_ald)\n",
    "subtracted_bin_errors_2p71_ald = dummy_eprime_bin_errors_2p71 * (1 - csb_frac_2p71_ald)\n",
    "subtracted_bin_errors_3p04_ald = dummy_eprime_bin_errors_3p04 * (1 - csb_frac_3p04_ald)\n",
    "subtracted_bin_errors_3p4_ald = dummy_eprime_bin_errors_3p4 * (1 - csb_frac_3p4_ald)\n",
    "subtracted_bin_errors_3p81_ald = dummy_eprime_bin_errors_3p81 * (1 - csb_frac_3p81_ald)\n",
    "subtracted_bin_errors_4p27_ald = dummy_eprime_bin_errors_4p27 * (1 - csb_frac_4p27_ald)\n",
    "subtracted_bin_errors_4p78_ald = dummy_eprime_bin_errors_4p78 * (1 - csb_frac_4p78_ald)\n",
    "subtracted_bin_errors_5p36_ald = dummy_eprime_bin_errors_5p36 * (1 - csb_frac_5p36_ald)\n",
    "subtracted_bin_errors_5p878_ald = dummy_eprime_bin_errors_5p878 * (1 - csb_frac_5p878_ald)\n",
    "subtracted_bin_errors_6p6_ald = dummy_eprime_bin_errors_6p6 * (1 - csb_frac_6p6_ald)\n",
    "\n",
    "# Subtract the charge symmetric background fraction from the full cryo yield\n",
    "subtracted_bin_contents_2p42_dtg = eprime_bin_contents_2p42_dtg * (1 - csb_frac_2p42_dtg)\n",
    "subtracted_bin_contents_2p71_dtg = eprime_bin_contents_2p71_dtg * (1 - csb_frac_2p71_dtg)\n",
    "subtracted_bin_contents_3p04_dtg = eprime_bin_contents_3p04_dtg * (1 - csb_frac_3p04_dtg)\n",
    "subtracted_bin_contents_3p4_dtg = eprime_bin_contents_3p4_dtg * (1 - csb_frac_3p4_dtg)\n",
    "subtracted_bin_contents_3p81_dtg = eprime_bin_contents_3p81_dtg * (1 - csb_frac_3p81_dtg)\n",
    "subtracted_bin_contents_4p27_dtg = eprime_bin_contents_4p27_dtg * (1 - csb_frac_4p27_dtg)\n",
    "subtracted_bin_contents_4p78_dtg = eprime_bin_contents_4p78_dtg * (1 - csb_frac_4p78_dtg)\n",
    "subtracted_bin_contents_5p36_dtg = eprime_bin_contents_5p36_dtg * (1 - csb_frac_5p36_dtg)\n",
    "subtracted_bin_contents_5p878_dtg = eprime_bin_contents_5p878_dtg * (1 - csb_frac_5p878_dtg)\n",
    "subtracted_bin_contents_6p6_dtg = eprime_bin_contents_6p6_dtg * (1 - csb_frac_6p6_dtg)\n",
    "\n",
    "subtracted_bin_errors_2p42_dtg = eprime_bin_errors_2p42_dtg * (1 - csb_frac_2p42_dtg)\n",
    "subtracted_bin_errors_2p71_dtg = eprime_bin_errors_2p71_dtg * (1 - csb_frac_2p71_dtg)\n",
    "subtracted_bin_errors_3p04_dtg = eprime_bin_errors_3p04_dtg * (1 - csb_frac_3p04_dtg)\n",
    "subtracted_bin_errors_3p4_dtg = eprime_bin_errors_3p4_dtg * (1 - csb_frac_3p4_dtg)\n",
    "subtracted_bin_errors_3p81_dtg = eprime_bin_errors_3p81_dtg * (1 - csb_frac_3p81_dtg)\n",
    "subtracted_bin_errors_4p27_dtg = eprime_bin_errors_4p27_dtg * (1 - csb_frac_4p27_dtg)\n",
    "subtracted_bin_errors_4p78_dtg = eprime_bin_errors_4p78_dtg * (1 - csb_frac_4p78_dtg)\n",
    "subtracted_bin_errors_5p36_dtg = eprime_bin_errors_5p36_dtg * (1 - csb_frac_5p36_dtg)\n",
    "subtracted_bin_errors_5p878_dtg = eprime_bin_errors_5p878_dtg * (1 - csb_frac_5p878_dtg)\n",
    "subtracted_bin_errors_6p6_dtg = eprime_bin_errors_6p6_dtg * (1 - csb_frac_6p6_dtg)\n",
    "\n",
    "# Perform Dummy Subtraction\n",
    "subtracted_bin_contents_2p42_dtg = subtracted_bin_contents_2p42_dtg - (E * subtracted_bin_contents_2p42_ald)\n",
    "subtracted_bin_contents_2p71_dtg = subtracted_bin_contents_2p71_dtg - (E * subtracted_bin_contents_2p71_ald)\n",
    "subtracted_bin_contents_3p04_dtg = subtracted_bin_contents_3p04_dtg - (E * subtracted_bin_contents_3p04_ald)\n",
    "subtracted_bin_contents_3p4_dtg = subtracted_bin_contents_3p4_dtg - (E * subtracted_bin_contents_3p4_ald)\n",
    "subtracted_bin_contents_3p81_dtg = subtracted_bin_contents_3p81_dtg - (E * subtracted_bin_contents_3p81_ald)\n",
    "subtracted_bin_contents_4p27_dtg = subtracted_bin_contents_4p27_dtg - (E * subtracted_bin_contents_4p27_ald)\n",
    "subtracted_bin_contents_4p78_dtg = subtracted_bin_contents_4p78_dtg - (E * subtracted_bin_contents_4p78_ald)\n",
    "subtracted_bin_contents_5p36_dtg = subtracted_bin_contents_5p36_dtg - (E * subtracted_bin_contents_5p36_ald)\n",
    "subtracted_bin_contents_5p878_dtg = subtracted_bin_contents_5p878_dtg - (E * subtracted_bin_contents_5p878_ald)\n",
    "subtracted_bin_contents_6p6_dtg = subtracted_bin_contents_6p6_dtg - (E * subtracted_bin_contents_6p6_ald)\n",
    "\n",
    "# Error Prpoagation\n",
    "eprime_bin_errors_2p42_dtg = np.sqrt((subtracted_bin_errors_2p42_dtg)**2 + (E * subtracted_bin_errors_2p42_ald)**2)\n",
    "eprime_bin_errors_2p71_dtg = np.sqrt((subtracted_bin_errors_2p71_dtg)**2 + (E * subtracted_bin_errors_2p71_ald)**2)\n",
    "eprime_bin_errors_3p04_dtg = np.sqrt((subtracted_bin_errors_3p04_dtg)**2 + (E * subtracted_bin_errors_3p04_ald)**2)\n",
    "eprime_bin_errors_3p4_dtg = np.sqrt((subtracted_bin_errors_3p4_dtg)**2 + (E * subtracted_bin_errors_3p4_ald)**2)\n",
    "eprime_bin_errors_3p81_dtg = np.sqrt((subtracted_bin_errors_3p81_dtg)**2 + (E * subtracted_bin_errors_3p81_ald)**2)\n",
    "eprime_bin_errors_4p27_dtg = np.sqrt((subtracted_bin_errors_4p27_dtg)**2 + (E * subtracted_bin_errors_4p27_ald)**2)\n",
    "eprime_bin_errors_4p78_dtg = np.sqrt((subtracted_bin_errors_4p78_dtg)**2 + (E * subtracted_bin_errors_4p78_ald)**2)\n",
    "eprime_bin_errors_5p36_dtg = np.sqrt((subtracted_bin_errors_5p36_dtg)**2 + (E * subtracted_bin_errors_5p36_ald)**2)\n",
    "eprime_bin_errors_5p878_dtg = np.sqrt((subtracted_bin_errors_5p878_dtg)**2 + (E * subtracted_bin_errors_5p878_ald)**2)\n",
    "eprime_bin_errors_6p6_dtg = np.sqrt((subtracted_bin_errors_6p6_dtg)**2 + (E * subtracted_bin_errors_6p6_ald)**2)\n",
    "\n",
    "ax4.errorbar(binned_eprime_bin_centers_2p42, subtracted_bin_contents_2p42_dtg, yerr = subtracted_bin_errors_2p42_dtg, fmt = '_', color = 'red', alpha = 0.7, label = '2.42 GeV')\n",
    "ax4.errorbar(binned_eprime_bin_centers_2p71, subtracted_bin_contents_2p71_dtg, yerr = subtracted_bin_errors_2p71_dtg, fmt = '_', color = 'blue', alpha = 0.7, label = '2.71 GeV')\n",
    "ax4.errorbar(binned_eprime_bin_centers_3p04, subtracted_bin_contents_3p04_dtg, yerr = subtracted_bin_errors_3p04_dtg, fmt = '_', color = 'green', alpha = 0.7, label = '3.04 GeV')\n",
    "ax4.errorbar(binned_eprime_bin_centers_3p4, subtracted_bin_contents_3p4_dtg, yerr = subtracted_bin_errors_3p4_dtg, fmt = '_', color = 'orange', alpha = 0.7, label = '3.4 GeV')\n",
    "ax4.errorbar(binned_eprime_bin_centers_3p81, subtracted_bin_contents_3p81_dtg, yerr = subtracted_bin_errors_3p81_dtg, fmt = '_', color = 'purple', alpha = 0.7, label = '3.81 GeV')\n",
    "ax4.errorbar(binned_eprime_bin_centers_4p27, subtracted_bin_contents_4p27_dtg, yerr = subtracted_bin_errors_4p27_dtg, fmt = '_', color = 'yellow', alpha = 0.7, label = '4.27 GeV')\n",
    "ax4.errorbar(binned_eprime_bin_centers_4p78, subtracted_bin_contents_4p78_dtg, yerr = subtracted_bin_errors_4p78_dtg, fmt = '_', color = 'pink', alpha = 0.7, label = '4.78 GeV')\n",
    "ax4.errorbar(binned_eprime_bin_centers_5p36, subtracted_bin_contents_5p36_dtg, yerr = subtracted_bin_errors_5p36_dtg, fmt = '_', color = 'brown', alpha = 0.7, label = '5.36 GeV')\n",
    "ax4.errorbar(binned_eprime_bin_centers_5p878, subtracted_bin_contents_5p878_dtg, yerr = subtracted_bin_errors_5p878_dtg, fmt = '_', color = 'cyan', alpha = 0.7, label = '5.878 GeV')\n",
    "ax4.errorbar(binned_eprime_bin_centers_6p6, subtracted_bin_contents_6p6_dtg, yerr = subtracted_bin_errors_6p6_dtg, fmt = '_', color = 'limegreen', alpha = 0.7, label = '6.6 GeV')\n",
    "# ax4.set_yscale('log')\n",
    "ax4.set_xlabel('Eprime')\n",
    "ax4.set_title('Dummy Subtracted LD2 Data Yield')"
   ]
  },
  {
   "cell_type": "markdown",
   "id": "c6c6c568",
   "metadata": {
    "papermill": {
     "duration": null,
     "end_time": null,
     "exception": null,
     "start_time": null,
     "status": "pending"
    },
    "tags": []
   },
   "source": [
    "<h1 align=\"center\">SIMULATION WORK FOR DTG</h1>\n"
   ]
  },
  {
   "cell_type": "code",
   "execution_count": null,
   "id": "b61c9511",
   "metadata": {
    "papermill": {
     "duration": null,
     "end_time": null,
     "exception": null,
     "start_time": null,
     "status": "pending"
    },
    "tags": []
   },
   "outputs": [],
   "source": [
    "# Read the Cross-section table\n",
    "V1, V2, V3, V4, V5, V6, V7, V8, V9, V10, V11, V12, V13 = ImportRadcor(\"/Users/AbSir/Library/CloudStorage/GoogleDrive-asharda@vols.utk.edu/My Drive/xem2/xsec_tables/xem2_emc_rc_d2cryo22_hms.out\")\n",
    "\n",
    "# If using the old mc files\n",
    "# dpp_up, dpp_down = 15.0, -15.0 # Momentum acceptance upper and lower limit\n",
    "# for momentum in dmom:\n",
    "#     ep_min[momentum] = momentum * (1 + 0.01 * dpp_down)\n",
    "#     ep_max[momentum] = momentum * (1 + 0.01 * dpp_up)\n",
    "#     phi_up, phi_down, theta_up, theta_down = 110.0, -110.0, 65.0, -65.0 # mrad\n",
    "#     domega = (phi_up - phi_down) * (theta_up - theta_down) / 1e6  # diff solid angle in sr\n",
    "#     sim_charge = 1.\n",
    "#     wall_exit, wall_ent = 0.0168, 0.02024 # in cm\n",
    "#     dum_thick_exit, dum_thick_ent = 0.1816, 0.1815 # g/cm2\n",
    "#     lumin = thick * sim_charge / A * N_A / Q_E * 1e-39\n",
    "\n",
    "ytar_weight = {}\n",
    "ytarcut = {}\n",
    "jacobian_weight = {}\n",
    "for momentum in dmom:\n",
    "    mom_str = str(momentum).replace('-', '').replace('.', 'p').rstrip('0')\n",
    "    # filepath = f\"/Volumes/smriti/xem2/worksim_old/hms_mc_{dsimstring}_20degm{mom_str}.root\"\n",
    "    filepath = f\"/Volumes/smriti/xem2/worksim/hms_{idang}deg_{mom_str}gev_{dsimstring}.root\"\n",
    "\n",
    "    # Open the file and tree\n",
    "    file = uproot.open(filepath)\n",
    "    # tree = file[\"h1\"]\n",
    "    tree = file[\"h10\"]\n",
    "\n",
    "    # Load the branches\n",
    "    electrons = tree.arrays([\"hsdeltai\", \"hsytar\", \"hsyptari\", \"hsxptari\", \"stop_id\"], library = 'np')    \n",
    "    nentries = len(electrons[\"hsdeltai\"])\n",
    "\n",
    "    # Apply the cuts\n",
    "    mc_cut = (np.abs(electrons[\"hsdeltai\"]) < 8) & \\\n",
    "            (np.abs(electrons[\"hsyptari\"]) < 0.032) & \\\n",
    "            (np.abs(electrons[\"hsxptari\"]) < 0.085) & \\\n",
    "            (electrons[\"stop_id\"] == 0)\n",
    "    \n",
    "    # Filter 'hsdelta' with the cuts\n",
    "    hsdelta_cut = electrons[\"hsdeltai\"][mc_cut]\n",
    "    hsyptar_cut = electrons[\"hsyptari\"][mc_cut]\n",
    "    hsxptar_cut = electrons[\"hsxptari\"][mc_cut]\n",
    "    hsytar_cut = electrons[\"hsytar\"][mc_cut]\n",
    "\n",
    "    delta_dict[momentum] = hsdelta_cut\n",
    "    Eprime_dict[momentum] = momentum * (1 + 0.01 * hsdelta_cut)\n",
    "\n",
    "    delta_weight[momentum] = delta_correction(hsdelta_cut)\n",
    "\n",
    "    # Calculate the ytar acceptance correction factor\n",
    "    ytar_weight[momentum] = -0.00812174 * hsytar_cut**2 - 0.0000415678 * hsytar_cut + 1.00021\n",
    "    ytarcut[momentum] = hsytar_cut\n",
    "\n",
    "    # MC Jacobian\n",
    "    jacobian_weight[momentum] = np.power((1 + np.power(hsxptar_cut, 2) + np.power(hsyptar_cut, 2)), 1.5)\n",
    "\n",
    "    # print(\"Length of ytar_weight\", len(ytar_weight))\n",
    "    # print(\"Length of Eprime_dict\", len(Eprime_dict[momentum]))\n",
    "    \n",
    "    # Calculate theta (in degrees)\n",
    "    thetarad = np.arccos((cos_ts + hsyptar_cut * sin_ts) / np.sqrt(1 + hsxptar_cut * hsxptar_cut + hsyptar_cut * hsyptar_cut))\n",
    "    thetadeg = np.rad2deg(thetarad)\n",
    "    \n",
    "    # Perform the interpolation\n",
    "    points_dtg = np.array([V2, V3]).T # Make a 2D array and transpose it so each array is of the form [E',theta]\n",
    "    points_to_interpolate = np.column_stack((Eprime_dict[momentum], thetadeg))  # Make a column stack of points to be interpolated for our given E' and theta\n",
    "    xsec_array[momentum] = griddata(points_dtg, V9, points_to_interpolate, method = 'linear') # Specify the 2D array of [E's, thetas] as first argument; Radiative cross-section(V9) as the z-axis and (Ep, theta) as the point for which we need the cross-section\n",
    "    mc_scale[momentum] = lumin * domega * (ep_max[momentum] - ep_min[momentum]) / nentries         # Calculate the scale for simulation\n",
    "\n",
    "hsdelta_min = np.min(delta_dict[2.42])\n",
    "hsdelta_max = np.max(delta_dict[2.42])\n",
    "print(\"Should be -8 and +8\", hsdelta_min, hsdelta_max)\n",
    "hsdelta_num_bins = bin_per_mom\n",
    "hsdelta_binedges = np.linspace(hsdelta_min, hsdelta_max, hsdelta_num_bins + 1)\n",
    "\n",
    "bin_counts_eprime_2p42_dtg, bin_errors_eprime_2p42_dtg = mchist_from_array(delta_dict[2.42], xsec_array[2.42] * mc_scale[2.42] * ytar_weight[2.42] * jacobian_weight[2.42] * delta_weight[2.42], hsdelta_binedges)\n",
    "bin_counts_eprime_2p71_dtg, bin_errors_eprime_2p71_dtg = mchist_from_array(delta_dict[2.71], xsec_array[2.71] * mc_scale[2.71] * ytar_weight[2.71] * jacobian_weight[2.71] * delta_weight[2.71], hsdelta_binedges)\n",
    "bin_counts_eprime_3p04_dtg, bin_errors_eprime_3p04_dtg = mchist_from_array(delta_dict[3.04], xsec_array[3.04] * mc_scale[3.04] * ytar_weight[3.04] * jacobian_weight[3.04] * delta_weight[3.04], hsdelta_binedges)\n",
    "bin_counts_eprime_3p4_dtg, bin_errors_eprime_3p4_dtg = mchist_from_array(delta_dict[3.4], xsec_array[3.4] * mc_scale[3.4] * ytar_weight[3.4] * jacobian_weight[3.4] * delta_weight[3.4], hsdelta_binedges)\n",
    "bin_counts_eprime_3p81_dtg, bin_errors_eprime_3p81_dtg = mchist_from_array(delta_dict[3.81], xsec_array[3.81] * mc_scale[3.81] * ytar_weight[3.81] * jacobian_weight[3.81] * delta_weight[3.81], hsdelta_binedges)\n",
    "bin_counts_eprime_4p27_dtg, bin_errors_eprime_4p27_dtg = mchist_from_array(delta_dict[4.27], xsec_array[4.27] * mc_scale[4.27] * ytar_weight[4.27] * jacobian_weight[4.27] * delta_weight[4.27], hsdelta_binedges)\n",
    "bin_counts_eprime_4p78_dtg, bin_errors_eprime_4p78_dtg = mchist_from_array(delta_dict[4.78], xsec_array[4.78] * mc_scale[4.78] * ytar_weight[4.78] * jacobian_weight[4.78] * delta_weight[4.78], hsdelta_binedges)\n",
    "bin_counts_eprime_5p36_dtg, bin_errors_eprime_5p36_dtg = mchist_from_array(delta_dict[5.36], xsec_array[5.36] * mc_scale[5.36] * ytar_weight[5.36] * jacobian_weight[5.36] * delta_weight[5.36], hsdelta_binedges)\n",
    "bin_counts_eprime_5p878_dtg, bin_errors_eprime_5p878_dtg = mchist_from_array(delta_dict[5.878], xsec_array[5.878] * mc_scale[5.878] * ytar_weight[5.878] * jacobian_weight[5.878] * delta_weight[5.878], hsdelta_binedges)\n",
    "bin_counts_eprime_6p6_dtg, bin_errors_eprime_6p6_dtg = mchist_from_array(delta_dict[6.6], xsec_array[6.6] * mc_scale[6.6] * ytar_weight[6.6] * jacobian_weight[6.6] * delta_weight[6.6], hsdelta_binedges)"
   ]
  },
  {
   "cell_type": "code",
   "execution_count": null,
   "id": "ae032f5d",
   "metadata": {
    "papermill": {
     "duration": null,
     "end_time": null,
     "exception": null,
     "start_time": null,
     "status": "pending"
    },
    "tags": []
   },
   "outputs": [],
   "source": [
    "fig4, ax4 = plt.subplots()\n",
    "# Plotting the histogram with error bars\n",
    "ax4.errorbar(binned_eprime_bin_centers_2p42, bin_counts_eprime_2p42_dtg, yerr = bin_errors_eprime_2p42_dtg, fmt = '_', color = 'black', alpha = 0.7, label = 'Sim 2.42 GeV')\n",
    "ax4.errorbar(binned_eprime_bin_centers_2p71, bin_counts_eprime_2p71_dtg, yerr = bin_errors_eprime_2p71_dtg, fmt = '_', color = 'black', alpha = 0.7, label = 'Sim 2.71 GeV')\n",
    "ax4.errorbar(binned_eprime_bin_centers_3p04, bin_counts_eprime_3p04_dtg, yerr = bin_errors_eprime_3p04_dtg, fmt = '_', color = 'black', alpha = 0.7, label = 'Sim 3.04 GeV')\n",
    "ax4.errorbar(binned_eprime_bin_centers_3p4, bin_counts_eprime_3p4_dtg, yerr = bin_errors_eprime_3p4_dtg, fmt = '_', color = 'black', alpha = 0.7, label = 'Sim 3.4 GeV')\n",
    "ax4.errorbar(binned_eprime_bin_centers_3p81, bin_counts_eprime_3p81_dtg, yerr = bin_errors_eprime_3p81_dtg, fmt = '_', color = 'black', alpha = 0.7, label = 'Sim 3.81 GeV')\n",
    "ax4.errorbar(binned_eprime_bin_centers_4p27, bin_counts_eprime_4p27_dtg, yerr = bin_errors_eprime_4p27_dtg, fmt = '_', color = 'black', alpha = 0.7, label = 'Sim 4.27 GeV')\n",
    "ax4.errorbar(binned_eprime_bin_centers_4p78, bin_counts_eprime_4p78_dtg, yerr = bin_errors_eprime_4p78_dtg, fmt = '_', color = 'black', alpha = 0.7, label = 'Sim 4.78 GeV')\n",
    "ax4.errorbar(binned_eprime_bin_centers_5p36, bin_counts_eprime_5p36_dtg, yerr = bin_errors_eprime_5p36_dtg, fmt = '_', color = 'black', alpha = 0.7, label = 'Sim 5.36 GeV')\n",
    "ax4.errorbar(binned_eprime_bin_centers_5p878, bin_counts_eprime_5p878_dtg, yerr = bin_errors_eprime_5p878_dtg, fmt = '_', color = 'black', alpha = 0.7, label = 'Sim 5.878 GeV')\n",
    "ax4.errorbar(binned_eprime_bin_centers_6p6, bin_counts_eprime_6p6_dtg, yerr = bin_errors_eprime_6p6_dtg, fmt = '_', color = 'black', alpha = 0.7, label = 'Sim 6.6 GeV')\n",
    "ax4.grid(alpha = 0.2)\n",
    "ax4.set_xlabel('Eprime')\n",
    "ax4.set_ylabel('MC Yield')\n",
    "# ax4.set_yscale('log')\n",
    "# ax4.legend() \n",
    "ax4.set_title(f'{dtg}@{dang}˚')\n",
    "# fig4.savefig(f'{folder}/eprime_{dtg}_{dang}_{start_time:.0f}.pdf')"
   ]
  },
  {
   "cell_type": "markdown",
   "id": "af3e0681",
   "metadata": {
    "papermill": {
     "duration": null,
     "end_time": null,
     "exception": null,
     "start_time": null,
     "status": "pending"
    },
    "tags": []
   },
   "source": [
    "<h1 align=\"center\">DATA/SIMULATION YIELD RATIO FOR DTG</h1>"
   ]
  },
  {
   "cell_type": "code",
   "execution_count": null,
   "id": "293233aa",
   "metadata": {
    "papermill": {
     "duration": null,
     "end_time": null,
     "exception": null,
     "start_time": null,
     "status": "pending"
    },
    "tags": []
   },
   "outputs": [],
   "source": [
    "ratio_eprime_2p42_dtg = subtracted_bin_contents_2p42_dtg / bin_counts_eprime_2p42_dtg\n",
    "ratio_eprime_2p71_dtg = subtracted_bin_contents_2p71_dtg / bin_counts_eprime_2p71_dtg\n",
    "ratio_eprime_3p04_dtg = subtracted_bin_contents_3p04_dtg / bin_counts_eprime_3p04_dtg\n",
    "ratio_eprime_3p4_dtg = subtracted_bin_contents_3p4_dtg / bin_counts_eprime_3p4_dtg\n",
    "ratio_eprime_3p81_dtg = subtracted_bin_contents_3p81_dtg / bin_counts_eprime_3p81_dtg\n",
    "ratio_eprime_4p27_dtg = subtracted_bin_contents_4p27_dtg / bin_counts_eprime_4p27_dtg\n",
    "ratio_eprime_4p78_dtg = subtracted_bin_contents_4p78_dtg / bin_counts_eprime_4p78_dtg\n",
    "ratio_eprime_5p36_dtg = subtracted_bin_contents_5p36_dtg / bin_counts_eprime_5p36_dtg\n",
    "ratio_eprime_5p878_dtg = subtracted_bin_contents_5p878_dtg / bin_counts_eprime_5p878_dtg\n",
    "ratio_eprime_6p6_dtg = subtracted_bin_contents_6p6_dtg / bin_counts_eprime_6p6_dtg\n",
    "\n",
    "# Add errors in quadrature\n",
    "ratio_errors_2p42_dtg = ratio_eprime_2p42_dtg * np.sqrt((subtracted_bin_errors_2p42_dtg / subtracted_bin_contents_2p42_dtg)**2 + (bin_errors_eprime_2p42_dtg / bin_counts_eprime_2p42_dtg)**2)\n",
    "ratio_errors_2p71_dtg = ratio_eprime_2p71_dtg * np.sqrt((subtracted_bin_errors_2p71_dtg / subtracted_bin_contents_2p71_dtg)**2 + (bin_errors_eprime_2p71_dtg / bin_counts_eprime_2p71_dtg)**2)\n",
    "ratio_errors_3p04_dtg = ratio_eprime_3p04_dtg * np.sqrt((subtracted_bin_errors_3p04_dtg / subtracted_bin_contents_3p04_dtg)**2 + (bin_errors_eprime_3p04_dtg / bin_counts_eprime_3p04_dtg)**2)\n",
    "ratio_errors_3p4_dtg = ratio_eprime_3p4_dtg * np.sqrt((subtracted_bin_errors_3p4_dtg / subtracted_bin_contents_3p4_dtg)**2 + (bin_errors_eprime_3p4_dtg / bin_counts_eprime_3p4_dtg)**2)\n",
    "ratio_errors_3p81_dtg = ratio_eprime_3p81_dtg * np.sqrt((subtracted_bin_errors_3p81_dtg / subtracted_bin_contents_3p81_dtg)**2 + (bin_errors_eprime_3p81_dtg / bin_counts_eprime_3p81_dtg)**2)\n",
    "ratio_errors_4p27_dtg = ratio_eprime_4p27_dtg * np.sqrt((subtracted_bin_errors_4p27_dtg / subtracted_bin_contents_4p27_dtg)**2 + (bin_errors_eprime_4p27_dtg / bin_counts_eprime_4p27_dtg)**2)\n",
    "ratio_errors_4p78_dtg = ratio_eprime_4p78_dtg * np.sqrt((subtracted_bin_errors_4p78_dtg / subtracted_bin_contents_4p78_dtg)**2 + (bin_errors_eprime_4p78_dtg / bin_counts_eprime_4p78_dtg)**2)\n",
    "ratio_errors_5p36_dtg = ratio_eprime_5p36_dtg * np.sqrt((subtracted_bin_errors_5p36_dtg / subtracted_bin_contents_5p36_dtg)**2 + (bin_errors_eprime_5p36_dtg / bin_counts_eprime_5p36_dtg)**2)\n",
    "ratio_errors_5p878_dtg = ratio_eprime_5p878_dtg * np.sqrt((subtracted_bin_errors_5p878_dtg / subtracted_bin_contents_5p878_dtg)**2 + (bin_errors_eprime_5p878_dtg / bin_counts_eprime_5p878_dtg)**2)\n",
    "ratio_errors_6p6_dtg = ratio_eprime_6p6_dtg * np.sqrt((subtracted_bin_errors_6p6_dtg / subtracted_bin_contents_6p6_dtg)**2 + (bin_errors_eprime_6p6_dtg / bin_counts_eprime_6p6_dtg)**2)\n",
    "\n",
    "fig5, ax5 = plt.subplots()\n",
    "ax5.errorbar(binned_eprime_bin_centers_2p42, ratio_eprime_2p42_dtg, yerr = ratio_errors_2p42_dtg, fmt = '_', color = 'limegreen', label = '2.42 GeV')\n",
    "ax5.errorbar(binned_eprime_bin_centers_2p71, ratio_eprime_2p71_dtg, yerr = ratio_errors_2p71_dtg, fmt = '_', color = 'blue', label = '2.71 GeV')\n",
    "ax5.errorbar(binned_eprime_bin_centers_3p04, ratio_eprime_3p04_dtg, yerr = ratio_errors_3p04_dtg, fmt = '_', color = 'green', label = '3.04 GeV')\n",
    "ax5.errorbar(binned_eprime_bin_centers_3p4, ratio_eprime_3p4_dtg, yerr = ratio_errors_3p4_dtg, fmt = '_', color = 'orange', label = '3.4 GeV')\n",
    "ax5.errorbar(binned_eprime_bin_centers_3p81, ratio_eprime_3p81_dtg, yerr = ratio_errors_3p81_dtg, fmt = '_', color = 'purple', label = '3.81 GeV')\n",
    "ax5.errorbar(binned_eprime_bin_centers_4p27, ratio_eprime_4p27_dtg, yerr = ratio_errors_4p27_dtg, fmt = '_', color = 'yellow', label = '4.27 GeV')\n",
    "ax5.errorbar(binned_eprime_bin_centers_4p78, ratio_eprime_4p78_dtg, yerr = ratio_errors_4p78_dtg, fmt = '_', color = 'pink', label = '4.78 GeV')\n",
    "ax5.errorbar(binned_eprime_bin_centers_5p36, ratio_eprime_5p36_dtg, yerr = ratio_errors_5p36_dtg, fmt = '_', color = 'brown', label = '5.36 GeV')\n",
    "# ax5.errorbar(binned_eprime_bin_centers_5p878, ratio_eprime_5p878_dtg, yerr = ratio_errors_5p878_dtg, fmt = '_', alpha = 0.7, color = 'cyan', label = '5.878 GeV')\n",
    "# ax5.errorbar(binned_eprime_bin_centers_6p6, ratio_eprime_6p6_dtg, yerr = ratio_errors_6p6_dtg, fmt = '_', alpha = 0.7, color = 'limegreen', label = '6.6 GeV')\n",
    "ax5.set_xlabel('E\\'')\n",
    "ax5.set_ylabel('DATA/SIM')\n",
    "ax5.set_title(f'{dtg}@{idang}˚')\n",
    "# ax5.set_ylim(0.9, 1.1)\n",
    "ax5.grid(alpha = 0.2)\n",
    "# fig5.savefig(f'{folder}/ratio_eprime_{dtg}_{dang}_{folder}_{start_time:.0f}.pdf')"
   ]
  },
  {
   "cell_type": "markdown",
   "id": "1de58973",
   "metadata": {
    "papermill": {
     "duration": null,
     "end_time": null,
     "exception": null,
     "start_time": null,
     "status": "pending"
    },
    "tags": []
   },
   "source": [
    "<h1 align=\"center\">BORN CROSS SECTION CALCULATION FOR DTG</h1>"
   ]
  },
  {
   "cell_type": "code",
   "execution_count": null,
   "id": "6035616e",
   "metadata": {
    "papermill": {
     "duration": null,
     "end_time": null,
     "exception": null,
     "start_time": null,
     "status": "pending"
    },
    "tags": []
   },
   "outputs": [],
   "source": [
    "# Interpolate again to get model Born cross-section\n",
    "born_xsec_array_2p42_dtg = griddata(points_dtg, V6, points_to_interpolate_2p42, method = 'linear')\n",
    "born_xsec_array_2p71_dtg = griddata(points_dtg, V6, points_to_interpolate_2p71, method = 'linear')\n",
    "born_xsec_array_3p04_dtg = griddata(points_dtg, V6, points_to_interpolate_3p04, method = 'linear')\n",
    "born_xsec_array_3p4_dtg = griddata(points_dtg, V6, points_to_interpolate_3p4, method = 'linear')\n",
    "born_xsec_array_3p81_dtg = griddata(points_dtg, V6, points_to_interpolate_3p81, method = 'linear')\n",
    "born_xsec_array_4p27_dtg = griddata(points_dtg, V6, points_to_interpolate_4p27, method = 'linear')\n",
    "born_xsec_array_4p78_dtg = griddata(points_dtg, V6, points_to_interpolate_4p78, method = 'linear')\n",
    "born_xsec_array_5p36_dtg = griddata(points_dtg, V6, points_to_interpolate_5p36, method = 'linear')\n",
    "born_xsec_array_5p878_dtg = griddata(points_dtg, V6, points_to_interpolate_5p878, method = 'linear')\n",
    "born_xsec_array_6p6_dtg = griddata(points_dtg, V6, points_to_interpolate_6p6, method = 'linear')\n",
    "\n",
    "# Get the QE piece\n",
    "qe_array_2p42_dtg = griddata(points_dtg, V8, points_to_interpolate_2p42, method = 'linear')\n",
    "qe_array_2p71_dtg = griddata(points_dtg, V8, points_to_interpolate_2p71, method = 'linear')\n",
    "qe_array_3p04_dtg = griddata(points_dtg, V8, points_to_interpolate_3p04, method = 'linear')\n",
    "qe_array_3p4_dtg = griddata(points_dtg, V8, points_to_interpolate_3p4, method = 'linear')\n",
    "qe_array_3p81_dtg = griddata(points_dtg, V8, points_to_interpolate_3p81, method = 'linear')\n",
    "qe_array_4p27_dtg = griddata(points_dtg, V8, points_to_interpolate_4p27, method = 'linear')\n",
    "qe_array_4p78_dtg = griddata(points_dtg, V8, points_to_interpolate_4p78, method = 'linear')\n",
    "qe_array_5p36_dtg = griddata(points_dtg, V8, points_to_interpolate_5p36, method = 'linear')\n",
    "qe_array_5p878_dtg = griddata(points_dtg, V8, points_to_interpolate_5p878, method = 'linear')\n",
    "qe_array_6p6_dtg = griddata(points_dtg, V8, points_to_interpolate_6p6, method = 'linear')\n",
    "\n",
    "# Interpolate 3rd time to get Coulomb correction factor\n",
    "ccf_2p42_dtg = griddata(points_dtg, V13, points_to_interpolate_2p42, method = 'linear')\n",
    "ccf_2p71_dtg = griddata(points_dtg, V13, points_to_interpolate_2p71, method = 'linear')\n",
    "ccf_3p04_dtg = griddata(points_dtg, V13, points_to_interpolate_3p04, method = 'linear')\n",
    "ccf_3p4_dtg = griddata(points_dtg, V13, points_to_interpolate_3p4, method = 'linear')\n",
    "ccf_3p81_dtg = griddata(points_dtg, V13, points_to_interpolate_3p81, method = 'linear')\n",
    "ccf_4p27_dtg = griddata(points_dtg, V13, points_to_interpolate_4p27, method = 'linear')\n",
    "ccf_4p78_dtg = griddata(points_dtg, V13, points_to_interpolate_4p78, method = 'linear')\n",
    "ccf_5p36_dtg = griddata(points_dtg, V13, points_to_interpolate_5p36, method = 'linear')\n",
    "ccf_5p878_dtg = griddata(points_dtg, V13, points_to_interpolate_5p878, method = 'linear')\n",
    "ccf_6p6_dtg = griddata(points_dtg, V13, points_to_interpolate_6p6, method = 'linear')\n",
    "\n",
    "# Calculate the data Born cross-section and apply Coloumb corrections\n",
    "born_cross_2p42_dtg = ratio_eprime_2p42_dtg * born_xsec_array_2p42_dtg * ccf_2p42_dtg\n",
    "born_cross_2p71_dtg = ratio_eprime_2p71_dtg * born_xsec_array_2p71_dtg * ccf_2p71_dtg\n",
    "born_cross_3p04_dtg = ratio_eprime_3p04_dtg * born_xsec_array_3p04_dtg * ccf_3p04_dtg\n",
    "born_cross_3p4_dtg = ratio_eprime_3p4_dtg * born_xsec_array_3p4_dtg * ccf_3p4_dtg\n",
    "born_cross_3p81_dtg = ratio_eprime_3p81_dtg * born_xsec_array_3p81_dtg * ccf_3p81_dtg\n",
    "born_cross_4p27_dtg = ratio_eprime_4p27_dtg * born_xsec_array_4p27_dtg * ccf_4p27_dtg\n",
    "born_cross_4p78_dtg = ratio_eprime_4p78_dtg * born_xsec_array_4p78_dtg * ccf_4p78_dtg\n",
    "born_cross_5p36_dtg = ratio_eprime_5p36_dtg * born_xsec_array_5p36_dtg * ccf_5p36_dtg\n",
    "born_cross_5p878_dtg = ratio_eprime_5p878_dtg * born_xsec_array_5p878_dtg * ccf_5p878_dtg\n",
    "born_cross_6p6_dtg = ratio_eprime_6p6_dtg * born_xsec_array_6p6_dtg * ccf_6p6_dtg\n",
    "\n",
    "# Error propagation\n",
    "born_errors_2p42_dtg = born_cross_2p42_dtg * ratio_errors_2p42_dtg\n",
    "born_errors_2p71_dtg = born_cross_2p71_dtg * ratio_errors_2p71_dtg\n",
    "born_errors_3p04_dtg = born_cross_3p04_dtg * ratio_errors_3p04_dtg\n",
    "born_errors_3p4_dtg = born_cross_3p4_dtg * ratio_errors_3p4_dtg\n",
    "born_errors_3p81_dtg = born_cross_3p81_dtg * ratio_errors_3p81_dtg\n",
    "born_errors_4p27_dtg = born_cross_4p27_dtg * ratio_errors_4p27_dtg\n",
    "born_errors_4p78_dtg = born_cross_4p78_dtg * ratio_errors_4p78_dtg\n",
    "born_errors_5p36_dtg = born_cross_5p36_dtg * ratio_errors_5p36_dtg\n",
    "born_errors_5p878_dtg = born_cross_5p878_dtg * ratio_errors_5p878_dtg\n",
    "born_errors_6p6_dtg = born_cross_6p6_dtg * ratio_errors_6p6_dtg\n",
    "\n",
    "fig6, ax6 = plt.subplots()\n",
    "ax6.errorbar(binned_eprime_bin_centers_2p42, born_cross_2p42_dtg, yerr = born_errors_2p42_dtg, fmt = '_', alpha = 0.7, color = 'limegreen', label = '2.42 GeV')\n",
    "ax6.errorbar(binned_eprime_bin_centers_2p71, born_cross_2p71_dtg, yerr = born_errors_2p71_dtg, fmt = '_', alpha = 0.7, color = 'blue', label = '2.71 GeV')\n",
    "ax6.errorbar(binned_eprime_bin_centers_3p04, born_cross_3p04_dtg, yerr = born_errors_3p04_dtg, fmt = '_', alpha = 0.7, color = 'green', label = '3.04 GeV')\n",
    "ax6.errorbar(binned_eprime_bin_centers_3p4, born_cross_3p4_dtg, yerr = born_errors_3p4_dtg, fmt = '_', alpha = 0.7, color = 'orange', label = '3.4 GeV')\n",
    "ax6.errorbar(binned_eprime_bin_centers_3p81, born_cross_3p81_dtg, yerr = born_errors_3p81_dtg, fmt = '_', alpha = 0.7, color = 'purple', label = '3.81 GeV')\n",
    "ax6.errorbar(binned_eprime_bin_centers_4p27, born_cross_4p27_dtg, yerr = born_errors_4p27_dtg, fmt = '_', alpha = 0.7, color = 'yellow', label = '4.27 GeV')\n",
    "ax6.errorbar(binned_eprime_bin_centers_4p78, born_cross_4p78_dtg, yerr = born_errors_4p78_dtg, fmt = '_', alpha = 0.7, color = 'pink', label = '4.78 GeV')\n",
    "ax6.errorbar(binned_eprime_bin_centers_5p36, born_cross_5p36_dtg, yerr = born_errors_5p36_dtg, fmt = '_', alpha = 0.7, color = 'brown', label = '5.36 GeV')\n",
    "ax6.errorbar(binned_eprime_bin_centers_5p878, born_cross_5p878_dtg, yerr = born_errors_5p878_dtg, fmt = '_', alpha = 0.7, color = 'cyan', label = '5.878 GeV')\n",
    "ax6.errorbar(binned_eprime_bin_centers_6p6, born_cross_6p6_dtg, yerr = born_errors_6p6_dtg, fmt = '_', alpha = 0.7, color = 'limegreen', label = '6.6 GeV')\n",
    "ax6.set_xlabel('Eprime')\n",
    "ax6.set_ylabel('Born Cross Section')\n",
    "ax6.set_title(f'{dtg}@{dang}˚')\n",
    "ax6.set_yscale('log')\n",
    "#ax6.legend()\n",
    "ax6.grid(alpha = 0.2)\n",
    "# fig6.savefig(f'{folder}/xsec_{dtg}_{dang}_{start_time:.0f}.pdf')"
   ]
  },
  {
   "cell_type": "code",
   "execution_count": null,
   "id": "9dc6b6d4",
   "metadata": {
    "papermill": {
     "duration": null,
     "end_time": null,
     "exception": null,
     "start_time": null,
     "status": "pending"
    },
    "tags": []
   },
   "outputs": [],
   "source": [
    "born_ratio_2p42 = born_xsec_array_2p42_ntg / born_xsec_array_2p42_dtg\n",
    "born_ratio_2p71 = born_xsec_array_2p71_ntg / born_xsec_array_2p71_dtg\n",
    "born_ratio_3p04 = born_xsec_array_3p04_ntg / born_xsec_array_3p04_dtg\n",
    "born_ratio_3p4 = born_xsec_array_3p4_ntg / born_xsec_array_3p4_dtg\n",
    "born_ratio_3p81 = born_xsec_array_3p81_ntg / born_xsec_array_3p81_dtg\n",
    "born_ratio_4p27 = born_xsec_array_4p27_ntg / born_xsec_array_4p27_dtg\n",
    "born_ratio_4p78 = born_xsec_array_4p78_ntg / born_xsec_array_4p78_dtg\n",
    "born_ratio_5p36 = born_xsec_array_5p36_ntg / born_xsec_array_5p36_dtg\n",
    "born_ratio_5p878 = born_xsec_array_5p878_ntg / born_xsec_array_5p878_dtg\n",
    "born_ratio_6p6 = born_xsec_array_6p6_ntg / born_xsec_array_6p6_dtg\n",
    "\n",
    "born_ratio_errors_2p42 = born_ratio_2p42 * np.sqrt((born_errors_2p42_ntg / born_xsec_array_2p42_ntg)**2 + (born_errors_2p42_dtg / born_xsec_array_2p42_dtg)**2)\n",
    "born_ratio_errors_2p71 = born_ratio_2p71 * np.sqrt((born_errors_2p71_ntg / born_xsec_array_2p71_ntg)**2 + (born_errors_2p71_dtg / born_xsec_array_2p71_dtg)**2)\n",
    "born_ratio_errors_3p04 = born_ratio_3p04 * np.sqrt((born_errors_3p04_ntg / born_xsec_array_3p04_ntg)**2 + (born_errors_3p04_dtg / born_xsec_array_3p04_dtg)**2)\n",
    "born_ratio_errors_3p4 = born_ratio_3p4 * np.sqrt((born_errors_3p4_ntg / born_xsec_array_3p4_ntg)**2 + (born_errors_3p4_dtg / born_xsec_array_3p4_dtg)**2)\n",
    "born_ratio_errors_3p81 = born_ratio_3p81 * np.sqrt((born_errors_3p81_ntg / born_xsec_array_3p81_ntg)**2 + (born_errors_3p81_dtg / born_xsec_array_3p81_dtg)**2)\n",
    "born_ratio_errors_4p27 = born_ratio_4p27 * np.sqrt((born_errors_4p27_ntg / born_xsec_array_4p27_ntg)**2 + (born_errors_4p27_dtg / born_xsec_array_4p27_dtg)**2)\n",
    "born_ratio_errors_4p78 = born_ratio_4p78 * np.sqrt((born_errors_4p78_ntg / born_xsec_array_4p78_ntg)**2 + (born_errors_4p78_dtg / born_xsec_array_4p78_dtg)**2)\n",
    "born_ratio_errors_5p36 = born_ratio_5p36 * np.sqrt((born_errors_5p36_ntg / born_xsec_array_5p36_ntg)**2 + (born_errors_5p36_dtg / born_xsec_array_5p36_dtg)**2)\n",
    "born_ratio_errors_5p878 = born_ratio_5p878 * np.sqrt((born_errors_5p878_ntg / born_xsec_array_5p878_ntg)**2 + (born_errors_5p878_dtg / born_xsec_array_5p878_dtg)**2)\n",
    "born_ratio_errors_6p6 = born_ratio_6p6 * np.sqrt((born_errors_6p6_ntg / born_xsec_array_6p6_ntg)**2 + (born_errors_6p6_dtg / born_xsec_array_6p6_dtg)**2)\n",
    "\n",
    "super_ratio_2p42 = ratio_eprime_2p42_ntg / ratio_eprime_2p42_dtg\n",
    "super_ratio_2p71 = ratio_eprime_2p71_ntg / ratio_eprime_2p71_dtg\n",
    "super_ratio_3p04 = ratio_eprime_3p04_ntg / ratio_eprime_3p04_dtg\n",
    "super_ratio_3p4 = ratio_eprime_3p4_ntg / ratio_eprime_3p4_dtg\n",
    "super_ratio_3p81 = ratio_eprime_3p81_ntg / ratio_eprime_3p81_dtg\n",
    "super_ratio_4p27 = ratio_eprime_4p27_ntg / ratio_eprime_4p27_dtg\n",
    "super_ratio_4p78 = ratio_eprime_4p78_ntg / ratio_eprime_4p78_dtg\n",
    "super_ratio_5p36 = ratio_eprime_5p36_ntg / ratio_eprime_5p36_dtg\n",
    "super_ratio_5p878 = ratio_eprime_5p878_ntg / ratio_eprime_5p878_dtg\n",
    "super_ratio_6p6 = ratio_eprime_6p6_ntg / ratio_eprime_6p6_dtg\n",
    "\n",
    "super_ratio_errors_2p42 = super_ratio_2p42 * np.sqrt((ratio_errors_2p42_ntg / ratio_eprime_2p42_ntg)**2 + (ratio_errors_2p42_dtg / ratio_eprime_2p42_dtg)**2)\n",
    "super_ratio_errors_2p71 = super_ratio_2p71 * np.sqrt((ratio_errors_2p71_ntg / ratio_eprime_2p71_ntg)**2 + (ratio_errors_2p71_dtg / ratio_eprime_2p71_dtg)**2)\n",
    "super_ratio_errors_3p04 = super_ratio_3p04 * np.sqrt((ratio_errors_3p04_ntg / ratio_eprime_3p04_ntg)**2 + (ratio_errors_3p04_dtg / ratio_eprime_3p04_dtg)**2)\n",
    "super_ratio_errors_3p4 = super_ratio_3p4 * np.sqrt((ratio_errors_3p4_ntg / ratio_eprime_3p4_ntg)**2 + (ratio_errors_3p4_dtg / ratio_eprime_3p4_dtg)**2)\n",
    "super_ratio_errors_3p81 = super_ratio_3p81 * np.sqrt((ratio_errors_3p81_ntg / ratio_eprime_3p81_ntg)**2 + (ratio_errors_3p81_dtg / ratio_eprime_3p81_dtg)**2)\n",
    "super_ratio_errors_4p27 = super_ratio_4p27 * np.sqrt((ratio_errors_4p27_ntg / ratio_eprime_4p27_ntg)**2 + (ratio_errors_4p27_dtg / ratio_eprime_4p27_dtg)**2)\n",
    "super_ratio_errors_4p78 = super_ratio_4p78 * np.sqrt((ratio_errors_4p78_ntg / ratio_eprime_4p78_ntg)**2 + (ratio_errors_4p78_dtg / ratio_eprime_4p78_dtg)**2)\n",
    "super_ratio_errors_5p36 = super_ratio_5p36 * np.sqrt((ratio_errors_5p36_ntg / ratio_eprime_5p36_ntg)**2 + (ratio_errors_5p36_dtg / ratio_eprime_5p36_dtg)**2)\n",
    "super_ratio_errors_5p878 = super_ratio_5p878 * np.sqrt((ratio_errors_5p878_ntg / ratio_eprime_5p878_ntg)**2 + (ratio_errors_5p878_dtg / ratio_eprime_5p878_dtg)**2)\n",
    "super_ratio_errors_6p6 = super_ratio_6p6 * np.sqrt((ratio_errors_6p6_ntg / ratio_eprime_6p6_ntg)**2 + (ratio_errors_6p6_dtg / ratio_eprime_6p6_dtg)**2)\n",
    "\n",
    "fig7, ax7 = plt.subplots()\n",
    "# Plot all super_ratio lines first\n",
    "ax7.errorbar(binned_eprime_bin_centers_2p42, super_ratio_2p42, yerr=super_ratio_errors_2p42, fmt='o', color='limegreen', label='Yield Super Ratio')\n",
    "ax7.errorbar(binned_eprime_bin_centers_2p71, super_ratio_2p71, yerr=super_ratio_errors_2p71, fmt='o', color='blue')\n",
    "ax7.errorbar(binned_eprime_bin_centers_3p04, super_ratio_3p04, yerr=super_ratio_errors_3p04, fmt='o', color='green')\n",
    "ax7.errorbar(binned_eprime_bin_centers_3p4, super_ratio_3p4, yerr=super_ratio_errors_3p4, fmt='o', color='orange')\n",
    "ax7.errorbar(binned_eprime_bin_centers_3p81, super_ratio_3p81, yerr=super_ratio_errors_3p81, fmt='o', color='purple')\n",
    "ax7.errorbar(binned_eprime_bin_centers_4p27, super_ratio_4p27, yerr=super_ratio_errors_4p27, fmt='o', color='yellow')\n",
    "ax7.errorbar(binned_eprime_bin_centers_4p78, super_ratio_4p78, yerr=super_ratio_errors_4p78, fmt='o', color='pink')\n",
    "ax7.errorbar(binned_eprime_bin_centers_5p36, super_ratio_5p36, yerr=super_ratio_errors_5p36, fmt='o', color='brown')\n",
    "ax7.errorbar(binned_eprime_bin_centers_5p878, super_ratio_5p878, yerr=super_ratio_errors_5p878, fmt='o', color='cyan')\n",
    "ax7.errorbar(binned_eprime_bin_centers_6p6, super_ratio_6p6, yerr=super_ratio_errors_6p6, fmt='o', color='red')\n",
    "\n",
    "# Plot all born_ratio lines after\n",
    "ax7.errorbar(binned_eprime_bin_centers_2p42, born_ratio_2p42, yerr=born_ratio_errors_2p42, fmt='*', color='limegreen', label='Model Cross Section Ratio')\n",
    "ax7.errorbar(binned_eprime_bin_centers_2p71, born_ratio_2p71, yerr=born_ratio_errors_2p71, fmt='*', color='blue')\n",
    "ax7.errorbar(binned_eprime_bin_centers_3p04, born_ratio_3p04, yerr=born_ratio_errors_3p04, fmt='*', color='green')\n",
    "ax7.errorbar(binned_eprime_bin_centers_3p4, born_ratio_3p4, yerr=born_ratio_errors_3p4, fmt='*', color='orange')\n",
    "ax7.errorbar(binned_eprime_bin_centers_3p81, born_ratio_3p81, yerr=born_ratio_errors_3p81, fmt='*', color='purple')\n",
    "ax7.errorbar(binned_eprime_bin_centers_4p27, born_ratio_4p27, yerr=born_ratio_errors_4p27, fmt='*', color='yellow')\n",
    "ax7.errorbar(binned_eprime_bin_centers_4p78, born_ratio_4p78, yerr=born_ratio_errors_4p78, fmt='*', color='pink')\n",
    "ax7.errorbar(binned_eprime_bin_centers_5p36, born_ratio_5p36, yerr=born_ratio_errors_5p36, fmt='*', color='brown')\n",
    "ax7.errorbar(binned_eprime_bin_centers_5p878, born_ratio_5p878, yerr=born_ratio_errors_5p878, fmt='*', color='cyan')\n",
    "ax7.errorbar(binned_eprime_bin_centers_6p6, born_ratio_6p6, yerr=born_ratio_errors_6p6, fmt='*', color='red')\n",
    "\n",
    "ax7.set_xlabel('Eprime')\n",
    "ax7.set_ylabel('Ratio')\n",
    "ax7.set_title(f'{ntg}/{dtg}@{idang}˚')\n",
    "# ax7.set_yscale('log')\n",
    "ax7.grid(alpha = 0.2)\n",
    "ax7.legend()\n",
    "# fig7.savefig(f'{folder}/super_ratio_{dtg}_{dang}_{start_time:.0f}.png', dpi = 300)"
   ]
  },
  {
   "cell_type": "markdown",
   "id": "6fb51573",
   "metadata": {
    "papermill": {
     "duration": null,
     "end_time": null,
     "exception": null,
     "start_time": null,
     "status": "pending"
    },
    "tags": []
   },
   "source": [
    "<h1 align=\"center\">TAKING CROSS-SECTION RATIOS</h1>"
   ]
  },
  {
   "cell_type": "code",
   "execution_count": null,
   "id": "50134143",
   "metadata": {
    "papermill": {
     "duration": null,
     "end_time": null,
     "exception": null,
     "start_time": null,
     "status": "pending"
    },
    "tags": []
   },
   "outputs": [],
   "source": [
    "nA = target_info[ntg][1]\n",
    "nZ = target_info[ntg][0]\n",
    "dA = target_info[dtg][1]\n",
    "\n",
    "sf = nA / dA\n",
    "print(\"Per-nucleon scaling factor:\", sf)\n",
    "\n",
    "csr_2p42 = born_cross_2p42_ntg / born_cross_2p42_dtg / sf\n",
    "csr_2p71 = born_cross_2p71_ntg / born_cross_2p71_dtg / sf\n",
    "csr_3p04 = born_cross_3p04_ntg / born_cross_3p04_dtg / sf\n",
    "csr_3p4 = born_cross_3p4_ntg / born_cross_3p4_dtg / sf\n",
    "csr_3p81 = born_cross_3p81_ntg / born_cross_3p81_dtg / sf\n",
    "csr_4p27 = born_cross_4p27_ntg / born_cross_4p27_dtg / sf\n",
    "csr_4p78 = born_cross_4p78_ntg / born_cross_4p78_dtg / sf\n",
    "csr_5p36 = born_cross_5p36_ntg / born_cross_5p36_dtg / sf\n",
    "csr_5p878 = born_cross_5p878_ntg / born_cross_5p878_dtg / sf\n",
    "csr_6p6 = born_cross_6p6_ntg / born_cross_6p6_dtg / sf\n",
    "\n",
    "csr_errors_2p42 = csr_2p42 * np.sqrt((born_errors_2p42_ntg / born_cross_2p42_ntg)**2 + (born_errors_2p42_dtg / born_cross_2p42_dtg)**2)\n",
    "csr_errors_2p71 = csr_2p71 * np.sqrt((born_errors_2p71_ntg / born_cross_2p71_ntg)**2 + (born_errors_2p71_dtg / born_cross_2p71_dtg)**2)\n",
    "csr_errors_3p04 = csr_3p04 * np.sqrt((born_errors_3p04_ntg / born_cross_3p04_ntg)**2 + (born_errors_3p04_dtg / born_cross_3p04_dtg)**2)\n",
    "csr_errors_3p4 = csr_3p4 * np.sqrt((born_errors_3p4_ntg / born_cross_3p4_ntg)**2 + (born_errors_3p4_dtg / born_cross_3p4_dtg)**2)\n",
    "csr_errors_3p81 = csr_3p81 * np.sqrt((born_errors_3p81_ntg / born_cross_3p81_ntg)**2 + (born_errors_3p81_dtg / born_cross_3p81_dtg)**2)\n",
    "csr_errors_4p27 = csr_4p27 * np.sqrt((born_errors_4p27_ntg / born_cross_4p27_ntg)**2 + (born_errors_4p27_dtg / born_cross_4p27_dtg)**2)\n",
    "csr_errors_4p78 = csr_4p78 * np.sqrt((born_errors_4p78_ntg / born_cross_4p78_ntg)**2 + (born_errors_4p78_dtg / born_cross_4p78_dtg)**2)\n",
    "csr_errors_5p36 = csr_5p36 * np.sqrt((born_errors_5p36_ntg / born_cross_5p36_ntg)**2 + (born_errors_5p36_dtg / born_cross_5p36_dtg)**2)\n",
    "csr_errors_5p878 = csr_5p878 * np.sqrt((born_errors_5p878_ntg / born_cross_5p878_ntg)**2 + (born_errors_5p878_dtg / born_cross_5p878_dtg)**2)\n",
    "csr_errors_6p6 = csr_6p6 * np.sqrt((born_errors_6p6_ntg / born_cross_6p6_ntg)**2 + (born_errors_6p6_dtg / born_cross_6p6_dtg)**2)\n",
    "\n",
    "fig7, ax7 = plt.subplots()\n",
    "ax7.errorbar(binned_eprime_bin_centers_2p42, csr_2p42, yerr = csr_errors_2p42, fmt = '_', alpha = 0.7, color = 'limegreen', label = '2.42 GeV')\n",
    "ax7.errorbar(binned_eprime_bin_centers_2p71, csr_2p71, yerr = csr_errors_2p71, fmt = '_', alpha = 0.7, color = 'blue', label = '2.71 GeV')\n",
    "ax7.errorbar(binned_eprime_bin_centers_3p04, csr_3p04, yerr = csr_errors_3p04, fmt = '_', alpha = 0.7, color = 'green', label = '3.04 GeV')\n",
    "ax7.errorbar(binned_eprime_bin_centers_3p4, csr_3p4, yerr = csr_errors_3p4, fmt = '_', alpha = 0.7, color = 'orange', label = '3.4 GeV')\n",
    "ax7.errorbar(binned_eprime_bin_centers_3p81, csr_3p81, yerr = csr_errors_3p81, fmt = '_', alpha = 0.7, color = 'purple', label = '3.81 GeV')\n",
    "ax7.errorbar(binned_eprime_bin_centers_4p27, csr_4p27, yerr = csr_errors_4p27, fmt = '_', alpha = 0.7, color = 'yellow', label = '4.27 GeV')\n",
    "ax7.errorbar(binned_eprime_bin_centers_4p78, csr_4p78, yerr = csr_errors_4p78, fmt = '_', alpha = 0.7, color = 'pink', label = '4.78 GeV')\n",
    "ax7.errorbar(binned_eprime_bin_centers_5p36, csr_5p36, yerr = csr_errors_5p36, fmt = '_', alpha = 0.7, color = 'brown', label = '5.36 GeV')\n",
    "ax7.errorbar(binned_eprime_bin_centers_5p878, csr_5p878, yerr = csr_errors_5p878, fmt = '_', alpha = 0.7, color = 'cyan', label = '5.878 GeV')\n",
    "ax7.errorbar(binned_eprime_bin_centers_6p6, csr_6p6, yerr = csr_errors_6p6, fmt = '_', alpha = 0.7, color = 'limegreen', label = '6.6 GeV')\n",
    "ax7.set_xlabel('Eprime')\n",
    "ax7.set_ylabel('Per-nulceon Cross Section Ratio')\n",
    "ax7.set_title(f'{ntg}/{dtg}@{dang}˚')\n",
    "ax7.grid(alpha = 0.2)\n",
    "# ax7.set_ylim(0.82, 1.2)\n",
    "# ax7.legend(loc = 'upper right', bbox_to_anchor = (1.3, 1.0))\n",
    "\n",
    "csr = np.concatenate((csr_2p42, csr_2p71, csr_3p04, csr_3p4, csr_3p81, csr_4p27, csr_4p78, csr_5p36, csr_5p878, csr_6p6))\n",
    "bin_centers = np.concatenate((binned_eprime_bin_centers_2p42, binned_eprime_bin_centers_2p71, binned_eprime_bin_centers_3p04, binned_eprime_bin_centers_3p4, binned_eprime_bin_centers_3p81, binned_eprime_bin_centers_4p27, binned_eprime_bin_centers_4p78, binned_eprime_bin_centers_5p36, binned_eprime_bin_centers_5p878, binned_eprime_bin_centers_6p6))\n",
    "mask = (bin_centers >= 3.23) & (bin_centers <= 5.36) & ~np.isnan(csr)\n",
    "filtered_csr = csr[mask]\n",
    "filtered_bin_centers = bin_centers[mask]\n",
    "\n",
    "slope, intercept, r_value, p_value, std_err = stats.linregress(filtered_bin_centers, filtered_csr)\n",
    "print(\"slope\", slope)\n",
    "# print(\"high point\", slope * np.max(filtered_bin_centers) + intercept)\n",
    "# print(\"low point\", slope * np.min(filtered_bin_centers) + intercept)\n",
    "ax7.plot(filtered_bin_centers, slope * filtered_bin_centers + intercept, 'r')\n",
    "# fig7.savefig(f'{folder}/csr_{ntg}_{dtg}_{dang}_{start_time:.0f}.pdf')"
   ]
  },
  {
   "cell_type": "markdown",
   "id": "393e2e49",
   "metadata": {
    "papermill": {
     "duration": null,
     "end_time": null,
     "exception": null,
     "start_time": null,
     "status": "pending"
    },
    "tags": []
   },
   "source": [
    "<h1 align=\"center\">Converting to Bjorken-x</h1>"
   ]
  },
  {
   "cell_type": "code",
   "execution_count": null,
   "id": "22a24d1d",
   "metadata": {
    "papermill": {
     "duration": null,
     "end_time": null,
     "exception": null,
     "start_time": null,
     "status": "pending"
    },
    "tags": []
   },
   "outputs": [],
   "source": [
    "bin_centers_bjx_2p42 = (4 * Ei * binned_eprime_bin_centers_2p42 * np.sin(dang * np.pi / 180 / 2)**2) / (2 * Mp * (Ei - binned_eprime_bin_centers_2p42))\n",
    "bin_centers_bjx_2p71 = (4 * Ei * binned_eprime_bin_centers_2p71 * np.sin(dang * np.pi / 180 / 2)**2) / (2 * Mp * (Ei - binned_eprime_bin_centers_2p71))\n",
    "bin_centers_bjx_3p04 = (4 * Ei * binned_eprime_bin_centers_3p04 * np.sin(dang * np.pi / 180 / 2)**2) / (2 * Mp * (Ei - binned_eprime_bin_centers_3p04))\n",
    "bin_centers_bjx_3p4 = (4 * Ei * binned_eprime_bin_centers_3p4 * np.sin(dang * np.pi / 180 / 2)**2) / (2 * Mp * (Ei - binned_eprime_bin_centers_3p4))\n",
    "bin_centers_bjx_3p81 = (4 * Ei * binned_eprime_bin_centers_3p81 * np.sin(dang * np.pi / 180 / 2)**2) / (2 * Mp * (Ei - binned_eprime_bin_centers_3p81))\n",
    "bin_centers_bjx_4p27 = (4 * Ei * binned_eprime_bin_centers_4p27 * np.sin(dang * np.pi / 180 / 2)**2) / (2 * Mp * (Ei - binned_eprime_bin_centers_4p27))\n",
    "bin_centers_bjx_4p78 = (4 * Ei * binned_eprime_bin_centers_4p78 * np.sin(dang * np.pi / 180 / 2)**2) / (2 * Mp * (Ei - binned_eprime_bin_centers_4p78))\n",
    "bin_centers_bjx_5p36 = (4 * Ei * binned_eprime_bin_centers_5p36 * np.sin(dang * np.pi / 180 / 2)**2) / (2 * Mp * (Ei - binned_eprime_bin_centers_5p36))\n",
    "bin_centers_bjx_5p878 = (4 * Ei * binned_eprime_bin_centers_5p878 * np.sin(dang * np.pi / 180 / 2)**2) / (2 * Mp * (Ei - binned_eprime_bin_centers_5p878))\n",
    "bin_centers_bjx_6p6 = (4 * Ei * binned_eprime_bin_centers_6p6 * np.sin(dang * np.pi / 180 / 2)**2) / (2 * Mp * (Ei - binned_eprime_bin_centers_6p6))\n",
    "\n",
    "fig8, ax8 = plt.subplots()\n",
    "ax8.errorbar(bin_centers_bjx_2p42, csr_2p42, yerr = csr_errors_2p42, fmt = '_', alpha = 0.7, color = 'limegreen', label = '2.42 GeV')\n",
    "ax8.errorbar(bin_centers_bjx_2p71, csr_2p71, yerr = csr_errors_2p71, fmt = '_', alpha = 0.7, color = 'blue', label = '2.71 GeV')\n",
    "ax8.errorbar(bin_centers_bjx_3p04, csr_3p04, yerr = csr_errors_3p04, fmt = '_', alpha = 0.7, color = 'green', label = '3.04 GeV')\n",
    "ax8.errorbar(bin_centers_bjx_3p4, csr_3p4, yerr = csr_errors_3p4, fmt = '_', alpha = 0.7, color = 'orange', label = '3.4 GeV')\n",
    "ax8.errorbar(bin_centers_bjx_3p81, csr_3p81, yerr = csr_errors_3p81, fmt = '_', alpha = 0.7, color = 'purple', label = '3.81 GeV')\n",
    "ax8.errorbar(bin_centers_bjx_4p27, csr_4p27, yerr = csr_errors_4p27, fmt = '_', alpha = 0.7, color = 'yellow', label = '4.27 GeV')\n",
    "ax8.errorbar(bin_centers_bjx_4p78, csr_4p78, yerr = csr_errors_4p78, fmt = '_', alpha = 0.7, color = 'pink', label = '4.78 GeV')\n",
    "ax8.errorbar(bin_centers_bjx_5p36, csr_5p36, yerr = csr_errors_5p36, fmt = '_', alpha = 0.7, color = 'brown', label = '5.36 GeV')\n",
    "# ax8.errorbar(bin_centers_bjx_5p878, csr_5p878, yerr = csr_errors_5p878, fmt = '_', alpha = 0.7, color = 'cyan', label = '5.878 GeV')\n",
    "# ax8.errorbar(bin_centers_bjx_6p6, csr_6p6, yerr = csr_errors_6p6, fmt = '_', alpha = 0.7, color = 'limegreen', label = '6.6 GeV')\n",
    "ax8.set_xlabel('Bjorken x')\n",
    "ax8.set_ylabel('Per-nulceon Cross Section Ratio')\n",
    "ax8.set_title(f'{ntg}/D@{idang}˚')\n",
    "# ax8.set_ylim(0.75, 1.1)\n",
    "ax8.set_xlim(0.2, 0.9)\n",
    "ax8.grid(alpha = 0.2)\n",
    "\n",
    "bjx_bin_centers = np.concatenate((bin_centers_bjx_2p42, bin_centers_bjx_2p71, bin_centers_bjx_3p04, bin_centers_bjx_3p4, bin_centers_bjx_3p81, bin_centers_bjx_4p27, bin_centers_bjx_4p78, bin_centers_bjx_5p36, bin_centers_bjx_5p878, bin_centers_bjx_6p6))\n",
    "mask = (bjx_bin_centers >= 0.3) & (bjx_bin_centers <= 0.7) & ~np.isnan(csr)\n",
    "filtered_bin_centers = bjx_bin_centers[mask]\n",
    "filtered_csr = csr[mask]\n",
    "\n",
    "slope, intercept, r_value, p_value, std_err = stats.linregress(filtered_bin_centers, filtered_csr)\n",
    "print(\"absolute value of slope\", abs(slope))\n",
    "print(\"EMC Ratio at x = 0.3:\", slope * np.min(filtered_bin_centers) + intercept)\n",
    "_  = ax8.plot(filtered_bin_centers, slope * filtered_bin_centers + intercept, 'r')\n",
    "# fig8.savefig(f'{folder}/emc_{ntg}_{dtg}_{dang}_{start_time:.0f}.pdf')"
   ]
  },
  {
   "cell_type": "code",
   "execution_count": null,
   "id": "0754844f",
   "metadata": {
    "papermill": {
     "duration": null,
     "end_time": null,
     "exception": null,
     "start_time": null,
     "status": "pending"
    },
    "tags": []
   },
   "outputs": [],
   "source": [
    "born_ratio = np.concatenate((born_ratio_2p42, born_ratio_2p71, born_ratio_3p04, born_ratio_3p4, born_ratio_3p81, born_ratio_4p27, born_ratio_4p78, born_ratio_5p36, born_ratio_5p878, born_ratio_6p6))\n",
    "born_error = np.concatenate((born_ratio_errors_2p42, born_ratio_errors_2p71, born_ratio_errors_3p04, born_ratio_errors_3p4, born_ratio_errors_3p81, born_ratio_errors_4p27, born_ratio_errors_4p78, born_ratio_errors_5p36, born_ratio_errors_5p878, born_ratio_errors_6p6))\n",
    "\n",
    "pernucleon_born_ratio = born_ratio / sf\n",
    "pernucleon_born_error = born_error / sf\n",
    "\n",
    "# \n",
    "ax8.errorbar(bjx_bin_centers[bjx_bin_centers < 0.9], pernucleon_born_ratio[bjx_bin_centers < 0.9], yerr = pernucleon_born_error[bjx_bin_centers < 0.9], fmt = '_', alpha = 0.4, color = 'gold', label = 'Born Cross Section Ratio')\n",
    "\n",
    "filtered_born_ratio = pernucleon_born_ratio[mask]\n",
    "model_slope, model_intercept, model_r_value, model_p_value, model_std_err = stats.linregress(filtered_bin_centers, filtered_born_ratio)\n",
    "ax8.plot(filtered_bin_centers, model_slope * filtered_bin_centers + model_intercept, 'r')"
   ]
  },
  {
   "cell_type": "code",
   "execution_count": null,
   "id": "9e4b0986",
   "metadata": {
    "papermill": {
     "duration": null,
     "end_time": null,
     "exception": null,
     "start_time": null,
     "status": "pending"
    },
    "tags": []
   },
   "outputs": [],
   "source": [
    "fig9, ax9 = plt.subplots()\n",
    "ax9.errorbar(bjx_bin_centers[bjx_bin_centers < 0.9], pernucleon_born_ratio[bjx_bin_centers < 0.9], yerr = pernucleon_born_error[bjx_bin_centers < 0.9], fmt = '*', alpha = 0.2, color = 'gold', label = r'$\\sigma_{model}$')\n",
    "ax9.plot(filtered_bin_centers, model_slope * filtered_bin_centers + model_intercept, 'b')\n",
    "ax9.plot(filtered_bin_centers, slope * filtered_bin_centers + intercept, 'r')\n",
    "ax9.errorbar(bin_centers_bjx_2p42, csr_2p42, yerr = csr_errors_2p42, fmt = '_', alpha = 0.7, color = 'limegreen', label = r'$\\sigma_{data}$')\n",
    "ax9.errorbar(bin_centers_bjx_2p71, csr_2p71, yerr = csr_errors_2p71, fmt = '_', alpha = 0.7, color = 'blue')\n",
    "ax9.errorbar(bin_centers_bjx_3p04, csr_3p04, yerr = csr_errors_3p04, fmt = '_', alpha = 0.7, color = 'green')\n",
    "ax9.errorbar(bin_centers_bjx_3p4, csr_3p4, yerr = csr_errors_3p4, fmt = '_', alpha = 0.7, color = 'orange')\n",
    "ax9.errorbar(bin_centers_bjx_3p81, csr_3p81, yerr = csr_errors_3p81, fmt = '_', alpha = 0.7, color = 'purple')\n",
    "ax9.errorbar(bin_centers_bjx_4p27, csr_4p27, yerr = csr_errors_4p27, fmt = '_', alpha = 0.7, color = 'yellow')\n",
    "ax9.errorbar(bin_centers_bjx_4p78, csr_4p78, yerr = csr_errors_4p78, fmt = '_', alpha = 0.7, color = 'pink')\n",
    "ax9.errorbar(bin_centers_bjx_5p36, csr_5p36, yerr = csr_errors_5p36, fmt = '_', alpha = 0.7, color = 'brown')\n",
    "ax9.set_xlabel('Bjorken x')\n",
    "ax9.set_ylabel('Per-nulceon Cross Section Ratio')\n",
    "ax9.set_title(f'{ntg}/D@{idang}˚')\n",
    "ax9.legend()\n",
    "ax9.text(0.4, 0.79, f'Model Slope: {abs(model_slope):.4f}$\\pm${model_std_err:.4f} \\nEMC Slope: {abs(slope):.4f}$\\pm${std_err:.4f} \\n', transform = ax9.transAxes)\n",
    "fig9.savefig(f'{folder}/emcdatamodel_{ntg}_{dtg}_{dang}_{start_time:.0f}.png', dpi = 300)\n",
    "with open(f'{folder}/emcmodelslopes.txt', 'a') as f:\n",
    "    f.write(f'Model Slope {ntg}: {abs(model_slope):.4f}$\\pm${model_std_err:.4f} \\nEMC Slope {ntg}: {abs(slope):.4f}$\\pm${std_err:.4f} \\n')"
   ]
  },
  {
   "cell_type": "markdown",
   "id": "dfa83ed3",
   "metadata": {
    "papermill": {
     "duration": null,
     "end_time": null,
     "exception": null,
     "start_time": null,
     "status": "pending"
    },
    "tags": []
   },
   "source": [
    "# Calculating isoscalar correction factor"
   ]
  },
  {
   "cell_type": "code",
   "execution_count": null,
   "id": "02812c41",
   "metadata": {
    "papermill": {
     "duration": null,
     "end_time": null,
     "exception": null,
     "start_time": null,
     "status": "pending"
    },
    "tags": []
   },
   "outputs": [],
   "source": [
    "all_eprime_bin_centers = np.concatenate((binned_eprime_bin_centers_2p42, binned_eprime_bin_centers_2p71, binned_eprime_bin_centers_3p04, binned_eprime_bin_centers_3p4, binned_eprime_bin_centers_3p81, binned_eprime_bin_centers_4p27, binned_eprime_bin_centers_4p78, binned_eprime_bin_centers_5p36, binned_eprime_bin_centers_5p878, binned_eprime_bin_centers_6p6))\n",
    "all_bjx = np.concatenate((bin_centers_bjx_2p42, bin_centers_bjx_2p71, bin_centers_bjx_3p04, bin_centers_bjx_3p4, bin_centers_bjx_3p81, bin_centers_bjx_4p27, bin_centers_bjx_4p78, bin_centers_bjx_5p36, bin_centers_bjx_5p878, bin_centers_bjx_6p6))\n",
    "isoscalar_all = np.zeros(len(all_eprime_bin_centers))\n",
    "q2_all = 4 * Ei * all_eprime_bin_centers * (np.sin(dang * np.pi / 180 / 2))**2\n",
    "print(f\"The minimum and maximum Q^2 values are {np.min(q2_all):.2f} and {np.max(q2_all):.2f}\")\n",
    "\n",
    "for i in range(len(all_eprime_bin_centers)):\n",
    "    isoscalar_all[i] = jra_nprat(all_bjx[i], q2_all[i])\n",
    "\n",
    "print(\"Average of q2_all\", np.mean(q2_all))\n",
    "print(\"Average of Bjorken x\", np.mean(all_bjx))\n",
    "print(\"Length and average of isoscalar_all\", len(isoscalar_all), np.mean(isoscalar_all))\n",
    "\n",
    "# a = plt.plot(all_bjx[isoscalar_all != 1], isoscalar_all[isoscalar_all != 1], '_', alpha = 0.7, color = 'blue')\n",
    "# plt.xlabel('Bjorken x')\n",
    "# plt.ylabel(r'$F^2_n/F^2_p$')\n",
    "# plt.grid(alpha = 0.2)"
   ]
  },
  {
   "cell_type": "markdown",
   "id": "81c81061",
   "metadata": {
    "papermill": {
     "duration": null,
     "end_time": null,
     "exception": null,
     "start_time": null,
     "status": "pending"
    },
    "tags": []
   },
   "source": [
    "\\begin{equation}\n",
    "    \\text{isoscalar all} = \\frac{\\sigma_n}{\\sigma_p}\n",
    "\\end{equation}"
   ]
  },
  {
   "cell_type": "markdown",
   "id": "469d9e22",
   "metadata": {
    "papermill": {
     "duration": null,
     "end_time": null,
     "exception": null,
     "start_time": null,
     "status": "pending"
    },
    "tags": []
   },
   "source": [
    "# Calculating and Plotting the final Cross-Section Ratios"
   ]
  },
  {
   "cell_type": "markdown",
   "id": "96baf5d3",
   "metadata": {
    "papermill": {
     "duration": null,
     "end_time": null,
     "exception": null,
     "start_time": null,
     "status": "pending"
    },
    "tags": []
   },
   "source": [
    "\\begin{equation}\n",
    "    \\left( \\frac{\\sigma_A}{\\sigma_D} \\right)_{\\text{ISO}} = \\frac{A}{2} \\left( \\frac{1 + \\frac{\\sigma_n}{\\sigma_p}}{Z + N \\frac{\\sigma_n}{\\sigma_p}} \\right) \\frac{\\sigma_A}{\\sigma_D},\n",
    "\\end{equation}\n",
    "\n",
    "\\begin{equation}\n",
    "    \\text{isoscalar factor} = \\frac{A}{2} \\left( \\frac{1 + \\frac{\\sigma_n}{\\sigma_p}}{Z + N \\frac{\\sigma_n}{\\sigma_p}} \\right)\n",
    "\\end{equation}"
   ]
  },
  {
   "cell_type": "code",
   "execution_count": null,
   "id": "7d3e92d8",
   "metadata": {
    "papermill": {
     "duration": null,
     "end_time": null,
     "exception": null,
     "start_time": null,
     "status": "pending"
    },
    "tags": []
   },
   "outputs": [],
   "source": [
    "nN = nA - nZ\n",
    "print(\"nN\", nN)\n",
    "print(\"nZ\", nZ)\n",
    "print(\"nA\", nA)\n",
    "\n",
    "isoscalar_factor = (nA/2 * (1 + isoscalar_all))/(nZ + (nN * isoscalar_all))\n",
    "isoscalar_factor_2p42 = isoscalar_factor[0:len(binned_eprime_bin_centers_2p42)]\n",
    "isoscalar_factor_2p71 = isoscalar_factor[len(binned_eprime_bin_centers_2p42):2 * len(binned_eprime_bin_centers_2p71)]\n",
    "isoscalar_factor_3p04 = isoscalar_factor[2 * len(binned_eprime_bin_centers_2p71):3 * len(binned_eprime_bin_centers_3p04)]\n",
    "isoscalar_factor_3p4 = isoscalar_factor[3 * len(binned_eprime_bin_centers_3p04):4 * len(binned_eprime_bin_centers_3p4)]\n",
    "isoscalar_factor_3p81 = isoscalar_factor[4 * len(binned_eprime_bin_centers_3p4):5 * len(binned_eprime_bin_centers_3p81)]\n",
    "isoscalar_factor_4p27 = isoscalar_factor[5 * len(binned_eprime_bin_centers_3p81):6 * len(binned_eprime_bin_centers_4p27)]\n",
    "isoscalar_factor_4p78 = isoscalar_factor[6 * len(binned_eprime_bin_centers_4p27):7 * len(binned_eprime_bin_centers_4p78)]\n",
    "isoscalar_factor_5p36 = isoscalar_factor[7 * len(binned_eprime_bin_centers_4p78):8 * len(binned_eprime_bin_centers_5p36)]\n",
    "isoscalar_factor_5p878 = isoscalar_factor[8 * len(binned_eprime_bin_centers_5p36):9 * len(binned_eprime_bin_centers_5p878)]\n",
    "isoscalar_factor_6p6 = isoscalar_factor[9 * len(binned_eprime_bin_centers_5p878):10 * len(binned_eprime_bin_centers_6p6)]\n",
    "print(\"Mean of isoscalar_factor\", np.mean(isoscalar_factor))\n",
    "\n",
    "# Apply isoscalar correction to cross-section ratios\n",
    "iso_csr_2p42 = csr_2p42 * isoscalar_factor_2p42\n",
    "iso_csr_2p71 = csr_2p71 * isoscalar_factor_2p71\n",
    "iso_csr_3p04 = csr_3p04 * isoscalar_factor_3p04\n",
    "iso_csr_3p4 = csr_3p4 * isoscalar_factor_3p4\n",
    "iso_csr_3p81 = csr_3p81 * isoscalar_factor_3p81\n",
    "iso_csr_4p27 = csr_4p27 * isoscalar_factor_4p27\n",
    "iso_csr_4p78 = csr_4p78 * isoscalar_factor_4p78\n",
    "iso_csr_5p36 = csr_5p36 * isoscalar_factor_5p36\n",
    "iso_csr_5p878 = csr_5p878 * isoscalar_factor_5p878\n",
    "iso_csr_6p6 = csr_6p6 * isoscalar_factor_6p6\n",
    "\n",
    "plt.plot(bin_centers_bjx_2p42, isoscalar_factor_2p42, '_', alpha = 0.7, color = 'limegreen', label = '2.42 GeV')\n",
    "plt.plot(bin_centers_bjx_2p71, isoscalar_factor_2p71, '_', alpha = 0.7, color = 'blue', label = '2.71 GeV')\n",
    "plt.plot(bin_centers_bjx_3p04, isoscalar_factor_3p04, '_', alpha = 0.7, color = 'green', label = '3.04 GeV')\n",
    "plt.plot(bin_centers_bjx_3p4, isoscalar_factor_3p4, '_', alpha = 0.7, color = 'orange', label = '3.4 GeV')\n",
    "plt.plot(bin_centers_bjx_3p81, isoscalar_factor_3p81, '_', alpha = 0.7, color = 'purple', label = '3.81 GeV')\n",
    "plt.plot(bin_centers_bjx_4p27, isoscalar_factor_4p27, '_', alpha = 0.7, color = 'yellow', label = '4.27 GeV')\n",
    "plt.plot(bin_centers_bjx_4p78, isoscalar_factor_4p78, '_', alpha = 0.7, color = 'pink', label = '4.78 GeV')\n",
    "plt.plot(bin_centers_bjx_5p36, isoscalar_factor_5p36, '_', alpha = 0.7, color = 'brown', label = '5.36 GeV')\n",
    "plt.plot(bin_centers_bjx_5p878, isoscalar_factor_5p878, '_', alpha = 0.7, color = 'cyan', label = '5.878 GeV')\n",
    "plt.grid(alpha = 0.2)\n",
    "plt.xlabel('x')\n",
    "_ = plt.ylabel('Isoscalar Factor')"
   ]
  },
  {
   "cell_type": "code",
   "execution_count": null,
   "id": "ae602667",
   "metadata": {
    "papermill": {
     "duration": null,
     "end_time": null,
     "exception": null,
     "start_time": null,
     "status": "pending"
    },
    "tags": []
   },
   "outputs": [],
   "source": [
    "fig9, ax9 = plt.subplots()\n",
    "ax9.errorbar(bin_centers_bjx_2p42, iso_csr_2p42, yerr = isoscalar_factor_2p42 * csr_errors_2p42, fmt = '_', color = 'limegreen', label = '2.42 GeV')\n",
    "ax9.errorbar(bin_centers_bjx_2p71, iso_csr_2p71, yerr = isoscalar_factor_2p71 * csr_errors_2p71, fmt = '_', color = 'blue', label = '2.71 GeV')\n",
    "ax9.errorbar(bin_centers_bjx_3p04, iso_csr_3p04, yerr = isoscalar_factor_3p04 * csr_errors_3p04, fmt = '_', color = 'green', label = '3.04 GeV')\n",
    "ax9.errorbar(bin_centers_bjx_3p4, iso_csr_3p4, yerr = isoscalar_factor_3p4 * csr_errors_3p4, fmt = '_', color = 'orange', label = '3.4 GeV')\n",
    "ax9.errorbar(bin_centers_bjx_3p81, iso_csr_3p81, yerr = isoscalar_factor_3p81 * csr_errors_3p81, fmt = '_', color = 'purple', label = '3.81 GeV')\n",
    "ax9.errorbar(bin_centers_bjx_4p27, iso_csr_4p27, yerr = isoscalar_factor_4p27 * csr_errors_4p27, fmt = '_', color = 'gold', label = '4.27 GeV')\n",
    "ax9.errorbar(bin_centers_bjx_4p78, iso_csr_4p78, yerr = isoscalar_factor_4p78 * csr_errors_4p78, fmt = '_', color = 'pink', label = '4.78 GeV')\n",
    "ax9.errorbar(bin_centers_bjx_5p36, iso_csr_5p36, yerr = isoscalar_factor_5p36 * csr_errors_5p36, fmt = '_', color = 'brown', label = '5.36 GeV')\n",
    "ax9.errorbar(bin_centers_bjx_5p878, iso_csr_5p878, yerr = isoscalar_factor_5p878 * csr_errors_5p878, fmt = '_', color = 'cyan', label = '5.878 GeV')\n",
    "# ax9.errorbar(bin_centers_bjx_6p6, iso_csr_6p6, yerr = isoscalar_factor_6p6 * csr_errors_6p6, fmt = '_', color = 'limegreen', label = '6.6 GeV')\n",
    "\n",
    "ax9.set_xlabel('Bjorken x')\n",
    "# ax9.set_ylabel(fr'$\\sigma_{ntg}$/{nA}/$\\sigma_D$/2@{dang}˚')\n",
    "ax9.set_ylabel('Isoscalar Corrected Per-nulceon Cross-section Ratio')\n",
    "ax9.set_title(f'{ntg}/D@{idang}˚')\n",
    "ax9.grid(alpha = 0.2)\n",
    "# ax9.legend()\n",
    "\n",
    "iso_csr = np.concatenate((iso_csr_2p42, iso_csr_2p71, iso_csr_3p04, iso_csr_3p4, iso_csr_3p81, iso_csr_4p27, iso_csr_4p78, iso_csr_5p36, iso_csr_5p878, iso_csr_6p6))\n",
    "bin_centers = np.concatenate((bin_centers_bjx_2p42, bin_centers_bjx_2p71, bin_centers_bjx_3p04, bin_centers_bjx_3p4, bin_centers_bjx_3p81, bin_centers_bjx_4p27, bin_centers_bjx_4p78, bin_centers_bjx_5p36, bin_centers_bjx_5p878, bin_centers_bjx_6p6))\n",
    "bin_errors = np.concatenate((isoscalar_factor_2p42 * csr_errors_2p42, isoscalar_factor_2p71 * csr_errors_2p71, isoscalar_factor_3p04 * csr_errors_3p04, isoscalar_factor_3p4 * csr_errors_3p4, isoscalar_factor_3p81 * csr_errors_3p81, isoscalar_factor_4p27 * csr_errors_4p27, isoscalar_factor_4p78 * csr_errors_4p78, isoscalar_factor_5p36 * csr_errors_5p36, isoscalar_factor_5p878 * csr_errors_5p878, isoscalar_factor_6p6 * csr_errors_6p6))\n",
    "filtered_iso_csr = iso_csr[mask]\n",
    "\n",
    "iso_slope, iso_intercept, iso_r_value, iso_p_value, iso_std_err = stats.linregress(filtered_bin_centers, filtered_iso_csr)\n",
    "print(\"Value of isoscalar corrected slope\", iso_slope)\n",
    "norm_3 = iso_slope * np.min(filtered_bin_centers) + iso_intercept\n",
    "# print(\"Error on slope\", iso_std_err)\n",
    "print(\"EMC Ratio at x = 0.3:\", norm_3)\n",
    "ax9.plot(filtered_bin_centers, iso_slope * filtered_bin_centers + iso_intercept, 'r')\n",
    "# ax9.set_ylim(0.6, 0.9)\n",
    "# ax9.set_xlim(0.15, 1.0)\n",
    "ax9.text(0.4, 0.79, f'Slope: {abs(iso_slope):.4f}$\\pm${iso_std_err:.4f} \\n', transform = ax9.transAxes)\n",
    "# fig9.savefig(f'{folder}/isoscalarcorrected_emc_{ntg}_{idang}_{folder}{start_time:.0f}.pdf')"
   ]
  },
  {
   "cell_type": "markdown",
   "id": "5c0e1248",
   "metadata": {
    "papermill": {
     "duration": null,
     "end_time": null,
     "exception": null,
     "start_time": null,
     "status": "pending"
    },
    "tags": []
   },
   "source": [
    "# Write the final cross-section ratios to a file"
   ]
  },
  {
   "cell_type": "code",
   "execution_count": null,
   "id": "f4e7b255",
   "metadata": {
    "papermill": {
     "duration": null,
     "end_time": null,
     "exception": null,
     "start_time": null,
     "status": "pending"
    },
    "tags": []
   },
   "outputs": [],
   "source": [
    "filepath = f\"{folder}/csr_{ntg}_{dtg}_{idang}.txt\"\n",
    "# with open(filepath, \"w\") as file:\n",
    "#     for i in range(len(bin_centers)):\n",
    "#         file.write(f\"{bin_centers[i]}\\t{iso_csr[i]}\\t{bin_errors[i]}\\n\")"
   ]
  },
  {
   "cell_type": "code",
   "execution_count": null,
   "id": "f3da4503",
   "metadata": {
    "papermill": {
     "duration": null,
     "end_time": null,
     "exception": null,
     "start_time": null,
     "status": "pending"
    },
    "tags": []
   },
   "outputs": [],
   "source": [
    "minutes = (time.time() - start_time) / 60\n",
    "print(f\"Time taken: {minutes:.2f} minutes\")\n",
    "# baja()"
   ]
  },
  {
   "cell_type": "code",
   "execution_count": null,
   "id": "b3812565",
   "metadata": {
    "papermill": {
     "duration": null,
     "end_time": null,
     "exception": null,
     "start_time": null,
     "status": "pending"
    },
    "tags": []
   },
   "outputs": [],
   "source": []
  }
 ],
 "metadata": {
  "kernelspec": {
   "display_name": "root_env",
   "language": "python",
   "name": "python3"
  },
  "language_info": {
   "codemirror_mode": {
    "name": "ipython",
    "version": 3
   },
   "file_extension": ".py",
   "mimetype": "text/x-python",
   "name": "python",
   "nbconvert_exporter": "python",
   "pygments_lexer": "ipython3",
   "version": "3.10.13"
  },
  "papermill": {
   "default_parameters": {},
   "duration": 64.828716,
   "end_time": "2024-11-20T19:19:22.012545",
   "environment_variables": {},
   "exception": true,
   "input_path": "dnp_xsec.ipynb",
   "output_path": "output_notebook_Ag108.ipynb",
   "parameters": {
    "ntg": "Ag108"
   },
   "start_time": "2024-11-20T19:18:17.183829",
   "version": "2.6.0"
  }
 },
 "nbformat": 4,
 "nbformat_minor": 5
}