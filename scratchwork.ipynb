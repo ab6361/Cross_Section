{
 "cells": [
  {
   "cell_type": "markdown",
   "metadata": {},
   "source": [
    "\\text{From Supplemental Material} \\\\\n",
    "\\begin{equation}\n",
    "    \\frac{\\sigma_{A1}/A_1}{\\sigma_{A2}/A_2} = \\frac{A_2^2}{A_1^2} \\frac{\\alpha_1 + \\beta_1}{\\alpha_2 + \\beta}\n",
    "\\end{equation}(\\text{Assuming isospin independence}) \\\\\n",
    "\\\\\n",
    "$A_1 = 48$ \\\\\n",
    "$A_2 = 40$ \\\\\n",
    "\\begin{equation*}\n",
    "    \\frac{\\sigma_{48}/48}{\\sigma_{40}/40} = \\frac{40^2}{48^2} \\frac{\\alpha_{1} + \\beta_{1}}{\\alpha_{2} + \\beta_{2}} \n",
    "\\end{equation*}\n",
    "\\begin{equation*}\n",
    "    \\frac{\\sigma_{48}}{\\sigma_{40}} = 0.694 \\frac{\\alpha_{1} + \\beta_{1}}{\\alpha_{2} + \\beta_{2}}\n",
    "\\end{equation*}\n",
    "\\begin{equation*}\n",
    "    \\alpha_{1} = 28 \\times 20 \\times (1+2.6) = 2016\n",
    "\\end{equation*}\n",
    "\\begin{equation*}\n",
    "    \\beta_{1} = 20 \\times 19 \\times 2.6 + 28 \\times 27 = 1744\n",
    "\\end{equation*}\n",
    "\\begin{equation*}\n",
    "    \\alpha_{2} = 20 \\times 20 \\times (1+2.6) = 1440\n",
    "\\end{equation*}\n",
    "\\begin{equation*}\n",
    "    \\beta_{2} = 20 \\times 19 \\times 2.6 + 20 \\times 19 = 1368\n",
    "\\end{equation*}\n",
    "\\begin{equation*}\n",
    "    \\frac{\\sigma_{48}}{\\sigma_{40}} = 0.694 \\times \\frac{3760}{2808} = 0.929\n",
    "\\end{equation*}\n",
    "\n",
    "\\begin{equation*}\n",
    "    \\alpha_1 = 5 \\times 5 \\times (1+2.6) = 90\n",
    "\\end{equation*}\n",
    "\\begin{equation*}\n",
    "    \\beta_1 = 5 \\times 4 \\times 2.6 + 5 \\times 4 = 72\n",
    "\\end{equation*}\n",
    "\\begin{equation*}\n",
    "    \\alpha_2 = 6 \\times 5 \\times (1+2.6) = 108\n",
    "\\end{equation*}\n",
    "\\begin{equation*}\n",
    "    \\beta_2 = 5 \\times 4 \\times 2.6 + 6 \\times 5 = 82\n",
    "\\end{equation*}"
   ]
  },
  {
   "cell_type": "code",
   "execution_count": 1,
   "metadata": {},
   "outputs": [
    {
     "name": "stdout",
     "output_type": "stream",
     "text": [
      "Key used: 2.42\n",
      "[0 1 1 1 1 1]\n",
      "[0 1 2 3 4 5 6]\n"
     ]
    }
   ],
   "source": [
    "import numpy as np\n",
    "\n",
    "def get_hist_data(hist_dict, bins):\n",
    "    if not hist_dict:\n",
    "        return \"Dictionary is empty\", None\n",
    "    \n",
    "    # Get the first key-value pair\n",
    "    key, hist = next(iter(hist_dict.items()))\n",
    "    bin_contents, bin_edges = np.histogram(hist, bins=bins)\n",
    "    return bin_contents, bin_edges, key\n",
    "\n",
    "# Example usage\n",
    "delta_hist = {\n",
    "    2.42: [1, 2, 3, 4, 5],\n",
    "    3.14: [2, 3, 4, 5, 6]\n",
    "}\n",
    "data_delta = [0, 1, 2, 3, 4, 5, 6]\n",
    "\n",
    "delta_bin_contents, delta_bin_edges, key_used = get_hist_data(delta_hist, data_delta)\n",
    "print(f\"Key used: {key_used}\")            # Output: Key used: 2.42\n",
    "print(delta_bin_contents)                 # Output: [1 1 1 1 1 0]\n",
    "print(delta_bin_edges)                    # Output: [0 1 2 3 4 5 6]"
   ]
  },
  {
   "cell_type": "code",
   "execution_count": 18,
   "metadata": {},
   "outputs": [
    {
     "data": {
      "text/plain": [
       "numpy.float64"
      ]
     },
     "execution_count": 18,
     "metadata": {},
     "output_type": "execute_result"
    }
   ],
   "source": [
    "import numpy as np\n",
    "\n",
    "def read_report(mom, tg):\n",
    "    # Placeholder for the read_report function\n",
    "    # Implement the actual logic here\n",
    "    return 1.0  # Example return value\n",
    "\n",
    "def get_hist_data(dict, dang, bins, tg):\n",
    "    if dang == 20.0:\n",
    "        dmom = [2.42, 2.71, 3.04, 3.40, 3.81, 4.27, 4.78, 5.36, 5.878, 6.6]  # Desired central momenta\n",
    "    \n",
    "    results = []  # To store results for each momentum\n",
    "    \n",
    "    for mom in dmom:\n",
    "        if mom in dict:  # Check if mom is in the dictionary\n",
    "            array = dict[mom]\n",
    "            bin_contents = (np.histogram(array, bins=bins)[0]).astype(float)\n",
    "            prod_scale = read_report(mom, tg)\n",
    "            bin_errors = np.sqrt(bin_contents) * prod_scale\n",
    "            results.append((mom, bin_contents, bin_errors))\n",
    "    \n",
    "    return results  # Return results as a list of tuples\n",
    "\n",
    "# Example usage\n",
    "delta_hist = {\n",
    "    2.42: [1, 2, 3, 4, 5],\n",
    "    2.71: [2, 3, 4, 5, 6],\n",
    "    3.04: [1, 3, 4, 2, 5],\n",
    "    # Add more data as needed\n",
    "}\n",
    "\n",
    "data_delta = [0, 1, 2, 3, 4, 5, 6]\n",
    "dang_value = 20.0\n",
    "tg_value = \"some_target\"\n",
    "\n",
    "results = get_hist_data(delta_hist, dang_value, data_delta, tg_value)\n",
    "bin_contents_2p42 = results[0][1]\n",
    "bin_errors_2p42 = results[0][2]\n",
    "type(bin_contents_2p42[0])"
   ]
  },
  {
   "cell_type": "code",
   "execution_count": null,
   "metadata": {},
   "outputs": [],
   "source": []
  }
 ],
 "metadata": {
  "kernelspec": {
   "display_name": "root_env",
   "language": "python",
   "name": "python3"
  },
  "language_info": {
   "codemirror_mode": {
    "name": "ipython",
    "version": 3
   },
   "file_extension": ".py",
   "mimetype": "text/x-python",
   "name": "python",
   "nbconvert_exporter": "python",
   "pygments_lexer": "ipython3",
   "version": "3.10.13"
  }
 },
 "nbformat": 4,
 "nbformat_minor": 2
}
