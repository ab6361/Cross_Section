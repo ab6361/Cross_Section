{
 "cells": [
  {
   "cell_type": "markdown",
   "metadata": {},
   "source": [
    "\\text{From Supplemental Material} \\\\\n",
    "\\begin{equation}\n",
    "    \\frac{\\sigma_{A1}/A_1}{\\sigma_{A2}/A_2} = \\frac{A_2^2}{A_1^2} \\frac{\\alpha_1 + \\beta_1}{\\alpha_2 + \\beta}\n",
    "\\end{equation}(\\text{Assuming isospin independence}) \\\\\n",
    "\\\\\n",
    "$A_1 = 48$ \\\\\n",
    "$A_2 = 40$ \\\\\n",
    "\\begin{equation*}\n",
    "    \\frac{\\sigma_{48}/48}{\\sigma_{40}/40} = \\frac{40^2}{48^2} \\frac{\\alpha_{1} + \\beta_{1}}{\\alpha_{2} + \\beta_{2}} \n",
    "\\end{equation*}\n",
    "\\begin{equation*}\n",
    "    \\frac{\\sigma_{48}}{\\sigma_{40}} = 0.694 \\frac{\\alpha_{1} + \\beta_{1}}{\\alpha_{2} + \\beta_{2}}\n",
    "\\end{equation*}\n",
    "\\begin{equation*}\n",
    "    \\alpha_{1} = 28 \\times 20 \\times (1+2.6) = 2016\n",
    "\\end{equation*}\n",
    "\\begin{equation*}\n",
    "    \\beta_{1} = 20 \\times 19 \\times 2.6 + 28 \\times 27 = 1744\n",
    "\\end{equation*}\n",
    "\\begin{equation*}\n",
    "    \\alpha_{2} = 20 \\times 20 \\times (1+2.6) = 1440\n",
    "\\end{equation*}\n",
    "\\begin{equation*}\n",
    "    \\beta_{2} = 20 \\times 19 \\times 2.6 + 20 \\times 19 = 1368\n",
    "\\end{equation*}\n",
    "\\begin{equation*}\n",
    "    \\frac{\\sigma_{48}}{\\sigma_{40}} = 0.694 \\times \\frac{3760}{2808} = 0.929\n",
    "\\end{equation*}\n",
    "\n",
    "\\begin{equation*}\n",
    "    \\alpha_1 = 5 \\times 5 \\times (1+2.6) = 90\n",
    "\\end{equation*}\n",
    "\\begin{equation*}\n",
    "    \\beta_1 = 5 \\times 4 \\times 2.6 + 5 \\times 4 = 72\n",
    "\\end{equation*}\n",
    "\\begin{equation*}\n",
    "    \\alpha_2 = 6 \\times 5 \\times (1+2.6) = 108\n",
    "\\end{equation*}\n",
    "\\begin{equation*}\n",
    "    \\beta_2 = 5 \\times 4 \\times 2.6 + 6 \\times 5 = 82\n",
    "\\end{equation*}"
   ]
  },
  {
   "cell_type": "code",
   "execution_count": null,
   "metadata": {},
   "outputs": [],
   "source": []
  }
 ],
 "metadata": {
  "language_info": {
   "name": "python"
  }
 },
 "nbformat": 4,
 "nbformat_minor": 2
}
